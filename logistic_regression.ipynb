{
 "cells": [
  {
   "cell_type": "code",
   "execution_count": 12,
   "metadata": {},
   "outputs": [
    {
     "name": "stdout",
     "output_type": "stream",
     "text": [
      "JAVA_HOME: /Library/Java/JavaVirtualMachines/jdk-17.jdk/Contents/Home\n",
      "java version \"17.0.8\" 2023-07-18 LTS\n",
      "Java(TM) SE Runtime Environment (build 17.0.8+9-LTS-211)\n",
      "Java HotSpot(TM) 64-Bit Server VM (build 17.0.8+9-LTS-211, mixed mode, sharing)\n"
     ]
    }
   ],
   "source": [
    "import os\n",
    "import subprocess\n",
    "\n",
    "java_home = subprocess.check_output([\"/usr/libexec/java_home\", \"-v\", \"17\"]).strip().decode('utf-8')\n",
    "\n",
    "# Set JAVA_HOME and PATH\n",
    "os.environ[\"JAVA_HOME\"] = java_home\n",
    "os.environ[\"PATH\"] = os.path.join(java_home, \"bin\") + \":\" + os.environ[\"PATH\"]\n",
    "os.environ[\"PYSPARK_SUBMIT_ARGS\"] = \"--master local pyspark-shell\"\n",
    "\n",
    "# Verify JAVA_HOME and Java version\n",
    "print(\"JAVA_HOME:\", os.environ['JAVA_HOME'])\n",
    "!java -version"
   ]
  },
  {
   "cell_type": "code",
   "execution_count": 13,
   "metadata": {},
   "outputs": [],
   "source": [
    "from pyspark.sql import SparkSession\n",
    "\n",
    "spark = SparkSession.builder \\\n",
    "    .appName(\"Logistic_Regression\") \\\n",
    "    .config(\"spark.executor.memory\", \"4g\") \\\n",
    "    .config(\"spark.driver.memory\", \"4g\") \\\n",
    "    .config(\"spark.executor.cores\", \"4\") \\\n",
    "    .config(\"spark.executor.instances\", \"4\") \\\n",
    "    .getOrCreate()"
   ]
  },
  {
   "cell_type": "code",
   "execution_count": 14,
   "metadata": {},
   "outputs": [],
   "source": [
    "file_path = \"output/processedv3.parquet\"\n",
    "df = spark.read.parquet(file_path)"
   ]
  },
  {
   "cell_type": "code",
   "execution_count": 15,
   "metadata": {},
   "outputs": [
    {
     "name": "stdout",
     "output_type": "stream",
     "text": [
      "+-------+--------+--------+-------+------+--------+--------+--------+--------+-------+--------+--------+--------+-----+--------+--------+--------+--------+--------+---+\n",
      "|GENHLTH|_AGEG5YR|_RFHYPE6|EMPLOY1|_MICHD|_DRDXAR2|_HCVU653|_RFCHOL3|METVL12_|ALCDAY4|_BMI5CAT|DIFFWALK|_TOTINDA|EDUCA|_INCOMG1|CHCKDNY2|FALL12MN|SMOKE100|CVDINFR4|  y|\n",
      "+-------+--------+--------+-------+------+--------+--------+--------+--------+-------+--------+--------+--------+-----+--------+--------+--------+--------+--------+---+\n",
      "|    2.0|     9.0|     1.0|    2.0|   2.0|     2.0|     1.0|     2.0|   106.0|  220.0|     2.0|     2.0|     1.0|  6.0|     5.0|     2.0|     2.0|     2.0|     2.0|  0|\n",
      "|    3.0|     8.0|     1.0|    1.0|   2.0|     2.0|     1.0|     1.0|   104.0|  210.0|     4.0|     2.0|     1.0|  6.0|     5.0|     2.0|    88.0|     2.0|     2.0|  0|\n",
      "|    3.0|     7.0|     2.0|    1.0|   2.0|     2.0|     1.0|     2.0|   103.0|  888.0|     4.0|     1.0|     1.0|  4.0|     2.0|     2.0|    88.0|     1.0|     2.0|  1|\n",
      "|    3.0|     9.0|     1.0|    1.0|   2.0|     1.0|     1.0|     2.0|     2.0|  203.0|     4.0|     2.0|     2.0|  6.0|     1.0|     2.0|    88.0|     1.0|     2.0|  0|\n",
      "|    3.0|     8.0|     1.0|    1.0|   2.0|     1.0|     1.0|     1.0|   103.0|  888.0|     3.0|     2.0|     1.0|  6.0|     2.0|     2.0|    88.0|     2.0|     2.0|  0|\n",
      "+-------+--------+--------+-------+------+--------+--------+--------+--------+-------+--------+--------+--------+-----+--------+--------+--------+--------+--------+---+\n",
      "only showing top 5 rows\n",
      "\n",
      "root\n",
      " |-- GENHLTH: double (nullable = true)\n",
      " |-- _AGEG5YR: double (nullable = true)\n",
      " |-- _RFHYPE6: double (nullable = true)\n",
      " |-- EMPLOY1: double (nullable = true)\n",
      " |-- _MICHD: double (nullable = true)\n",
      " |-- _DRDXAR2: double (nullable = true)\n",
      " |-- _HCVU653: double (nullable = true)\n",
      " |-- _RFCHOL3: double (nullable = true)\n",
      " |-- METVL12_: double (nullable = true)\n",
      " |-- ALCDAY4: double (nullable = true)\n",
      " |-- _BMI5CAT: double (nullable = true)\n",
      " |-- DIFFWALK: double (nullable = true)\n",
      " |-- _TOTINDA: double (nullable = true)\n",
      " |-- EDUCA: double (nullable = true)\n",
      " |-- _INCOMG1: double (nullable = true)\n",
      " |-- CHCKDNY2: double (nullable = true)\n",
      " |-- FALL12MN: double (nullable = true)\n",
      " |-- SMOKE100: double (nullable = true)\n",
      " |-- CVDINFR4: double (nullable = true)\n",
      " |-- y: integer (nullable = true)\n",
      "\n"
     ]
    }
   ],
   "source": [
    "df.show(5)\n",
    "df.printSchema()"
   ]
  },
  {
   "cell_type": "code",
   "execution_count": 16,
   "metadata": {},
   "outputs": [
    {
     "name": "stdout",
     "output_type": "stream",
     "text": [
      "Dimensions of DataFrame: 95574 rows, 20 columns\n"
     ]
    }
   ],
   "source": [
    "num_columns = len(df.columns)\n",
    "num_rows = df.count()\n",
    "# Print the dimensions\n",
    "print(f\"Dimensions of DataFrame: {num_rows} rows, {num_columns} columns\")"
   ]
  },
  {
   "cell_type": "code",
   "execution_count": 17,
   "metadata": {},
   "outputs": [],
   "source": [
    "from pyspark.ml.feature import VectorAssembler\n",
    "from pyspark.ml.classification import LogisticRegression\n",
    "from pyspark.ml.evaluation import BinaryClassificationEvaluator\n",
    "from pyspark.ml.tuning import ParamGridBuilder, CrossValidator\n",
    "\n",
    "# Combine feature columns into a single vector column\n",
    "feature_cols = df.columns\n",
    "feature_cols.remove(\"y\")\n",
    "\n",
    "assembler = VectorAssembler(inputCols=feature_cols, outputCol=\"features\")\n",
    "data = assembler.transform(df)\n",
    "\n",
    "# Split the data\n",
    "train_data, test_data = data.randomSplit([0.8, 0.2], seed=42)\n",
    "\n",
    "# Create LogisticRegression model\n",
    "lr = LogisticRegression(featuresCol=\"features\", labelCol=\"y\")\n",
    "\n",
    "# Create ParamGrid for Cross Validation\n",
    "paramGrid = ParamGridBuilder() \\\n",
    "    .addGrid(lr.regParam, [0.01, 0.1, 0.3]) \\\n",
    "    .addGrid(lr.elasticNetParam, [0.0, 0.5, 1.0]) \\\n",
    "    .addGrid(lr.maxIter, [10, 20, 30]) \\\n",
    "    .build()\n",
    "\n",
    "# Create evaluator\n",
    "evaluator = BinaryClassificationEvaluator(labelCol=\"y\")\n",
    "\n",
    "# Create CrossValidator\n",
    "cv = CrossValidator(estimator=lr,\n",
    "                   estimatorParamMaps=paramGrid,\n",
    "                   evaluator=evaluator,\n",
    "                   numFolds=5,\n",
    "                   seed=42)\n",
    "                   "
   ]
  },
  {
   "cell_type": "code",
   "execution_count": 18,
   "metadata": {},
   "outputs": [
    {
     "name": "stderr",
     "output_type": "stream",
     "text": [
      "                                                                                \r"
     ]
    }
   ],
   "source": [
    "# Fit the model\n",
    "cv_model = cv.fit(train_data)\n",
    "\n",
    "# Make predictions on test data\n",
    "predictions = cv_model.transform(test_data)"
   ]
  },
  {
   "cell_type": "code",
   "execution_count": 19,
   "metadata": {},
   "outputs": [
    {
     "name": "stderr",
     "output_type": "stream",
     "text": [
      "[Stage 7590:>                                                       (0 + 1) / 1]\r"
     ]
    },
    {
     "name": "stdout",
     "output_type": "stream",
     "text": [
      "AUC: 0.8000791513594122\n",
      "Best Model Parameters:\n",
      "RegParam: 0.01\n",
      "ElasticNetParam: 0.0\n",
      "MaxIter: 10\n"
     ]
    },
    {
     "name": "stderr",
     "output_type": "stream",
     "text": [
      "                                                                                \r"
     ]
    }
   ],
   "source": [
    "# Evaluate the model\n",
    "auc = evaluator.evaluate(predictions)\n",
    "print(f\"AUC: {auc}\")\n",
    "\n",
    "# Get the best model parameters\n",
    "best_model = cv_model.bestModel\n",
    "print(\"Best Model Parameters:\")\n",
    "print(f\"RegParam: {best_model.getRegParam()}\")\n",
    "print(f\"ElasticNetParam: {best_model.getElasticNetParam()}\")\n",
    "print(f\"MaxIter: {best_model.getMaxIter()}\")"
   ]
  },
  {
   "cell_type": "code",
   "execution_count": 20,
   "metadata": {},
   "outputs": [
    {
     "name": "stdout",
     "output_type": "stream",
     "text": [
      "+---+--------------------+----------+--------------------+\n",
      "|  y|         probability|prediction|            features|\n",
      "+---+--------------------+----------+--------------------+\n",
      "|  0|[0.97842701880622...|       0.0|[1.0,6.0,1.0,1.0,...|\n",
      "|  0|[0.95865816786460...|       0.0|[1.0,6.0,1.0,1.0,...|\n",
      "|  0|[0.98223183069409...|       0.0|[1.0,6.0,1.0,1.0,...|\n",
      "|  0|[0.94030032986410...|       0.0|[1.0,6.0,1.0,1.0,...|\n",
      "|  0|[0.98872182512644...|       0.0|[1.0,6.0,1.0,1.0,...|\n",
      "+---+--------------------+----------+--------------------+\n",
      "only showing top 5 rows\n",
      "\n"
     ]
    },
    {
     "name": "stderr",
     "output_type": "stream",
     "text": [
      "                                                                                \r"
     ]
    }
   ],
   "source": [
    "predictions.select(\"y\", \"probability\", \"prediction\", \"features\").show(5)"
   ]
  },
  {
   "cell_type": "code",
   "execution_count": 21,
   "metadata": {},
   "outputs": [
    {
     "name": "stdout",
     "output_type": "stream",
     "text": [
      "True Negative count: 15899\n",
      "False Positive count: 382\n",
      "False Negative count: 2485\n",
      "True Positive count: 470\n",
      "Precision: 0.5516431924882629\n",
      "Recall: 0.15905245346869712\n"
     ]
    }
   ],
   "source": [
    "# Calculate the confusion matrix\n",
    "true_negative = predictions.filter(\"y=0\").filter(\"prediction=0\").count()\n",
    "print(f\"True Negative count: {true_negative}\")\n",
    "false_positive = predictions.filter(\"y=0\").filter(\"prediction=1\").count()\n",
    "print(f\"False Positive count: {false_positive}\")\n",
    "false_negative = predictions.filter(\"y=1\").filter(\"prediction=0\").count()\n",
    "print(f\"False Negative count: {false_negative}\")\n",
    "true_positive = predictions.filter(\"y=1\").filter(\"prediction=1\").count()\n",
    "print(f\"True Positive count: {true_positive}\")\n",
    "\n",
    "# Calculate the Precision & Recall\n",
    "precision = true_positive/(true_positive+false_positive)\n",
    "print(f\"Precision: {precision}\")\n",
    "recall = true_positive/(true_positive+false_negative)\n",
    "print(f\"Recall: {recall}\")"
   ]
  },
  {
   "cell_type": "code",
   "execution_count": 22,
   "metadata": {},
   "outputs": [
    {
     "data": {
      "image/png": "[encoded data removed]",
      "text/plain": [
       "<Figure size 640x480 with 2 Axes>"
      ]
     },
     "metadata": {},
     "output_type": "display_data"
    }
   ],
   "source": [
    "#Plot the confusion matrix\n",
    "from pyspark.sql.types import IntegerType\n",
    "import matplotlib.pyplot as plt\n",
    "import numpy as np\n",
    "from sklearn import metrics\n",
    "\n",
    "actual = np.array(test_data.select(\"y\").collect())\n",
    "predicted = predictions.withColumn(\"prediction\", predictions[\"prediction\"].cast(IntegerType()))\n",
    "predicted = np.array(predicted.select(\"prediction\").collect())\n",
    "\n",
    "confusion_matrix = metrics.confusion_matrix(actual, predicted)\n",
    "\n",
    "cm_display = metrics.ConfusionMatrixDisplay(confusion_matrix = confusion_matrix, display_labels = [0, 1])\n",
    "\n",
    "cm_display.plot()\n",
    "plt.show()"
   ]
  }
 ],
 "metadata": {
  "kernelspec": {
   "display_name": "Python 3.9.6 64-bit",
   "language": "python",
   "name": "python3"
  },
  "language_info": {
   "codemirror_mode": {
    "name": "ipython",
    "version": 3
   },
   "file_extension": ".py",
   "mimetype": "text/x-python",
   "name": "python",
   "nbconvert_exporter": "python",
   "pygments_lexer": "ipython3",
   "version": "3.9.6"
  },
  "orig_nbformat": 4,
  "vscode": {
   "interpreter": {
    "hash": "31f2aee4e71d21fbe5cf8b01ff0e069b9275f58929596ceb00d14d90e3e16cd6"
   }
  }
 },
 "nbformat": 4,
 "nbformat_minor": 2
}
