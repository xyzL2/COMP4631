{
 "cells": [
  {
   "cell_type": "code",
   "execution_count": null,
   "metadata": {},
   "outputs": [],
   "source": [
    "from pyspark.sql import SparkSession\n",
    "from pyspark.sql import functions as F\n",
    "\n",
    "spark = SparkSession.builder \\\n",
    "    .appName(\"CBRFSS\") \\\n",
    "    .config(\"spark.executor.memory\", \"4g\") \\\n",
    "    .config(\"spark.driver.memory\", \"4g\") \\\n",
    "    .config(\"spark.executor.cores\", \"4\") \\\n",
    "    .config(\"spark.executor.instances\", \"4\") \\\n",
    "    .getOrCreate()\n"
   ]
  },
  {
   "cell_type": "code",
   "execution_count": null,
   "metadata": {},
   "outputs": [],
   "source": [
    "file_path = \"output/processedv3.parquet\"\n",
    "\n",
    "df = spark.read.parquet(file_path)\n",
    "\n",
    "df_filled = df.na.drop()\n",
    "train_df, test_df = df_filled.randomSplit([0.8, 0.2], seed=1)\n",
    "# Show the counts of each split\n",
    "print(f\"Training set count: {train_df.count()}\")\n",
    "print(f\"Test set count: {test_df.count()}\")"
   ]
  },
  {
   "cell_type": "code",
   "execution_count": null,
   "metadata": {},
   "outputs": [],
   "source": [
    "from pyspark.ml.feature import VectorAssembler, OneHotEncoder\n",
    "from pyspark.ml.classification import DecisionTreeClassifier\n",
    "from pyspark.ml.evaluation import MulticlassClassificationEvaluator\n",
    "from pyspark.ml.tuning import CrossValidator, ParamGridBuilder\n",
    "from pyspark.sql import functions as F\n",
    "from pyspark.ml.evaluation import MulticlassClassificationEvaluator\n",
    "\n",
    "\n",
    "# Categorical features\n",
    "categorical_features = [\"EMPLOY1\", \"ALCDAY4\", \"FALL12MN\"]\n",
    "\n",
    "# One-Hot Encoding\n",
    "encoder = OneHotEncoder(\n",
    "    inputCols=categorical_features,\n",
    "    outputCols=[feature + \"_ohe\" for feature in categorical_features],\n",
    ")\n",
    "\n",
    "# Fit and transform the encoder on the training data\n",
    "encoder_model = encoder.fit(train_df)\n",
    "train_df = encoder_model.transform(train_df)\n",
    "test_df = encoder_model.transform(test_df)\n",
    "\n",
    "# Remove original categorical features\n",
    "train_df = train_df.drop(*categorical_features)\n",
    "test_df = test_df.drop(*categorical_features)\n",
    "\n",
    "# Prepare feature columns (include one-hot encoded columns)\n",
    "feature_columns = [col for col in train_df.columns if col != \"y\"]\n",
    "\n",
    "# Assemble features into a single vector\n",
    "assembler = VectorAssembler(inputCols=feature_columns, outputCol=\"features\")\n",
    "train_data = assembler.transform(train_df)\n",
    "test_data = assembler.transform(test_df)"
   ]
  },
  {
   "cell_type": "code",
   "execution_count": null,
   "metadata": {},
   "outputs": [],
   "source": [
    "# Decision tree\n",
    "\n",
    "decision_tree = DecisionTreeClassifier(featuresCol=\"features\", labelCol=\"y\")\n",
    "\n",
    "# Set up hyperparameter tuning\n",
    "paramGrid = (\n",
    "    ParamGridBuilder()\n",
    "    .addGrid(decision_tree.maxDepth, [5, 6, 7])\n",
    "    .addGrid(decision_tree.minInstancesPerNode, [1, 2, 3])\n",
    "    .build()\n",
    ")\n",
    "\n",
    "# Set up cross-validation\n",
    "evaluator = MulticlassClassificationEvaluator(\n",
    "    labelCol=\"y\", predictionCol=\"prediction\", metricName=\"accuracy\"\n",
    ")\n",
    "crossval = CrossValidator(\n",
    "    estimator=decision_tree,\n",
    "    estimatorParamMaps=paramGrid,\n",
    "    evaluator=evaluator,\n",
    "    numFolds=5,\n",
    ")\n",
    "\n",
    "# Train the model using Cross-Validation\n",
    "cv_model = crossval.fit(train_data)\n",
    "\n",
    "# Evaluate on the test set\n",
    "test_predictions = cv_model.transform(test_data)\n",
    "\n",
    "# Evaluate model accuracy on the test data\n",
    "test_accuracy = evaluator.evaluate(test_predictions)\n",
    "print(f\"Test Accuracy: {test_accuracy:.4f}\")\n",
    "\n",
    "# Extract and display the best decision tree model structure\n",
    "print(cv_model.bestModel.toDebugString)\n",
    "\n",
    "# Group predictions by the predicted class\n",
    "test_predictions.groupBy(\"prediction\").count().show()"
   ]
  },
  {
   "cell_type": "code",
   "execution_count": null,
   "metadata": {},
   "outputs": [],
   "source": [
    "# Evaluate the model's weighted precision\n",
    "evaluator = MulticlassClassificationEvaluator(labelCol=\"y\", predictionCol=\"prediction\", metricName=\"weightedPrecision\")\n",
    "weighted_precision = evaluator.evaluate(test_predictions)\n",
    "\n",
    "print(f\"Weighted Precision: {weighted_precision:.4f}\")"
   ]
  },
  {
   "cell_type": "code",
   "execution_count": null,
   "metadata": {},
   "outputs": [],
   "source": [
    "# Feature Importance\n",
    "importances = cv_model.bestModel.featureImportances\n",
    "feature_importance = [(name, importance) for name, importance in zip(feature_columns, importances)]\n",
    "sorted_features = sorted(feature_importance, key=lambda x: x[1], reverse=True)\n",
    "print(\"Feature Importances:\")\n",
    "for feature, importance in sorted_features:\n",
    "    print(f\"{feature}: {importance:.4f}\")"
   ]
  },
  {
   "cell_type": "code",
   "execution_count": null,
   "metadata": {},
   "outputs": [],
   "source": [
    "import matplotlib.pyplot as plt\n",
    "import numpy as np\n",
    "\n",
    "# Extract the feature importances and corresponding feature names\n",
    "importances = cv_model.bestModel.featureImportances\n",
    "feature_importance = [(name, importance) for name, importance in zip(feature_columns, importances)]\n",
    "\n",
    "# Filter out features with zero importance (if any)\n",
    "non_zero_importance = [(name, importance) for name, importance in feature_importance if importance > 0]\n",
    "\n",
    "# Sort features by importance (descending order)\n",
    "sorted_features = sorted(non_zero_importance, key=lambda x: x[1], reverse=True)\n",
    "\n",
    "# Extract sorted feature names and their importances\n",
    "sorted_feature_names = [name for name, importance in sorted_features]\n",
    "sorted_importances = [importance for name, importance in sorted_features]\n",
    "\n",
    "# Plotting\n",
    "plt.figure(figsize=(10, 6))\n",
    "plt.barh(sorted_feature_names, sorted_importances, color='skyblue')\n",
    "plt.xlabel('Importance')\n",
    "plt.title('Feature Importances')\n",
    "plt.gca().invert_yaxis()  # Invert the y-axis to display the most important features at the top\n",
    "plt.show()\n"
   ]
  }
 ],
 "metadata": {
  "kernelspec": {
   "display_name": "Python 3",
   "language": "python",
   "name": "python3"
  },
  "language_info": {
   "name": "python",
   "version": "3.12.4"
  }
 },
 "nbformat": 4,
 "nbformat_minor": 2
}
