{
 "cells": [
  {
   "cell_type": "code",
   "execution_count": 1,
   "metadata": {},
   "outputs": [
    {
     "name": "stdout",
     "output_type": "stream",
     "text": [
      "JAVA_HOME: /opt/homebrew/Cellar/openjdk@17/17.0.13/libexec/openjdk.jdk/Contents/Home\n",
      "openjdk version \"17.0.13\" 2024-10-15\n",
      "OpenJDK Runtime Environment Homebrew (build 17.0.13+0)\n",
      "OpenJDK 64-Bit Server VM Homebrew (build 17.0.13+0, mixed mode, sharing)\n"
     ]
    }
   ],
   "source": [
    "import os\n",
    "import subprocess\n",
    "\n",
    "java_home = subprocess.check_output([\"/usr/libexec/java_home\", \"-v\", \"17\"]).strip().decode('utf-8')\n",
    "\n",
    "# Set JAVA_HOME and PATH\n",
    "os.environ[\"JAVA_HOME\"] = java_home\n",
    "os.environ[\"PATH\"] = os.path.join(java_home, \"bin\") + \":\" + os.environ[\"PATH\"]\n",
    "os.environ[\"PYSPARK_SUBMIT_ARGS\"] = \"--master local pyspark-shell\"\n",
    "\n",
    "# Verify JAVA_HOME and Java version\n",
    "print(\"JAVA_HOME:\", os.environ['JAVA_HOME'])\n",
    "!java -version"
   ]
  },
  {
   "cell_type": "code",
   "execution_count": null,
   "metadata": {},
   "outputs": [],
   "source": [
    "from pyspark.sql import SparkSession\n",
    "from pyspark.sql import functions as F\n",
    "\n",
    "spark = SparkSession.builder \\\n",
    "    .appName(\"CBRFSS\") \\\n",
    "    .config(\"spark.executor.memory\", \"4g\") \\\n",
    "    .config(\"spark.driver.memory\", \"4g\") \\\n",
    "    .config(\"spark.executor.cores\", \"4\") \\\n",
    "    .config(\"spark.executor.instances\", \"4\") \\\n",
    "    .getOrCreate()\n"
   ]
  },
  {
   "cell_type": "code",
   "execution_count": 4,
   "metadata": {},
   "outputs": [],
   "source": [
    "file_path = \"output/processedv3.parquet\"\n",
    "\n",
    "df = spark.read.parquet(file_path)\n",
    "\n",
    "df_filled = df.na.drop()\n",
    "train_df, test_df = df_filled.randomSplit([0.8, 0.2], seed=1)\n",
    "# Show the counts of each split\n",
    "print(f\"Training set count: {train_df.count()}\")\n",
    "print(f\"Test set count: {test_df.count()}\")"
   ]
  },
  {
   "cell_type": "code",
   "execution_count": null,
   "metadata": {},
   "outputs": [],
   "source": [
    "from pyspark.ml.feature import VectorAssembler, OneHotEncoder\n",
    "from pyspark.ml.classification import DecisionTreeClassifier\n",
    "from pyspark.ml.evaluation import MulticlassClassificationEvaluator\n",
    "from pyspark.ml.tuning import CrossValidator, ParamGridBuilder\n",
    "from pyspark.sql import functions as F\n",
    "from pyspark.ml.evaluation import MulticlassClassificationEvaluator\n",
    "\n",
    "\n",
    "# Categorical features\n",
    "categorical_features = [\"EMPLOY1\", \"ALCDAY4\", \"FALL12MN\"]\n",
    "\n",
    "# One-Hot Encoding\n",
    "encoder = OneHotEncoder(\n",
    "    inputCols=categorical_features,\n",
    "    outputCols=[feature + \"_ohe\" for feature in categorical_features],\n",
    ")\n",
    "\n",
    "# Fit and transform the encoder on the training data\n",
    "encoder_model = encoder.fit(train_df)\n",
    "train_df = encoder_model.transform(train_df)\n",
    "test_df = encoder_model.transform(test_df)\n",
    "\n",
    "# Remove original categorical features\n",
    "train_df = train_df.drop(*categorical_features)\n",
    "test_df = test_df.drop(*categorical_features)\n",
    "\n",
    "# Prepare feature columns (include one-hot encoded columns)\n",
    "feature_columns = [col for col in train_df.columns if col != \"y\"]\n",
    "\n",
    "# Assemble features into a single vector\n",
    "assembler = VectorAssembler(inputCols=feature_columns, outputCol=\"features\")\n",
    "train_data = assembler.transform(train_df)\n",
    "test_data = assembler.transform(test_df)"
   ]
  },
  {
   "cell_type": "code",
   "execution_count": 5,
   "metadata": {},
   "outputs": [
    {
     "name": "stderr",
     "output_type": "stream",
     "text": [
      "                                                                                \r"
     ]
    },
    {
     "name": "stdout",
     "output_type": "stream",
     "text": [
      "Test Accuracy: 0.85\n",
      "DecisionTreeClassificationModel: uid=DecisionTreeClassifier_88b7a348cd8f, depth=6, numNodes=31, numClasses=2, numFeatures=19\n",
      "  If (feature 0 <= 2.5)\n",
      "   If (feature 2 <= 1.5)\n",
      "    If (feature 10 <= 3.5)\n",
      "     Predict: 0.0\n",
      "    Else (feature 10 > 3.5)\n",
      "     If (feature 7 <= 1.5)\n",
      "      Predict: 0.0\n",
      "     Else (feature 7 > 1.5)\n",
      "      If (feature 3 <= 7.5)\n",
      "       Predict: 0.0\n",
      "      Else (feature 3 > 7.5)\n",
      "       If (feature 4 <= 1.5)\n",
      "        Predict: 1.0\n",
      "       Else (feature 4 > 1.5)\n",
      "        Predict: 0.0\n",
      "   Else (feature 2 > 1.5)\n",
      "    If (feature 7 <= 1.5)\n",
      "     Predict: 0.0\n",
      "    Else (feature 7 > 1.5)\n",
      "     If (feature 9 <= 832.5)\n",
      "      Predict: 0.0\n",
      "     Else (feature 9 > 832.5)\n",
      "      If (feature 11 <= 1.5)\n",
      "       If (feature 14 <= 2.5)\n",
      "        Predict: 1.0\n",
      "       Else (feature 14 > 2.5)\n",
      "        Predict: 0.0\n",
      "      Else (feature 11 > 1.5)\n",
      "       Predict: 0.0\n",
      "  Else (feature 0 > 2.5)\n",
      "   If (feature 2 <= 1.5)\n",
      "    Predict: 0.0\n",
      "   Else (feature 2 > 1.5)\n",
      "    If (feature 0 <= 3.5)\n",
      "     Predict: 0.0\n",
      "    Else (feature 0 > 3.5)\n",
      "     If (feature 7 <= 1.5)\n",
      "      Predict: 0.0\n",
      "     Else (feature 7 > 1.5)\n",
      "      If (feature 10 <= 3.5)\n",
      "       If (feature 15 <= 1.5)\n",
      "        Predict: 1.0\n",
      "       Else (feature 15 > 1.5)\n",
      "        Predict: 0.0\n",
      "      Else (feature 10 > 3.5)\n",
      "       Predict: 1.0\n",
      "\n",
      "+----------+-----+\n",
      "|prediction|count|\n",
      "+----------+-----+\n",
      "|       0.0|18230|\n",
      "|       1.0| 1006|\n",
      "+----------+-----+\n",
      "\n"
     ]
    }
   ],
   "source": [
    "# Decision tree\n",
    "\n",
    "decision_tree = DecisionTreeClassifier(featuresCol=\"features\", labelCol=\"y\")\n",
    "\n",
    "# Set up hyperparameter tuning\n",
    "paramGrid = (\n",
    "    ParamGridBuilder()\n",
    "    .addGrid(decision_tree.maxDepth, [5, 6, 7])\n",
    "    .addGrid(decision_tree.minInstancesPerNode, [1, 2, 3])\n",
    "    .build()\n",
    ")\n",
    "\n",
    "# Set up cross-validation\n",
    "evaluator = MulticlassClassificationEvaluator(\n",
    "    labelCol=\"y\", predictionCol=\"prediction\", metricName=\"accuracy\"\n",
    ")\n",
    "crossval = CrossValidator(\n",
    "    estimator=decision_tree,\n",
    "    estimatorParamMaps=paramGrid,\n",
    "    evaluator=evaluator,\n",
    "    numFolds=5,\n",
    ")\n",
    "\n",
    "# Train the model using Cross-Validation\n",
    "cv_model = crossval.fit(train_data)\n",
    "\n",
    "# Evaluate on the test set\n",
    "test_predictions = cv_model.transform(test_data)\n",
    "\n",
    "# Evaluate model accuracy on the test data\n",
    "test_accuracy = evaluator.evaluate(test_predictions)\n",
    "print(f\"Test Accuracy: {test_accuracy:.4f}\")\n",
    "\n",
    "# Extract and display the best decision tree model structure\n",
    "print(cv_model.bestModel.toDebugString)\n",
    "\n",
    "# Group predictions by the predicted class\n",
    "test_predictions.groupBy(\"prediction\").count().show()"
   ]
  },
  {
   "cell_type": "code",
   "execution_count": 6,
   "metadata": {},
   "outputs": [
    {
     "name": "stdout",
     "output_type": "stream",
     "text": [
      "Feature Importances:\n",
      "GENHLTH: 0.562620996907235\n",
      "_RFHYPE6: 0.310232134532652\n",
      "_RFCHOL3: 0.06592225236184439\n",
      "_BMI5CAT: 0.03283320773031007\n",
      "ALCDAY4: 0.009725206985840429\n",
      "CHCKDNY2: 0.007821971802619707\n",
      "DIFFWALK: 0.006593399732034565\n",
      "_INCOMG1: 0.0021671967867831847\n",
      "EMPLOY1: 0.001347106889465911\n",
      "_MICHD: 0.0007365262712146444\n",
      "_AGEG5YR: 0.0\n",
      "_DRDXAR2: 0.0\n",
      "_HCVU653: 0.0\n",
      "METVL12_: 0.0\n",
      "_TOTINDA: 0.0\n",
      "EDUCA: 0.0\n",
      "FALL12MN: 0.0\n",
      "SMOKE100: 0.0\n",
      "CVDINFR4: 0.0\n"
     ]
    }
   ],
   "source": [
    "# Evaluate the model's weighted precision\n",
    "evaluator = MulticlassClassificationEvaluator(labelCol=\"y\", predictionCol=\"prediction\", metricName=\"weightedPrecision\")\n",
    "weighted_precision = evaluator.evaluate(test_predictions)\n",
    "\n",
    "print(f\"Weighted Precision: {weighted_precision:.4f}\")"
   ]
  },
  {
   "cell_type": "code",
   "execution_count": null,
   "metadata": {},
   "outputs": [],
   "source": [
    "# Feature Importance\n",
    "importances = cv_model.bestModel.featureImportances\n",
    "feature_importance = [(name, importance) for name, importance in zip(feature_columns, importances)]\n",
    "sorted_features = sorted(feature_importance, key=lambda x: x[1], reverse=True)\n",
    "print(\"Feature Importances:\")\n",
    "for feature, importance in sorted_features:\n",
    "    print(f\"{feature}: {importance:.4f}\")"
   ]
  },
  {
   "cell_type": "code",
   "execution_count": 7,
   "metadata": {},
   "outputs": [
    {
     "data": {
      "image/png": "[encoded data removed]",
      "text/plain": [
       "<Figure size 1200x600 with 1 Axes>"
      ]
     },
     "metadata": {},
     "output_type": "display_data"
    }
   ],
   "source": [
    "import matplotlib.pyplot as plt\n",
    "import numpy as np\n",
    "\n",
    "# Extract the feature importances and corresponding feature names\n",
    "importances = cv_model.bestModel.featureImportances\n",
    "feature_importance = [(name, importance) for name, importance in zip(feature_columns, importances)]\n",
    "\n",
    "# Filter out features with zero importance (if any)\n",
    "non_zero_importance = [(name, importance) for name, importance in feature_importance if importance > 0]\n",
    "\n",
    "# Sort features by importance (descending order)\n",
    "sorted_features = sorted(non_zero_importance, key=lambda x: x[1], reverse=True)\n",
    "\n",
    "# Extract sorted feature names and their importances\n",
    "sorted_feature_names = [name for name, importance in sorted_features]\n",
    "sorted_importances = [importance for name, importance in sorted_features]\n",
    "\n",
    "# Plotting\n",
    "plt.figure(figsize=(10, 6))\n",
    "plt.barh(sorted_feature_names, sorted_importances, color='skyblue')\n",
    "plt.xlabel('Importance')\n",
    "plt.title('Feature Importances')\n",
    "plt.gca().invert_yaxis()  # Invert the y-axis to display the most important features at the top\n",
    "plt.show()\n"
   ]
  }
 ],
 "metadata": {
  "kernelspec": {
   "display_name": "base",
   "language": "python",
   "name": "python3"
  },
  "language_info": {
   "codemirror_mode": {
    "name": "ipython",
    "version": 3
   },
   "file_extension": ".py",
   "mimetype": "text/x-python",
   "name": "python",
   "nbconvert_exporter": "python",
   "pygments_lexer": "ipython3",
   "version": "3.12.4"
  }
 },
 "nbformat": 4,
 "nbformat_minor": 2
}
