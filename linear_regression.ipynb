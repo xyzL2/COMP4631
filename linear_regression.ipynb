{
 "cells": [
  {
   "cell_type": "code",
   "execution_count": 1,
   "metadata": {},
   "outputs": [
    {
     "name": "stdout",
     "output_type": "stream",
     "text": [
      "JAVA_HOME: /opt/homebrew/Cellar/openjdk@17/17.0.13/libexec/openjdk.jdk/Contents/Home\n",
      "openjdk version \"17.0.13\" 2024-10-15\n",
      "OpenJDK Runtime Environment Homebrew (build 17.0.13+0)\n",
      "OpenJDK 64-Bit Server VM Homebrew (build 17.0.13+0, mixed mode, sharing)\n"
     ]
    }
   ],
   "source": [
    "import os\n",
    "import subprocess\n",
    "\n",
    "java_home = subprocess.check_output([\"/usr/libexec/java_home\", \"-v\", \"17\"]).strip().decode('utf-8')\n",
    "\n",
    "# Set JAVA_HOME and PATH\n",
    "os.environ[\"JAVA_HOME\"] = java_home\n",
    "os.environ[\"PATH\"] = os.path.join(java_home, \"bin\") + \":\" + os.environ[\"PATH\"]\n",
    "os.environ[\"PYSPARK_SUBMIT_ARGS\"] = \"--master local pyspark-shell\"\n",
    "\n",
    "# Verify JAVA_HOME and Java version\n",
    "print(\"JAVA_HOME:\", os.environ['JAVA_HOME'])\n",
    "!java -version"
   ]
  },
  {
   "cell_type": "code",
   "execution_count": 2,
   "metadata": {},
   "outputs": [
    {
     "name": "stderr",
     "output_type": "stream",
     "text": [
      "24/11/27 18:28:32 WARN Utils: Your hostname, MacBook-Air-von-Linda.local resolves to a loopback address: 127.0.0.1; using 10.89.101.139 instead (on interface en0)\n",
      "24/11/27 18:28:32 WARN Utils: Set SPARK_LOCAL_IP if you need to bind to another address\n",
      "Setting default log level to \"WARN\".\n",
      "To adjust logging level use sc.setLogLevel(newLevel). For SparkR, use setLogLevel(newLevel).\n",
      "24/11/27 18:28:32 WARN NativeCodeLoader: Unable to load native-hadoop library for your platform... using builtin-java classes where applicable\n"
     ]
    }
   ],
   "source": [
    "from pyspark.sql import SparkSession\n",
    "\n",
    "spark = SparkSession.builder \\\n",
    "    .appName(\"CBRFSS\") \\\n",
    "    .config(\"spark.executor.memory\", \"4g\") \\\n",
    "    .config(\"spark.driver.memory\", \"4g\") \\\n",
    "    .config(\"spark.executor.cores\", \"4\") \\\n",
    "    .config(\"spark.executor.instances\", \"4\") \\\n",
    "    .getOrCreate()\n",
    "\n"
   ]
  },
  {
   "cell_type": "code",
   "execution_count": 3,
   "metadata": {},
   "outputs": [
    {
     "name": "stdout",
     "output_type": "stream",
     "text": [
      "+-------+--------+--------+-------+------+--------+--------+--------+--------+-------+--------+--------+--------+-----+--------+--------+--------+--------+--------+---+\n",
      "|GENHLTH|_AGEG5YR|_RFHYPE6|EMPLOY1|_MICHD|_DRDXAR2|_HCVU653|_RFCHOL3|METVL12_|ALCDAY4|_BMI5CAT|DIFFWALK|_TOTINDA|EDUCA|_INCOMG1|CHCKDNY2|FALL12MN|SMOKE100|CVDINFR4|  y|\n",
      "+-------+--------+--------+-------+------+--------+--------+--------+--------+-------+--------+--------+--------+-----+--------+--------+--------+--------+--------+---+\n",
      "|    4.0|    11.0|     2.0|    1.0|   2.0|     1.0|     9.0|     1.0|   103.0|  888.0|     2.0|     1.0|     1.0|  5.0|     4.0|     2.0|    88.0|     1.0|     2.0|  0|\n",
      "|    2.0|     9.0|     1.0|    2.0|   2.0|     2.0|     1.0|     2.0|   106.0|  220.0|     2.0|     2.0|     1.0|  6.0|     5.0|     2.0|     2.0|     2.0|     2.0|  0|\n",
      "|    3.0|     8.0|     1.0|    1.0|   2.0|     2.0|     1.0|     1.0|   104.0|  210.0|     4.0|     2.0|     1.0|  6.0|     5.0|     2.0|    88.0|     2.0|     2.0|  0|\n",
      "|    3.0|     9.0|     2.0|    7.0|   2.0|     2.0|     9.0|     2.0|   103.0|  203.0|     3.0|     2.0|     1.0|  6.0|     3.0|     2.0|    88.0|     1.0|     2.0|  0|\n",
      "|    1.0|     9.0|     1.0|    2.0|   2.0|     2.0|     1.0|     1.0|   103.0|  202.0|     2.0|     2.0|     1.0|  4.0|     9.0|     2.0|    88.0|     1.0|     2.0|  0|\n",
      "|    4.0|    13.0|     2.0|    7.0|   2.0|     1.0|     9.0|     2.0|   104.0|  888.0|     4.0|     1.0|     1.0|  6.0|     2.0|     1.0|    88.0|     1.0|     2.0|  1|\n",
      "|    3.0|     7.0|     2.0|    1.0|   2.0|     2.0|     1.0|     2.0|   103.0|  888.0|     4.0|     1.0|     1.0|  4.0|     2.0|     2.0|    88.0|     1.0|     2.0|  1|\n",
      "|    4.0|    13.0|     2.0|    7.0|   1.0|     2.0|     9.0|     1.0|     2.0|  888.0|     2.0|     2.0|     2.0|  4.0|     3.0|     2.0|     1.0|     2.0|     1.0|  0|\n",
      "|    4.0|    12.0|     2.0|    7.0|   2.0|     1.0|     9.0|     2.0|     2.0|  204.0|     4.0|     1.0|     2.0|  6.0|     9.0|     2.0|    88.0|     2.0|     2.0|  0|\n",
      "|    2.0|    12.0|     2.0|    7.0|   2.0|     1.0|     9.0|     2.0|   103.0|  203.0|     4.0|     1.0|     1.0|  6.0|     6.0|     2.0|    88.0|     1.0|     2.0|  1|\n",
      "|    4.0|    13.0|     2.0|    7.0|   1.0|     1.0|     9.0|     2.0|     2.0|  201.0|     4.0|     1.0|     2.0|  5.0|     4.0|     1.0|    88.0|     1.0|     1.0|  0|\n",
      "|    3.0|    10.0|     2.0|    7.0|   2.0|     2.0|     9.0|     2.0|     2.0|  888.0|     3.0|     2.0|     2.0|  5.0|     5.0|     2.0|    88.0|     1.0|     2.0|  0|\n",
      "|    3.0|     9.0|     1.0|    1.0|   2.0|     1.0|     1.0|     2.0|     2.0|  203.0|     4.0|     2.0|     2.0|  6.0|     1.0|     2.0|    88.0|     1.0|     2.0|  0|\n",
      "|    2.0|    12.0|     2.0|    7.0|   2.0|     2.0|     9.0|     2.0|   104.0|  888.0|     3.0|     2.0|     1.0|  5.0|     1.0|     2.0|    88.0|     2.0|     2.0|  0|\n",
      "|    3.0|    11.0|     2.0|    5.0|   2.0|     1.0|     9.0|     1.0|   103.0|  201.0|     2.0|     1.0|     1.0|  2.0|     1.0|     2.0|     3.0|     2.0|     2.0|  0|\n",
      "|    5.0|    11.0|     2.0|    7.0|   2.0|     2.0|     9.0|     1.0|     2.0|  888.0|     4.0|     1.0|     2.0|  4.0|     5.0|     2.0|    88.0|     1.0|     2.0|  0|\n",
      "|    4.0|     6.0|     2.0|    9.0|   2.0|     2.0|     1.0|     1.0|     2.0|  888.0|     4.0|     2.0|     2.0|  2.0|     2.0|     2.0|    88.0|     2.0|     2.0|  1|\n",
      "|    4.0|    10.0|     1.0|    7.0|   2.0|     1.0|     9.0|     2.0|   103.0|  888.0|     3.0|     2.0|     1.0|  6.0|     6.0|     2.0|    88.0|     2.0|     2.0|  0|\n",
      "|    1.0|    11.0|     1.0|    2.0|   2.0|     2.0|     9.0|     1.0|   106.0|  888.0|     2.0|     2.0|     1.0|  5.0|     4.0|     2.0|    88.0|     1.0|     2.0|  0|\n",
      "|    2.0|    10.0|     1.0|    1.0|   2.0|     1.0|     9.0|     2.0|   103.0|  888.0|     3.0|     2.0|     1.0|  6.0|     6.0|     2.0|     1.0|     1.0|     2.0|  0|\n",
      "|    3.0|    12.0|     2.0|    7.0|   2.0|     2.0|     9.0|     1.0|   104.0|  888.0|     2.0|     2.0|     1.0|  5.0|     5.0|     2.0|    88.0|     1.0|     2.0|  0|\n",
      "|    1.0|    13.0|     2.0|    7.0|   2.0|     1.0|     9.0|     2.0|   103.0|  205.0|     4.0|     2.0|     1.0|  6.0|     5.0|     2.0|    88.0|     2.0|     2.0|  0|\n",
      "|    3.0|     8.0|     1.0|    1.0|   2.0|     1.0|     1.0|     1.0|   103.0|  888.0|     3.0|     2.0|     1.0|  6.0|     2.0|     2.0|    88.0|     2.0|     2.0|  0|\n",
      "|    4.0|     6.0|     1.0|    8.0|   2.0|     1.0|     1.0|     1.0|   104.0|  888.0|     4.0|     1.0|     1.0|  5.0|     1.0|     2.0|     1.0|     1.0|     2.0|  1|\n",
      "|    3.0|    10.0|     2.0|    4.0|   2.0|     2.0|     9.0|     1.0|   103.0|  888.0|     2.0|     2.0|     1.0|  3.0|     4.0|     2.0|    88.0|     2.0|     2.0|  0|\n",
      "|    4.0|     8.0|     2.0|    2.0|   2.0|     2.0|     1.0|     1.0|     2.0|  888.0|     4.0|     1.0|     2.0|  5.0|     2.0|     2.0|    88.0|     1.0|     2.0|  0|\n",
      "|    4.0|     7.0|     1.0|    5.0|   2.0|     1.0|     1.0|     2.0|     2.0|  201.0|     4.0|     1.0|     2.0|  4.0|     2.0|     2.0|    88.0|     2.0|     2.0|  1|\n",
      "|    2.0|     9.0|     2.0|    1.0|   2.0|     2.0|     1.0|     1.0|   103.0|  888.0|     4.0|     2.0|     1.0|  4.0|     5.0|     2.0|    88.0|     2.0|     2.0|  0|\n",
      "|    1.0|    10.0|     1.0|    2.0|   2.0|     1.0|     9.0|     1.0|   103.0|  203.0|     2.0|     2.0|     1.0|  6.0|     5.0|     2.0|    88.0|     2.0|     2.0|  0|\n",
      "|    2.0|    12.0|     2.0|    4.0|   2.0|     2.0|     9.0|     2.0|   103.0|  225.0|     3.0|     2.0|     1.0|  6.0|     9.0|     2.0|    88.0|     1.0|     2.0|  0|\n",
      "+-------+--------+--------+-------+------+--------+--------+--------+--------+-------+--------+--------+--------+-----+--------+--------+--------+--------+--------+---+\n",
      "only showing top 30 rows\n",
      "\n"
     ]
    }
   ],
   "source": [
    "file_path = \"output/processedv2.parquet\"\n",
    "\n",
    "df = spark.read.parquet(file_path)\n",
    "# df.printSchema()\n",
    "df.show(30)"
   ]
  },
  {
   "cell_type": "markdown",
   "metadata": {},
   "source": []
  },
  {
   "cell_type": "code",
   "execution_count": 4,
   "metadata": {},
   "outputs": [
    {
     "name": "stdout",
     "output_type": "stream",
     "text": [
      "root\n",
      " |-- GENHLTH: double (nullable = true)\n",
      " |-- _AGEG5YR: double (nullable = true)\n",
      " |-- _RFHYPE6: double (nullable = true)\n",
      " |-- EMPLOY1: double (nullable = true)\n",
      " |-- _MICHD: double (nullable = true)\n",
      " |-- _DRDXAR2: double (nullable = true)\n",
      " |-- _HCVU653: double (nullable = true)\n",
      " |-- _RFCHOL3: double (nullable = true)\n",
      " |-- METVL12_: double (nullable = true)\n",
      " |-- ALCDAY4: double (nullable = true)\n",
      " |-- _BMI5CAT: double (nullable = true)\n",
      " |-- DIFFWALK: double (nullable = true)\n",
      " |-- _TOTINDA: double (nullable = true)\n",
      " |-- EDUCA: double (nullable = true)\n",
      " |-- _INCOMG1: double (nullable = true)\n",
      " |-- CHCKDNY2: double (nullable = true)\n",
      " |-- FALL12MN: double (nullable = true)\n",
      " |-- SMOKE100: double (nullable = true)\n",
      " |-- CVDINFR4: double (nullable = true)\n",
      " |-- y: integer (nullable = true)\n",
      "\n"
     ]
    }
   ],
   "source": [
    "df.printSchema()"
   ]
  },
  {
   "cell_type": "code",
   "execution_count": 5,
   "metadata": {},
   "outputs": [
    {
     "name": "stdout",
     "output_type": "stream",
     "text": [
      "Dimensions of DataFrame: 251504 rows, 20 columns\n"
     ]
    }
   ],
   "source": [
    "num_columns = len(df.columns)\n",
    "\n",
    "num_rows = df.count()\n",
    "# Print the dimensions\n",
    "print(f\"Dimensions of DataFrame: {num_rows} rows, {num_columns} columns\")"
   ]
  },
  {
   "cell_type": "markdown",
   "metadata": {},
   "source": [
    "We will split the data into 80-20 train and test set and use cross validation"
   ]
  },
  {
   "cell_type": "code",
   "execution_count": 6,
   "metadata": {},
   "outputs": [
    {
     "name": "stdout",
     "output_type": "stream",
     "text": [
      "Training set count: 201155\n",
      "Test set count: 50349\n"
     ]
    }
   ],
   "source": [
    "df_filled = df.fillna(0)\n",
    "train_df, test_df = df_filled.randomSplit([0.8, 0.2], seed=1)\n",
    "# Show the counts of each split\n",
    "print(f\"Training set count: {train_df.count()}\")\n",
    "print(f\"Test set count: {test_df.count()}\")"
   ]
  },
  {
   "cell_type": "code",
   "execution_count": 7,
   "metadata": {},
   "outputs": [
    {
     "name": "stderr",
     "output_type": "stream",
     "text": [
      "24/11/27 18:28:47 WARN SparkStringUtils: Truncated the string representation of a plan since it was too large. This behavior can be adjusted by setting 'spark.sql.debug.maxToStringFields'.\n",
      "24/11/27 18:28:48 WARN InstanceBuilder: Failed to load implementation from:dev.ludovic.netlib.blas.JNIBLAS\n",
      "24/11/27 18:28:48 WARN InstanceBuilder: Failed to load implementation from:dev.ludovic.netlib.blas.VectorBLAS\n",
      "24/11/27 18:28:48 WARN InstanceBuilder: Failed to load implementation from:dev.ludovic.netlib.lapack.JNILAPACK\n"
     ]
    },
    {
     "name": "stdout",
     "output_type": "stream",
     "text": [
      "Root Mean Squared Error (RMSE) on test data: 0.362475507154418\n",
      "Best Regularization Parameter: 0.01\n",
      "Best Elastic Net Parameter: 0.0\n"
     ]
    }
   ],
   "source": [
    "from pyspark.ml.feature import VectorAssembler\n",
    "from pyspark.ml.regression import LinearRegression\n",
    "from pyspark.ml.evaluation import RegressionEvaluator\n",
    "from pyspark.ml.tuning import CrossValidator, ParamGridBuilder\n",
    "\n",
    "# Prepare feature columns by removing the target variable 'y'\n",
    "feature_columns = df.columns\n",
    "feature_columns.remove(\"y\")\n",
    "\n",
    "# Step 1: Assemble features into a single vector for training data\n",
    "assembler = VectorAssembler(inputCols=feature_columns, outputCol=\"features\")\n",
    "train_data = assembler.transform(train_df)\n",
    "\n",
    "lr = LinearRegression(featuresCol=\"features\", labelCol=\"y\")\n",
    "\n",
    "# Step 3: Set up Cross-Validation\n",
    "paramGrid = (\n",
    "    ParamGridBuilder()\n",
    "    .addGrid(lr.regParam, [0.1, 0.01])\n",
    "    .addGrid(lr.elasticNetParam, [0.0, 0.5])\n",
    "    .build()\n",
    ")\n",
    "\n",
    "crossval = CrossValidator(\n",
    "    estimator=lr,\n",
    "    estimatorParamMaps=paramGrid,\n",
    "    evaluator=RegressionEvaluator(labelCol=\"y\", metricName=\"rmse\"),\n",
    "    numFolds=5,\n",
    ")  # Use 5+ folds for cross-validation\n",
    "\n",
    "# Train the model using Cross-Validation on the training data\n",
    "cv_model = crossval.fit(train_data)\n",
    "\n",
    "# Step 4: Evaluate on Test Set\n",
    "test_data = assembler.transform(test_df)\n",
    "test_predictions = cv_model.transform(test_data)\n",
    "\n",
    "# Evaluate the model performance on test data\n",
    "evaluator = RegressionEvaluator(\n",
    "    labelCol=\"y\", predictionCol=\"prediction\", metricName=\"rmse\"\n",
    ")\n",
    "test_rmse = evaluator.evaluate(test_predictions)\n",
    "print(f\"Root Mean Squared Error (RMSE) on test data: {test_rmse}\")\n",
    "\n",
    "# Optional: Show best model parameters from cross-validation\n",
    "best_model = cv_model.bestModel\n",
    "print(f\"Best Regularization Parameter: {best_model._java_obj.getRegParam()}\")\n",
    "print(f\"Best Elastic Net Parameter: {best_model._java_obj.getElasticNetParam()}\")"
   ]
  },
  {
   "cell_type": "code",
   "execution_count": 9,
   "metadata": {},
   "outputs": [
    {
     "name": "stderr",
     "output_type": "stream",
     "text": [
      "                                                                                \r"
     ]
    },
    {
     "name": "stdout",
     "output_type": "stream",
     "text": [
      "Accuracy on test data: 0.8155077558640688\n",
      "Precision on test data: 0.7674338278150397\n"
     ]
    }
   ],
   "source": [
    "threshold = 0.5\n",
    "\n",
    "# Convert predictions to binary classes based on threshold\n",
    "test_predictions = test_predictions.withColumn(\n",
    "    \"prediction_class\", (test_predictions[\"prediction\"] > threshold).cast(\"double\")\n",
    ")\n",
    "\n",
    "# Assuming you have true labels in a column named \"true_class\"\n",
    "from pyspark.ml.evaluation import MulticlassClassificationEvaluator\n",
    "\n",
    "# Evaluate precision and accuracy\n",
    "classification_evaluator = MulticlassClassificationEvaluator(\n",
    "    labelCol=\"y\", predictionCol=\"prediction_class\"\n",
    ")\n",
    "\n",
    "accuracy = classification_evaluator.evaluate(\n",
    "    test_predictions, {classification_evaluator.metricName: \"accuracy\"}\n",
    ")\n",
    "precision = classification_evaluator.evaluate(\n",
    "    test_predictions, {classification_evaluator.metricName: \"weightedPrecision\"}\n",
    ")\n",
    "\n",
    "print(f\"Accuracy on test data: {accuracy}\")\n",
    "print(f\"Precision on test data: {precision}\")"
   ]
  },
  {
   "cell_type": "code",
   "execution_count": null,
   "metadata": {},
   "outputs": [
    {
     "data": {
      "image/png": "[encoded data removed]",
      "text/plain": [
       "<Figure size 1000x600 with 1 Axes>"
      ]
     },
     "metadata": {},
     "output_type": "display_data"
    }
   ],
   "source": [
    "from pyspark.sql.functions import round, when\n",
    "import matplotlib.pyplot as plt\n",
    "\n",
    "test_predictions = test_predictions.withColumn(\n",
    "    \"pred_class\", round(test_predictions[\"prediction\"])\n",
    ")\n",
    "\n",
    "# Create a new column for classification results\n",
    "results_table = test_predictions.select(\"y\", \"pred_class\")\n",
    "\n",
    "# Categorize results into True Positive, True Negative, False Positive, False Negative\n",
    "results_summary = results_table.groupBy(\n",
    "    when(\n",
    "        (results_table[\"y\"] == 1) & (results_table[\"pred_class\"] == 1), \"True Positive\"\n",
    "    )\n",
    "    .when(\n",
    "        (results_table[\"y\"] == 0) & (results_table[\"pred_class\"] == 0), \"True Negative\"\n",
    "    )\n",
    "    .when(\n",
    "        (results_table[\"y\"] == 0) & (results_table[\"pred_class\"] == 1), \"False Positive\"\n",
    "    )\n",
    "    .when(\n",
    "        (results_table[\"y\"] == 1) & (results_table[\"pred_class\"] == 0), \"False Negative\"\n",
    "    )\n",
    "    .otherwise(\"Other\")\n",
    "    .alias(\"Result\")\n",
    ").count()\n",
    "\n",
    "\n",
    "# Convert to Pandas DataFrame for better display and plotting\n",
    "summary_pd = results_summary.toPandas()\n",
    "\n",
    "# Plotting the counts as a bar plot\n",
    "plt.figure(figsize=(10, 6))\n",
    "plt.bar(\n",
    "    summary_pd[\"Result\"],\n",
    "    summary_pd[\"count\"],\n",
    "    color=[\"green\", \"blue\", \"orange\", \"red\"],\n",
    "    alpha=0.6,\n",
    ")\n",
    "\n",
    "plt.title(\"Counts of True vs Predicted Labels\")\n",
    "plt.xlabel(\"Result Type\")\n",
    "plt.ylabel(\"Counts\")\n",
    "plt.grid(axis=\"y\")\n",
    "\n",
    "# Show the plot\n",
    "plt.tight_layout()\n",
    "plt.show()"
   ]
  },
  {
   "cell_type": "code",
   "execution_count": 34,
   "metadata": {},
   "outputs": [
    {
     "name": "stdout",
     "output_type": "stream",
     "text": [
      "9347\n"
     ]
    }
   ],
   "source": [
    "def count_entries_with_value(df, column_name, value):\n",
    "    \"\"\"\n",
    "    Count how many entries in the specified column of the DataFrame have the given value.\n",
    "\n",
    "    :param df: PySpark DataFrame\n",
    "    :param column_name: Name of the column to check\n",
    "    :param value: Value to count in the specified column\n",
    "    :return: Count of entries with the specified value\n",
    "    \"\"\"\n",
    "    count = df.filter(df[column_name] == value).count()\n",
    "    return count\n",
    "\n",
    "\n",
    "# Sample data for demonstration\n",
    "print(count_entries_with_value(test_df, \"y\", 1))\n"
   ]
  },
  {
   "cell_type": "code",
   "execution_count": 36,
   "metadata": {},
   "outputs": [
    {
     "name": "stdout",
     "output_type": "stream",
     "text": [
      "           Result  count\n",
      "0  False Negative   8932\n",
      "1  False Positive    357\n",
      "2   True Positive    415\n",
      "3   True Negative  40645\n"
     ]
    }
   ],
   "source": [
    "print(summary_pd)"
   ]
  },
  {
   "cell_type": "code",
   "execution_count": 37,
   "metadata": {},
   "outputs": [
    {
     "name": "stdout",
     "output_type": "stream",
     "text": [
      "Best Regularization Parameter: 0.01\n",
      "Best Elastic Net Parameter: 0.0\n",
      "Coefficients: [0.05039718398583099,0.0007235709961297474,0.05399482533557837,0.004593322211893953,-0.06714779225812893,0.0017717396252265856,0.0012526127310470343,0.022819335411435618,-0.0003033289318617446,8.455472544344627e-05,0.06332588786934935,-0.016582537189879853,-0.0008369530984414771,-0.007528256360200448,-0.002528320164457602,-0.03907511799278715,-0.00021749232855293045,0.0014593315291469007,-0.020974751342380804]\n",
      "Intercept: 0.017783720231384685\n"
     ]
    }
   ],
   "source": [
    "best_model = cv_model.bestModel\n",
    "\n",
    "# Print trained parameters\n",
    "print(f\"Best Regularization Parameter: {best_model._java_obj.getRegParam()}\")\n",
    "print(f\"Best Elastic Net Parameter: {best_model._java_obj.getElasticNetParam()}\")\n",
    "print(f\"Coefficients: {best_model.coefficients}\")\n",
    "print(f\"Intercept: {best_model.intercept}\")"
   ]
  },
  {
   "cell_type": "markdown",
   "metadata": {},
   "source": [
    "We notice that a lot of false negatives have been invoked. The reason for that may be because the dataset has far more rows with y = 0 than y = 1. Thus, we ran the same experiment again with a 50/50 split. "
   ]
  },
  {
   "cell_type": "code",
   "execution_count": 39,
   "metadata": {},
   "outputs": [],
   "source": [
    "from pyspark.sql.functions import col\n",
    "\n",
    "df_y_1 = df.filter(col(\"y\") == 1)\n",
    "df_y_0 = df.filter(col(\"y\") == 0)"
   ]
  },
  {
   "cell_type": "code",
   "execution_count": 44,
   "metadata": {},
   "outputs": [
    {
     "name": "stdout",
     "output_type": "stream",
     "text": [
      "+-------+--------+--------+-------+------+--------+--------+--------+--------+-------+--------+--------+--------+-----+--------+--------+--------+--------+--------+---+\n",
      "|GENHLTH|_AGEG5YR|_RFHYPE6|EMPLOY1|_MICHD|_DRDXAR2|_HCVU653|_RFCHOL3|METVL12_|ALCDAY4|_BMI5CAT|DIFFWALK|_TOTINDA|EDUCA|_INCOMG1|CHCKDNY2|FALL12MN|SMOKE100|CVDINFR4|  y|\n",
      "+-------+--------+--------+-------+------+--------+--------+--------+--------+-------+--------+--------+--------+-----+--------+--------+--------+--------+--------+---+\n",
      "|    4.0|    13.0|     2.0|    7.0|   2.0|     1.0|     9.0|     2.0|   104.0|  888.0|     4.0|     1.0|     1.0|  6.0|     2.0|     1.0|    88.0|     1.0|     2.0|  1|\n",
      "|    3.0|     7.0|     2.0|    1.0|   2.0|     2.0|     1.0|     2.0|   103.0|  888.0|     4.0|     1.0|     1.0|  4.0|     2.0|     2.0|    88.0|     1.0|     2.0|  1|\n",
      "|    2.0|    12.0|     2.0|    7.0|   2.0|     1.0|     9.0|     2.0|   103.0|  203.0|     4.0|     1.0|     1.0|  6.0|     6.0|     2.0|    88.0|     1.0|     2.0|  1|\n",
      "|    4.0|     6.0|     2.0|    9.0|   2.0|     2.0|     1.0|     1.0|     2.0|  888.0|     4.0|     2.0|     2.0|  2.0|     2.0|     2.0|    88.0|     2.0|     2.0|  1|\n",
      "|    4.0|     6.0|     1.0|    8.0|   2.0|     1.0|     1.0|     1.0|   104.0|  888.0|     4.0|     1.0|     1.0|  5.0|     1.0|     2.0|     1.0|     1.0|     2.0|  1|\n",
      "|    4.0|     7.0|     1.0|    5.0|   2.0|     1.0|     1.0|     2.0|     2.0|  201.0|     4.0|     1.0|     2.0|  4.0|     2.0|     2.0|    88.0|     2.0|     2.0|  1|\n",
      "|    2.0|    10.0|     2.0|    7.0|   2.0|     1.0|     9.0|     2.0|   104.0|  888.0|     3.0|     2.0|     1.0|  5.0|     5.0|     2.0|     2.0|     2.0|     2.0|  1|\n",
      "|    2.0|     9.0|     2.0|    1.0|   2.0|     2.0|     1.0|     2.0|   107.0|  201.0|     3.0|     2.0|     1.0|  6.0|     7.0|     2.0|    88.0|     1.0|     2.0|  1|\n",
      "|    3.0|     6.0|     2.0|    1.0|   2.0|     1.0|     1.0|     1.0|   100.0|  888.0|     4.0|     2.0|     1.0|  4.0|     5.0|     2.0|    88.0|     2.0|     2.0|  1|\n",
      "|    5.0|    11.0|     2.0|    7.0|   1.0|     1.0|     9.0|     2.0|   104.0|  201.0|     3.0|     1.0|     1.0|  5.0|     4.0|     1.0|    88.0|     2.0|     1.0|  1|\n",
      "|    2.0|    10.0|     2.0|    1.0|   2.0|     2.0|     9.0|     1.0|   106.0|  204.0|     3.0|     2.0|     1.0|  6.0|     5.0|     2.0|    88.0|     1.0|     2.0|  1|\n",
      "|    2.0|    11.0|     2.0|    7.0|   2.0|     2.0|     9.0|     1.0|   103.0|  888.0|     3.0|     2.0|     1.0|  6.0|     9.0|     2.0|     1.0|     2.0|     2.0|  1|\n",
      "|    3.0|     7.0|     2.0|    7.0|   2.0|     2.0|     1.0|     2.0|   103.0|  102.0|     4.0|     2.0|     1.0|  5.0|     5.0|     2.0|    88.0|     2.0|     2.0|  1|\n",
      "|    3.0|    11.0|     2.0|    7.0|   2.0|     2.0|     9.0|     2.0|   104.0|  888.0|     2.0|     1.0|     1.0|  4.0|     9.0|     2.0|    88.0|     1.0|     2.0|  1|\n",
      "|    2.0|    12.0|     2.0|    7.0|   2.0|     1.0|     9.0|     1.0|     2.0|  888.0|     4.0|     1.0|     2.0|  4.0|     9.0|     2.0|    88.0|     2.0|     2.0|  1|\n",
      "|    1.0|    11.0|     2.0|    7.0|   2.0|     2.0|     9.0|     1.0|   106.0|  888.0|     2.0|     1.0|     1.0|  5.0|     9.0|     2.0|    88.0|     2.0|     2.0|  1|\n",
      "|    4.0|     9.0|     2.0|    8.0|   1.0|     1.0|     1.0|     2.0|     2.0|  888.0|     4.0|     1.0|     2.0|  4.0|     3.0|     2.0|     8.0|     1.0|     1.0|  1|\n",
      "|    4.0|     9.0|     9.0|    1.0|   2.0|     1.0|     1.0|     2.0|   104.0|  888.0|     4.0|     1.0|     1.0|  3.0|     1.0|     2.0|     2.0|     2.0|     2.0|  1|\n",
      "|    2.0|    10.0|     2.0|    7.0|   2.0|     2.0|     9.0|     2.0|   103.0|  888.0|     4.0|     2.0|     1.0|  5.0|     6.0|     2.0|     1.0|     2.0|     2.0|  1|\n",
      "|    3.0|     9.0|     2.0|    7.0|   2.0|     2.0|     1.0|     1.0|   103.0|  888.0|     4.0|     2.0|     1.0|  6.0|     5.0|     2.0|    88.0|     2.0|     2.0|  1|\n",
      "+-------+--------+--------+-------+------+--------+--------+--------+--------+-------+--------+--------+--------+-----+--------+--------+--------+--------+--------+---+\n",
      "only showing top 20 rows\n",
      "\n"
     ]
    }
   ],
   "source": [
    "num_samples = min(df_y_1.count(), df_y_0.count())  # Get the minimum count\n",
    "\n",
    "sampled_y_1 = df_y_1.sample(\n",
    "    False, num_samples / df_y_1.count(), seed=42\n",
    ")  # Randomly sample from y=1\n",
    "sampled_y_0 = df_y_0.sample(\n",
    "    False, num_samples / df_y_0.count(), seed=42\n",
    ")  # Randomly sample from y=0\n",
    "\n",
    "# Step 3: Union the sampled DataFrames\n",
    "new_df = sampled_y_1.union(sampled_y_0)\n",
    "\n",
    "# Show the result\n",
    "new_df.show()"
   ]
  },
  {
   "cell_type": "code",
   "execution_count": 45,
   "metadata": {},
   "outputs": [
    {
     "name": "stdout",
     "output_type": "stream",
     "text": [
      "Dimensions of DataFrame: 93189 rows, 20 columns\n"
     ]
    }
   ],
   "source": [
    "num_columns = len(new_df.columns)\n",
    "\n",
    "num_rows = new_df.count()\n",
    "# Print the dimensions\n",
    "print(f\"Dimensions of DataFrame: {num_rows} rows, {num_columns} columns\")"
   ]
  },
  {
   "cell_type": "code",
   "execution_count": 47,
   "metadata": {},
   "outputs": [
    {
     "name": "stdout",
     "output_type": "stream",
     "text": [
      "Training set count: 74501\n",
      "Test set count: 18688\n"
     ]
    }
   ],
   "source": [
    "df_filled = df.fillna(0)\n",
    "train_df, test_df = new_df.randomSplit([0.8, 0.2], seed=1)\n",
    "# Show the counts of each split\n",
    "print(f\"Training set count: {train_df.count()}\")\n",
    "print(f\"Test set count: {test_df.count()}\")"
   ]
  },
  {
   "cell_type": "code",
   "execution_count": 57,
   "metadata": {},
   "outputs": [
    {
     "name": "stdout",
     "output_type": "stream",
     "text": [
      "Root Mean Squared Error (RMSE) on test data: 0.44712087785299465\n",
      "Best Regularization Parameter: 0.01\n",
      "Best Elastic Net Parameter: 0.0\n"
     ]
    }
   ],
   "source": [
    "from pyspark.ml.feature import VectorAssembler\n",
    "from pyspark.ml.regression import LinearRegression\n",
    "from pyspark.ml.evaluation import RegressionEvaluator\n",
    "from pyspark.ml.tuning import CrossValidator, ParamGridBuilder\n",
    "\n",
    "# Prepare feature columns by removing the target variable 'y'\n",
    "feature_columns = new_df.columns\n",
    "feature_columns.remove(\"y\")\n",
    "\n",
    "# Step 1: Assemble features into a single vector for training data\n",
    "assembler = VectorAssembler(inputCols=feature_columns, outputCol=\"features\")\n",
    "train_data = assembler.transform(train_df)\n",
    "\n",
    "lr = LinearRegression(featuresCol=\"features\", labelCol=\"y\")\n",
    "\n",
    "# Step 3: Set up Cross-Validation\n",
    "paramGrid = (\n",
    "    ParamGridBuilder()\n",
    "    .addGrid(lr.regParam, [0.1, 0.01])\n",
    "    .addGrid(lr.elasticNetParam, [0.0, 0.5])\n",
    "    .build()\n",
    ")\n",
    "\n",
    "crossval = CrossValidator(\n",
    "    estimator=lr,\n",
    "    estimatorParamMaps=paramGrid,\n",
    "    evaluator=RegressionEvaluator(labelCol=\"y\", metricName=\"rmse\"),\n",
    "    numFolds=5,\n",
    ")  # Use 5+ folds for cross-validation\n",
    "\n",
    "# Train the model using Cross-Validation on the training data\n",
    "cv_model = crossval.fit(train_data)\n",
    "\n",
    "# Step 4: Evaluate on Test Set\n",
    "test_data = assembler.transform(test_df)\n",
    "test_predictions = cv_model.transform(test_data)\n",
    "\n",
    "# Evaluate the model performance on test data\n",
    "evaluator = RegressionEvaluator(\n",
    "    labelCol=\"y\", predictionCol=\"prediction\", metricName=\"rmse\"\n",
    ")\n",
    "test_rmse = evaluator.evaluate(test_predictions)\n",
    "print(f\"Root Mean Squared Error (RMSE) on test data: {test_rmse}\")\n",
    "\n",
    "# Optional: Show best model parameters from cross-validation\n",
    "best_model = cv_model.bestModel\n",
    "print(f\"Best Regularization Parameter: {best_model._java_obj.getRegParam()}\")\n",
    "print(f\"Best Elastic Net Parameter: {best_model._java_obj.getElasticNetParam()}\")"
   ]
  },
  {
   "cell_type": "code",
   "execution_count": null,
   "metadata": {},
   "outputs": [
    {
     "name": "stdout",
     "output_type": "stream",
     "text": [
      "Accuracy on test data: 0.6960616438356164\n",
      "Precision on test data: 0.6960623485496045\n"
     ]
    }
   ],
   "source": [
    "threshold = 0.5\n",
    "\n",
    "# Convert predictions to binary classes based on threshold\n",
    "test_predictions = test_predictions.withColumn(\n",
    "    \"prediction_class\", (test_predictions[\"prediction\"] > threshold).cast(\"double\")\n",
    ")\n",
    "\n",
    "from pyspark.ml.evaluation import MulticlassClassificationEvaluator\n",
    "\n",
    "# Evaluate precision and accuracy\n",
    "classification_evaluator = MulticlassClassificationEvaluator(\n",
    "    labelCol=\"y\", predictionCol=\"prediction_class\"\n",
    ")\n",
    "\n",
    "accuracy = classification_evaluator.evaluate(\n",
    "    test_predictions, {classification_evaluator.metricName: \"accuracy\"}\n",
    ")\n",
    "precision = classification_evaluator.evaluate(\n",
    "    test_predictions, {classification_evaluator.metricName: \"weightedPrecision\"}\n",
    ")\n",
    "\n",
    "print(f\"Accuracy on test data: {accuracy}\")\n",
    "print(f\"Precision on test data: {precision}\")"
   ]
  },
  {
   "cell_type": "code",
   "execution_count": 62,
   "metadata": {},
   "outputs": [
    {
     "data": {
      "image/png": "[encoded data removed]",
      "text/plain": [
       "<Figure size 1000x600 with 1 Axes>"
      ]
     },
     "metadata": {},
     "output_type": "display_data"
    }
   ],
   "source": [
    "from pyspark.sql.functions import round, when\n",
    "import matplotlib.pyplot as plt\n",
    "\n",
    "test_predictions = test_predictions.withColumn(\n",
    "    \"pred_class\", round(test_predictions[\"prediction\"])\n",
    ")\n",
    "\n",
    "# Create a new column for classification results\n",
    "results_table = test_predictions.select(\"y\", \"pred_class\")\n",
    "\n",
    "# Categorize results into True Positive, True Negative, False Positive, False Negative\n",
    "results_summary = results_table.groupBy(\n",
    "    when(\n",
    "        (results_table[\"y\"] == 1) & (results_table[\"pred_class\"] == 1), \"True Positive\"\n",
    "    )\n",
    "    .when(\n",
    "        (results_table[\"y\"] == 0) & (results_table[\"pred_class\"] == 0), \"True Negative\"\n",
    "    )\n",
    "    .when(\n",
    "        (results_table[\"y\"] == 0) & (results_table[\"pred_class\"] == 1), \"False Positive\"\n",
    "    )\n",
    "    .when(\n",
    "        (results_table[\"y\"] == 1) & (results_table[\"pred_class\"] == 0), \"False Negative\"\n",
    "    )\n",
    "    .otherwise(\"Other\")\n",
    "    .alias(\"Result\")\n",
    ").count()\n",
    "\n",
    "\n",
    "# Convert to Pandas DataFrame for better display and plotting\n",
    "summary_pd = results_summary.toPandas()\n",
    "\n",
    "# Plotting the counts as a bar plot\n",
    "plt.figure(figsize=(10, 6))\n",
    "plt.bar(\n",
    "    summary_pd[\"Result\"],\n",
    "    summary_pd[\"count\"],\n",
    "    color=[\"green\", \"blue\", \"orange\", \"red\"],\n",
    "    alpha=0.6,\n",
    ")\n",
    "\n",
    "plt.title(\"Counts of True vs Predicted Labels\")\n",
    "plt.xlabel(\"Result Type\")\n",
    "plt.ylabel(\"Counts\")\n",
    "plt.grid(axis=\"y\")\n",
    "\n",
    "# Show the plot\n",
    "plt.tight_layout()\n",
    "plt.show()"
   ]
  },
  {
   "cell_type": "code",
   "execution_count": 60,
   "metadata": {},
   "outputs": [
    {
     "name": "stdout",
     "output_type": "stream",
     "text": [
      "           Result  count\n",
      "0  False Negative   2803\n",
      "1           Other      5\n",
      "2   True Positive   6581\n",
      "3  False Positive   2877\n",
      "4   True Negative   6422\n",
      "Best Regularization Parameter: 0.01\n",
      "Best Elastic Net Parameter: 0.0\n",
      "Coefficients: [0.08701011747289286,0.007262923488355092,0.09602726868147052,0.00626078630738885,-0.07810910658796165,0.005257314839377952,0.002364476639820141,0.0336452941738298,-0.00039156132712188,0.0001368151832615547,0.1095996578279724,-0.010261126301116232,-0.0019353334323517675,-0.0113740577477529,-0.0035889640769292486,-0.03603070137512083,-0.0002672286471569024,0.002874425030633493,-0.012269810208529394]\n",
      "Intercept: -0.14135957266688998\n"
     ]
    }
   ],
   "source": [
    "print(summary_pd)\n",
    "best_model = cv_model.bestModel\n",
    "\n",
    "# Print trained parameters\n",
    "print(f\"Best Regularization Parameter: {best_model._java_obj.getRegParam()}\")\n",
    "print(f\"Best Elastic Net Parameter: {best_model._java_obj.getElasticNetParam()}\")\n",
    "print(f\"Coefficients: {best_model.coefficients}\")\n",
    "print(f\"Intercept: {best_model.intercept}\")"
   ]
  }
 ],
 "metadata": {
  "kernelspec": {
   "display_name": "base",
   "language": "python",
   "name": "python3"
  },
  "language_info": {
   "codemirror_mode": {
    "name": "ipython",
    "version": 3
   },
   "file_extension": ".py",
   "mimetype": "text/x-python",
   "name": "python",
   "nbconvert_exporter": "python",
   "pygments_lexer": "ipython3",
   "version": "3.12.4"
  }
 },
 "nbformat": 4,
 "nbformat_minor": 2
}
