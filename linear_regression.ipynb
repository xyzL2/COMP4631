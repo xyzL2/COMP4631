{
 "cells": [
  {
   "cell_type": "code",
   "execution_count": 1,
   "metadata": {},
   "outputs": [
    {
     "name": "stdout",
     "output_type": "stream",
     "text": [
      "JAVA_HOME: /opt/homebrew/Cellar/openjdk@17/17.0.13/libexec/openjdk.jdk/Contents/Home\n",
      "openjdk version \"17.0.13\" 2024-10-15\n",
      "OpenJDK Runtime Environment Homebrew (build 17.0.13+0)\n",
      "OpenJDK 64-Bit Server VM Homebrew (build 17.0.13+0, mixed mode, sharing)\n"
     ]
    }
   ],
   "source": [
    "import os\n",
    "import subprocess\n",
    "\n",
    "java_home = subprocess.check_output([\"/usr/libexec/java_home\", \"-v\", \"17\"]).strip().decode('utf-8')\n",
    "\n",
    "# Set JAVA_HOME and PATH\n",
    "os.environ[\"JAVA_HOME\"] = java_home\n",
    "os.environ[\"PATH\"] = os.path.join(java_home, \"bin\") + \":\" + os.environ[\"PATH\"]\n",
    "os.environ[\"PYSPARK_SUBMIT_ARGS\"] = \"--master local pyspark-shell\"\n",
    "\n",
    "# Verify JAVA_HOME and Java version\n",
    "print(\"JAVA_HOME:\", os.environ['JAVA_HOME'])\n",
    "!java -version"
   ]
  },
  {
   "cell_type": "code",
   "execution_count": 2,
   "metadata": {},
   "outputs": [
    {
     "name": "stderr",
     "output_type": "stream",
     "text": [
      "24/11/28 23:51:11 WARN Utils: Your hostname, MacBook-Air-von-Linda.local resolves to a loopback address: 127.0.0.1; using 10.89.101.139 instead (on interface en0)\n",
      "24/11/28 23:51:11 WARN Utils: Set SPARK_LOCAL_IP if you need to bind to another address\n",
      "Setting default log level to \"WARN\".\n",
      "To adjust logging level use sc.setLogLevel(newLevel). For SparkR, use setLogLevel(newLevel).\n",
      "24/11/28 23:51:11 WARN NativeCodeLoader: Unable to load native-hadoop library for your platform... using builtin-java classes where applicable\n"
     ]
    }
   ],
   "source": [
    "from pyspark.sql import SparkSession\n",
    "from pyspark.sql import functions as F\n",
    "\n",
    "spark = SparkSession.builder \\\n",
    "    .appName(\"CBRFSS\") \\\n",
    "    .config(\"spark.executor.memory\", \"4g\") \\\n",
    "    .config(\"spark.driver.memory\", \"4g\") \\\n",
    "    .config(\"spark.executor.cores\", \"4\") \\\n",
    "    .config(\"spark.executor.instances\", \"4\") \\\n",
    "    .getOrCreate()\n",
    "\n"
   ]
  },
  {
   "cell_type": "code",
   "execution_count": 6,
   "metadata": {},
   "outputs": [
    {
     "name": "stdout",
     "output_type": "stream",
     "text": [
      "+-------+--------+--------+-------+------+--------+--------+--------+--------+-------+--------+--------+--------+-----+--------+--------+--------+--------+--------+---+\n",
      "|GENHLTH|_AGEG5YR|_RFHYPE6|EMPLOY1|_MICHD|_DRDXAR2|_HCVU653|_RFCHOL3|METVL12_|ALCDAY4|_BMI5CAT|DIFFWALK|_TOTINDA|EDUCA|_INCOMG1|CHCKDNY2|FALL12MN|SMOKE100|CVDINFR4|  y|\n",
      "+-------+--------+--------+-------+------+--------+--------+--------+--------+-------+--------+--------+--------+-----+--------+--------+--------+--------+--------+---+\n",
      "|    4.0|    11.0|     2.0|    1.0|   2.0|     1.0|     9.0|     1.0|   103.0|  888.0|     2.0|     1.0|     1.0|  5.0|     4.0|     2.0|    88.0|     1.0|     2.0|  0|\n",
      "|    2.0|     9.0|     1.0|    2.0|   2.0|     2.0|     1.0|     2.0|   106.0|  220.0|     2.0|     2.0|     1.0|  6.0|     5.0|     2.0|     2.0|     2.0|     2.0|  0|\n",
      "|    3.0|     8.0|     1.0|    1.0|   2.0|     2.0|     1.0|     1.0|   104.0|  210.0|     4.0|     2.0|     1.0|  6.0|     5.0|     2.0|    88.0|     2.0|     2.0|  0|\n",
      "|    3.0|     9.0|     2.0|    7.0|   2.0|     2.0|     9.0|     2.0|   103.0|  203.0|     3.0|     2.0|     1.0|  6.0|     3.0|     2.0|    88.0|     1.0|     2.0|  0|\n",
      "|    1.0|     9.0|     1.0|    2.0|   2.0|     2.0|     1.0|     1.0|   103.0|  202.0|     2.0|     2.0|     1.0|  4.0|     9.0|     2.0|    88.0|     1.0|     2.0|  0|\n",
      "|    4.0|    13.0|     2.0|    7.0|   2.0|     1.0|     9.0|     2.0|   104.0|  888.0|     4.0|     1.0|     1.0|  6.0|     2.0|     1.0|    88.0|     1.0|     2.0|  1|\n",
      "|    3.0|     7.0|     2.0|    1.0|   2.0|     2.0|     1.0|     2.0|   103.0|  888.0|     4.0|     1.0|     1.0|  4.0|     2.0|     2.0|    88.0|     1.0|     2.0|  1|\n",
      "|    4.0|    13.0|     2.0|    7.0|   1.0|     2.0|     9.0|     1.0|     2.0|  888.0|     2.0|     2.0|     2.0|  4.0|     3.0|     2.0|     1.0|     2.0|     1.0|  0|\n",
      "|    4.0|    12.0|     2.0|    7.0|   2.0|     1.0|     9.0|     2.0|     2.0|  204.0|     4.0|     1.0|     2.0|  6.0|     9.0|     2.0|    88.0|     2.0|     2.0|  0|\n",
      "|    2.0|    12.0|     2.0|    7.0|   2.0|     1.0|     9.0|     2.0|   103.0|  203.0|     4.0|     1.0|     1.0|  6.0|     6.0|     2.0|    88.0|     1.0|     2.0|  1|\n",
      "|    4.0|    13.0|     2.0|    7.0|   1.0|     1.0|     9.0|     2.0|     2.0|  201.0|     4.0|     1.0|     2.0|  5.0|     4.0|     1.0|    88.0|     1.0|     1.0|  0|\n",
      "|    3.0|    10.0|     2.0|    7.0|   2.0|     2.0|     9.0|     2.0|     2.0|  888.0|     3.0|     2.0|     2.0|  5.0|     5.0|     2.0|    88.0|     1.0|     2.0|  0|\n",
      "|    3.0|     9.0|     1.0|    1.0|   2.0|     1.0|     1.0|     2.0|     2.0|  203.0|     4.0|     2.0|     2.0|  6.0|     1.0|     2.0|    88.0|     1.0|     2.0|  0|\n",
      "|    2.0|    12.0|     2.0|    7.0|   2.0|     2.0|     9.0|     2.0|   104.0|  888.0|     3.0|     2.0|     1.0|  5.0|     1.0|     2.0|    88.0|     2.0|     2.0|  0|\n",
      "|    3.0|    11.0|     2.0|    5.0|   2.0|     1.0|     9.0|     1.0|   103.0|  201.0|     2.0|     1.0|     1.0|  2.0|     1.0|     2.0|     3.0|     2.0|     2.0|  0|\n",
      "|    5.0|    11.0|     2.0|    7.0|   2.0|     2.0|     9.0|     1.0|     2.0|  888.0|     4.0|     1.0|     2.0|  4.0|     5.0|     2.0|    88.0|     1.0|     2.0|  0|\n",
      "|    4.0|     6.0|     2.0|    9.0|   2.0|     2.0|     1.0|     1.0|     2.0|  888.0|     4.0|     2.0|     2.0|  2.0|     2.0|     2.0|    88.0|     2.0|     2.0|  1|\n",
      "|    4.0|    10.0|     1.0|    7.0|   2.0|     1.0|     9.0|     2.0|   103.0|  888.0|     3.0|     2.0|     1.0|  6.0|     6.0|     2.0|    88.0|     2.0|     2.0|  0|\n",
      "|    1.0|    11.0|     1.0|    2.0|   2.0|     2.0|     9.0|     1.0|   106.0|  888.0|     2.0|     2.0|     1.0|  5.0|     4.0|     2.0|    88.0|     1.0|     2.0|  0|\n",
      "|    2.0|    10.0|     1.0|    1.0|   2.0|     1.0|     9.0|     2.0|   103.0|  888.0|     3.0|     2.0|     1.0|  6.0|     6.0|     2.0|     1.0|     1.0|     2.0|  0|\n",
      "|    3.0|    12.0|     2.0|    7.0|   2.0|     2.0|     9.0|     1.0|   104.0|  888.0|     2.0|     2.0|     1.0|  5.0|     5.0|     2.0|    88.0|     1.0|     2.0|  0|\n",
      "|    1.0|    13.0|     2.0|    7.0|   2.0|     1.0|     9.0|     2.0|   103.0|  205.0|     4.0|     2.0|     1.0|  6.0|     5.0|     2.0|    88.0|     2.0|     2.0|  0|\n",
      "|    3.0|     8.0|     1.0|    1.0|   2.0|     1.0|     1.0|     1.0|   103.0|  888.0|     3.0|     2.0|     1.0|  6.0|     2.0|     2.0|    88.0|     2.0|     2.0|  0|\n",
      "|    4.0|     6.0|     1.0|    8.0|   2.0|     1.0|     1.0|     1.0|   104.0|  888.0|     4.0|     1.0|     1.0|  5.0|     1.0|     2.0|     1.0|     1.0|     2.0|  1|\n",
      "|    3.0|    10.0|     2.0|    4.0|   2.0|     2.0|     9.0|     1.0|   103.0|  888.0|     2.0|     2.0|     1.0|  3.0|     4.0|     2.0|    88.0|     2.0|     2.0|  0|\n",
      "|    4.0|     8.0|     2.0|    2.0|   2.0|     2.0|     1.0|     1.0|     2.0|  888.0|     4.0|     1.0|     2.0|  5.0|     2.0|     2.0|    88.0|     1.0|     2.0|  0|\n",
      "|    4.0|     7.0|     1.0|    5.0|   2.0|     1.0|     1.0|     2.0|     2.0|  201.0|     4.0|     1.0|     2.0|  4.0|     2.0|     2.0|    88.0|     2.0|     2.0|  1|\n",
      "|    2.0|     9.0|     2.0|    1.0|   2.0|     2.0|     1.0|     1.0|   103.0|  888.0|     4.0|     2.0|     1.0|  4.0|     5.0|     2.0|    88.0|     2.0|     2.0|  0|\n",
      "|    1.0|    10.0|     1.0|    2.0|   2.0|     1.0|     9.0|     1.0|   103.0|  203.0|     2.0|     2.0|     1.0|  6.0|     5.0|     2.0|    88.0|     2.0|     2.0|  0|\n",
      "|    2.0|    12.0|     2.0|    4.0|   2.0|     2.0|     9.0|     2.0|   103.0|  225.0|     3.0|     2.0|     1.0|  6.0|     9.0|     2.0|    88.0|     1.0|     2.0|  0|\n",
      "+-------+--------+--------+-------+------+--------+--------+--------+--------+-------+--------+--------+--------+-----+--------+--------+--------+--------+--------+---+\n",
      "only showing top 30 rows\n",
      "\n"
     ]
    }
   ],
   "source": [
    "file_path = \"output/processedv2.parquet\"\n",
    "\n",
    "df = spark.read.parquet(file_path)\n",
    "# df.printSchema()\n",
    "df.show(30)"
   ]
  },
  {
   "cell_type": "markdown",
   "metadata": {},
   "source": []
  },
  {
   "cell_type": "code",
   "execution_count": 7,
   "metadata": {},
   "outputs": [
    {
     "name": "stdout",
     "output_type": "stream",
     "text": [
      "root\n",
      " |-- GENHLTH: double (nullable = true)\n",
      " |-- _AGEG5YR: double (nullable = true)\n",
      " |-- _RFHYPE6: double (nullable = true)\n",
      " |-- EMPLOY1: double (nullable = true)\n",
      " |-- _MICHD: double (nullable = true)\n",
      " |-- _DRDXAR2: double (nullable = true)\n",
      " |-- _HCVU653: double (nullable = true)\n",
      " |-- _RFCHOL3: double (nullable = true)\n",
      " |-- METVL12_: double (nullable = true)\n",
      " |-- ALCDAY4: double (nullable = true)\n",
      " |-- _BMI5CAT: double (nullable = true)\n",
      " |-- DIFFWALK: double (nullable = true)\n",
      " |-- _TOTINDA: double (nullable = true)\n",
      " |-- EDUCA: double (nullable = true)\n",
      " |-- _INCOMG1: double (nullable = true)\n",
      " |-- CHCKDNY2: double (nullable = true)\n",
      " |-- FALL12MN: double (nullable = true)\n",
      " |-- SMOKE100: double (nullable = true)\n",
      " |-- CVDINFR4: double (nullable = true)\n",
      " |-- y: integer (nullable = true)\n",
      "\n"
     ]
    }
   ],
   "source": [
    "df.printSchema()"
   ]
  },
  {
   "cell_type": "code",
   "execution_count": 8,
   "metadata": {},
   "outputs": [
    {
     "name": "stdout",
     "output_type": "stream",
     "text": [
      "Dimensions of DataFrame: 251504 rows, 20 columns\n"
     ]
    }
   ],
   "source": [
    "num_columns = len(df.columns)\n",
    "\n",
    "num_rows = df.count()\n",
    "# Print the dimensions\n",
    "print(f\"Dimensions of DataFrame: {num_rows} rows, {num_columns} columns\")"
   ]
  },
  {
   "cell_type": "markdown",
   "metadata": {},
   "source": [
    "We will split the data into 80-20 train and test set and use cross validation"
   ]
  },
  {
   "cell_type": "code",
   "execution_count": 9,
   "metadata": {},
   "outputs": [
    {
     "name": "stderr",
     "output_type": "stream",
     "text": [
      "                                                                                \r"
     ]
    },
    {
     "name": "stdout",
     "output_type": "stream",
     "text": [
      "Training set count: 201155\n",
      "Test set count: 50349\n"
     ]
    }
   ],
   "source": [
    "df_filled = df.fillna(0)\n",
    "train_df, test_df = df_filled.randomSplit([0.8, 0.2], seed=1)\n",
    "# Show the counts of each split\n",
    "print(f\"Training set count: {train_df.count()}\")\n",
    "print(f\"Test set count: {test_df.count()}\")"
   ]
  },
  {
   "cell_type": "code",
   "execution_count": 10,
   "metadata": {},
   "outputs": [
    {
     "name": "stderr",
     "output_type": "stream",
     "text": [
      "24/11/28 23:52:16 WARN SparkStringUtils: Truncated the string representation of a plan since it was too large. This behavior can be adjusted by setting 'spark.sql.debug.maxToStringFields'.\n",
      "24/11/28 23:52:18 WARN InstanceBuilder: Failed to load implementation from:dev.ludovic.netlib.blas.JNIBLAS\n",
      "24/11/28 23:52:18 WARN InstanceBuilder: Failed to load implementation from:dev.ludovic.netlib.blas.VectorBLAS\n",
      "24/11/28 23:52:18 WARN InstanceBuilder: Failed to load implementation from:dev.ludovic.netlib.lapack.JNILAPACK\n",
      "                                                                                \r"
     ]
    },
    {
     "name": "stdout",
     "output_type": "stream",
     "text": [
      "Root Mean Squared Error (RMSE) on test data: 0.3624568576736904\n",
      "Best Regularization Parameter: 0.001\n",
      "Best Elastic Net Parameter: 0.0\n"
     ]
    }
   ],
   "source": [
    "from pyspark.ml.feature import VectorAssembler\n",
    "from pyspark.ml.regression import LinearRegression\n",
    "from pyspark.ml.evaluation import RegressionEvaluator\n",
    "from pyspark.ml.tuning import CrossValidator, ParamGridBuilder\n",
    "\n",
    "# Prepare feature columns by removing the target variable 'y'\n",
    "feature_columns = df.columns\n",
    "feature_columns.remove(\"y\")\n",
    "\n",
    "# Step 1: Assemble features into a single vector for training data\n",
    "assembler = VectorAssembler(inputCols=feature_columns, outputCol=\"features\")\n",
    "train_data = assembler.transform(train_df)\n",
    "\n",
    "lr = LinearRegression(featuresCol=\"features\", labelCol=\"y\")\n",
    "\n",
    "# Step 3: Set up Cross-Validation\n",
    "paramGrid = (\n",
    "    ParamGridBuilder()\n",
    "    .addGrid(lr.regParam, [0.1, 0.01, 0.001])\n",
    "    .addGrid(lr.elasticNetParam, [0.0,0.001,0.01,0.1, 0.5])\n",
    "    .build()\n",
    ")\n",
    "\n",
    "crossval = CrossValidator(\n",
    "    estimator=lr,\n",
    "    estimatorParamMaps=paramGrid,\n",
    "    evaluator=RegressionEvaluator(labelCol=\"y\", metricName=\"rmse\"),\n",
    "    numFolds=5,\n",
    ")  # Use 5+ folds for cross-validation\n",
    "\n",
    "# Train the model using Cross-Validation on the training data\n",
    "cv_model = crossval.fit(train_data)\n",
    "\n",
    "# Step 4: Evaluate on Test Set\n",
    "test_data = assembler.transform(test_df)\n",
    "test_predictions = cv_model.transform(test_data)\n",
    "\n",
    "# Evaluate the model performance on test data\n",
    "evaluator = RegressionEvaluator(\n",
    "    labelCol=\"y\", predictionCol=\"prediction\", metricName=\"rmse\"\n",
    ")\n",
    "test_rmse = evaluator.evaluate(test_predictions)\n",
    "print(f\"Root Mean Squared Error (RMSE) on test data: {test_rmse}\")\n",
    "\n",
    "# Optional: Show best model parameters from cross-validation\n",
    "best_model = cv_model.bestModel\n",
    "print(f\"Best Regularization Parameter: {best_model._java_obj.getRegParam()}\")\n",
    "print(f\"Best Elastic Net Parameter: {best_model._java_obj.getElasticNetParam()}\")"
   ]
  },
  {
   "cell_type": "code",
   "execution_count": 12,
   "metadata": {},
   "outputs": [
    {
     "name": "stdout",
     "output_type": "stream",
     "text": [
      "Accuracy on test data: 0.815666646805299\n",
      "Precision on test data: 0.7682808732030133\n"
     ]
    }
   ],
   "source": [
    "threshold = 0.5\n",
    "\n",
    "# Convert predictions to binary classes based on threshold\n",
    "test_predictions = test_predictions.withColumn(\n",
    "    \"prediction_class\", F.when(test_predictions[\"prediction\"] > threshold, 1.0).otherwise(0.0)\n",
    ")\n",
    "\n",
    "# Assuming you have true labels in a column named \"true_class\"\n",
    "from pyspark.ml.evaluation import MulticlassClassificationEvaluator\n",
    "\n",
    "# Evaluate precision and accuracy\n",
    "classification_evaluator = MulticlassClassificationEvaluator(\n",
    "    labelCol=\"y\", predictionCol=\"prediction_class\"\n",
    ")\n",
    "\n",
    "accuracy = classification_evaluator.evaluate(\n",
    "    test_predictions, {classification_evaluator.metricName: \"accuracy\"}\n",
    ")\n",
    "precision = classification_evaluator.evaluate(\n",
    "    test_predictions, {classification_evaluator.metricName: \"weightedPrecision\"}\n",
    ")\n",
    "\n",
    "print(f\"Accuracy on test data: {accuracy}\")\n",
    "print(f\"Precision on test data: {precision}\")"
   ]
  },
  {
   "cell_type": "code",
   "execution_count": 28,
   "metadata": {},
   "outputs": [
    {
     "data": {
      "image/png": "[encoded data removed]",
      "text/plain": [
       "<Figure size 1000x600 with 1 Axes>"
      ]
     },
     "metadata": {},
     "output_type": "display_data"
    }
   ],
   "source": [
    "from pyspark.sql.functions import round, when\n",
    "import matplotlib.pyplot as plt\n",
    "\n",
    "test_predictions = test_predictions.withColumn(\n",
    "    \"pred_class\",\n",
    "    F.when(test_predictions[\"prediction\"] > threshold, 1.0).otherwise(0.0),\n",
    ")\n",
    "\n",
    "# Create a new column for classification results\n",
    "results_table = test_predictions.select(\"y\", \"pred_class\")\n",
    "\n",
    "# Categorize results into True Positive, True Negative, False Positive, False Negative\n",
    "results_summary = results_table.groupBy(\n",
    "    when(\n",
    "        (results_table[\"y\"] == 1) & (results_table[\"pred_class\"] == 1), \"True Positive\"\n",
    "    )\n",
    "    .when(\n",
    "        (results_table[\"y\"] == 0) & (results_table[\"pred_class\"] == 0), \"True Negative\"\n",
    "    )\n",
    "    .when(\n",
    "        (results_table[\"y\"] == 0) & (results_table[\"pred_class\"] == 1), \"False Positive\"\n",
    "    )\n",
    "    .when(\n",
    "        (results_table[\"y\"] == 1) & (results_table[\"pred_class\"] == 0), \"False Negative\"\n",
    "    )\n",
    "    .otherwise(\"Other\")\n",
    "    .alias(\"Result\")\n",
    ").count()\n",
    "\n",
    "\n",
    "# Convert to Pandas DataFrame for better display and plotting\n",
    "summary_pd = results_summary.toPandas()\n",
    "\n",
    "# Plotting the counts as a bar plot\n",
    "plt.figure(figsize=(10, 6))\n",
    "plt.bar(\n",
    "    summary_pd[\"Result\"],\n",
    "    summary_pd[\"count\"],\n",
    "    color=[\"green\", \"blue\", \"orange\", \"red\"],\n",
    "    alpha=0.6,\n",
    ")\n",
    "\n",
    "plt.title(\"Counts of True vs Predicted Labels\")\n",
    "plt.xlabel(\"Result Type\")\n",
    "plt.ylabel(\"Counts\")\n",
    "plt.grid(axis=\"y\")\n",
    "\n",
    "# Show the plot\n",
    "plt.tight_layout()\n",
    "plt.show()"
   ]
  },
  {
   "cell_type": "code",
   "execution_count": 14,
   "metadata": {},
   "outputs": [
    {
     "name": "stdout",
     "output_type": "stream",
     "text": [
      "9347\n"
     ]
    }
   ],
   "source": [
    "def count_entries_with_value(df, column_name, value):\n",
    "    \"\"\"\n",
    "    Count how many entries in the specified column of the DataFrame have the given value.\n",
    "\n",
    "    :param df: PySpark DataFrame\n",
    "    :param column_name: Name of the column to check\n",
    "    :param value: Value to count in the specified column\n",
    "    :return: Count of entries with the specified value\n",
    "    \"\"\"\n",
    "    count = df.filter(df[column_name] == value).count()\n",
    "    return count\n",
    "\n",
    "\n",
    "# Sample data for demonstration\n",
    "print(count_entries_with_value(test_df, \"y\", 1))\n"
   ]
  },
  {
   "cell_type": "code",
   "execution_count": 15,
   "metadata": {},
   "outputs": [
    {
     "name": "stdout",
     "output_type": "stream",
     "text": [
      "           Result  count\n",
      "0  False Negative   8908\n",
      "1  False Positive    373\n",
      "2   True Positive    439\n",
      "3   True Negative  40629\n"
     ]
    }
   ],
   "source": [
    "print(summary_pd)"
   ]
  },
  {
   "cell_type": "code",
   "execution_count": 16,
   "metadata": {},
   "outputs": [
    {
     "name": "stdout",
     "output_type": "stream",
     "text": [
      "Best Regularization Parameter: 0.001\n",
      "Best Elastic Net Parameter: 0.0\n",
      "Coefficients: [0.05142640813671729,0.0006308431826689612,0.054660226780683746,0.004643817001235334,-0.06821939241499742,0.00270036699919938,0.001308153024529371,0.0231078468351563,-0.0003129603538371914,8.59542351393173e-05,0.06456595379080031,-0.01610925430727142,-0.0021223376966876474,-0.007315827478435005,-0.002460737214729918,-0.03969044662693853,-0.00021688744742279315,0.0015999304797944965,-0.020177433940209807]\n",
      "Intercept: 0.009464156799243709\n"
     ]
    }
   ],
   "source": [
    "best_model = cv_model.bestModel\n",
    "\n",
    "# Print trained parameters\n",
    "print(f\"Best Regularization Parameter: {best_model._java_obj.getRegParam()}\")\n",
    "print(f\"Best Elastic Net Parameter: {best_model._java_obj.getElasticNetParam()}\")\n",
    "print(f\"Coefficients: {best_model.coefficients}\")\n",
    "print(f\"Intercept: {best_model.intercept}\")"
   ]
  },
  {
   "cell_type": "markdown",
   "metadata": {},
   "source": [
    "We notice that a lot of false negatives have been invoked. The reason for that may be because the dataset has far more rows with y = 0 than y = 1. Thus, we ran the same experiment again with a 50/50 split. "
   ]
  },
  {
   "cell_type": "code",
   "execution_count": 17,
   "metadata": {},
   "outputs": [],
   "source": [
    "from pyspark.sql.functions import col\n",
    "\n",
    "df_y_1 = df.filter(col(\"y\") == 1)\n",
    "df_y_0 = df.filter(col(\"y\") == 0)"
   ]
  },
  {
   "cell_type": "code",
   "execution_count": 18,
   "metadata": {},
   "outputs": [
    {
     "name": "stdout",
     "output_type": "stream",
     "text": [
      "+-------+--------+--------+-------+------+--------+--------+--------+--------+-------+--------+--------+--------+-----+--------+--------+--------+--------+--------+---+\n",
      "|GENHLTH|_AGEG5YR|_RFHYPE6|EMPLOY1|_MICHD|_DRDXAR2|_HCVU653|_RFCHOL3|METVL12_|ALCDAY4|_BMI5CAT|DIFFWALK|_TOTINDA|EDUCA|_INCOMG1|CHCKDNY2|FALL12MN|SMOKE100|CVDINFR4|  y|\n",
      "+-------+--------+--------+-------+------+--------+--------+--------+--------+-------+--------+--------+--------+-----+--------+--------+--------+--------+--------+---+\n",
      "|    4.0|    13.0|     2.0|    7.0|   2.0|     1.0|     9.0|     2.0|   104.0|  888.0|     4.0|     1.0|     1.0|  6.0|     2.0|     1.0|    88.0|     1.0|     2.0|  1|\n",
      "|    3.0|     7.0|     2.0|    1.0|   2.0|     2.0|     1.0|     2.0|   103.0|  888.0|     4.0|     1.0|     1.0|  4.0|     2.0|     2.0|    88.0|     1.0|     2.0|  1|\n",
      "|    2.0|    12.0|     2.0|    7.0|   2.0|     1.0|     9.0|     2.0|   103.0|  203.0|     4.0|     1.0|     1.0|  6.0|     6.0|     2.0|    88.0|     1.0|     2.0|  1|\n",
      "|    4.0|     6.0|     2.0|    9.0|   2.0|     2.0|     1.0|     1.0|     2.0|  888.0|     4.0|     2.0|     2.0|  2.0|     2.0|     2.0|    88.0|     2.0|     2.0|  1|\n",
      "|    4.0|     6.0|     1.0|    8.0|   2.0|     1.0|     1.0|     1.0|   104.0|  888.0|     4.0|     1.0|     1.0|  5.0|     1.0|     2.0|     1.0|     1.0|     2.0|  1|\n",
      "|    4.0|     7.0|     1.0|    5.0|   2.0|     1.0|     1.0|     2.0|     2.0|  201.0|     4.0|     1.0|     2.0|  4.0|     2.0|     2.0|    88.0|     2.0|     2.0|  1|\n",
      "|    2.0|    10.0|     2.0|    7.0|   2.0|     1.0|     9.0|     2.0|   104.0|  888.0|     3.0|     2.0|     1.0|  5.0|     5.0|     2.0|     2.0|     2.0|     2.0|  1|\n",
      "|    2.0|     9.0|     2.0|    1.0|   2.0|     2.0|     1.0|     2.0|   107.0|  201.0|     3.0|     2.0|     1.0|  6.0|     7.0|     2.0|    88.0|     1.0|     2.0|  1|\n",
      "|    3.0|     6.0|     2.0|    1.0|   2.0|     1.0|     1.0|     1.0|   100.0|  888.0|     4.0|     2.0|     1.0|  4.0|     5.0|     2.0|    88.0|     2.0|     2.0|  1|\n",
      "|    5.0|    11.0|     2.0|    7.0|   1.0|     1.0|     9.0|     2.0|   104.0|  201.0|     3.0|     1.0|     1.0|  5.0|     4.0|     1.0|    88.0|     2.0|     1.0|  1|\n",
      "|    2.0|    10.0|     2.0|    1.0|   2.0|     2.0|     9.0|     1.0|   106.0|  204.0|     3.0|     2.0|     1.0|  6.0|     5.0|     2.0|    88.0|     1.0|     2.0|  1|\n",
      "|    2.0|    11.0|     2.0|    7.0|   2.0|     2.0|     9.0|     1.0|   103.0|  888.0|     3.0|     2.0|     1.0|  6.0|     9.0|     2.0|     1.0|     2.0|     2.0|  1|\n",
      "|    3.0|     7.0|     2.0|    7.0|   2.0|     2.0|     1.0|     2.0|   103.0|  102.0|     4.0|     2.0|     1.0|  5.0|     5.0|     2.0|    88.0|     2.0|     2.0|  1|\n",
      "|    3.0|    11.0|     2.0|    7.0|   2.0|     2.0|     9.0|     2.0|   104.0|  888.0|     2.0|     1.0|     1.0|  4.0|     9.0|     2.0|    88.0|     1.0|     2.0|  1|\n",
      "|    2.0|    12.0|     2.0|    7.0|   2.0|     1.0|     9.0|     1.0|     2.0|  888.0|     4.0|     1.0|     2.0|  4.0|     9.0|     2.0|    88.0|     2.0|     2.0|  1|\n",
      "|    1.0|    11.0|     2.0|    7.0|   2.0|     2.0|     9.0|     1.0|   106.0|  888.0|     2.0|     1.0|     1.0|  5.0|     9.0|     2.0|    88.0|     2.0|     2.0|  1|\n",
      "|    4.0|     9.0|     2.0|    8.0|   1.0|     1.0|     1.0|     2.0|     2.0|  888.0|     4.0|     1.0|     2.0|  4.0|     3.0|     2.0|     8.0|     1.0|     1.0|  1|\n",
      "|    4.0|     9.0|     9.0|    1.0|   2.0|     1.0|     1.0|     2.0|   104.0|  888.0|     4.0|     1.0|     1.0|  3.0|     1.0|     2.0|     2.0|     2.0|     2.0|  1|\n",
      "|    2.0|    10.0|     2.0|    7.0|   2.0|     2.0|     9.0|     2.0|   103.0|  888.0|     4.0|     2.0|     1.0|  5.0|     6.0|     2.0|     1.0|     2.0|     2.0|  1|\n",
      "|    3.0|     9.0|     2.0|    7.0|   2.0|     2.0|     1.0|     1.0|   103.0|  888.0|     4.0|     2.0|     1.0|  6.0|     5.0|     2.0|    88.0|     2.0|     2.0|  1|\n",
      "+-------+--------+--------+-------+------+--------+--------+--------+--------+-------+--------+--------+--------+-----+--------+--------+--------+--------+--------+---+\n",
      "only showing top 20 rows\n",
      "\n"
     ]
    }
   ],
   "source": [
    "num_samples = min(df_y_1.count(), df_y_0.count())  # Get the minimum count\n",
    "\n",
    "sampled_y_1 = df_y_1.sample(\n",
    "    False, num_samples / df_y_1.count(), seed=42\n",
    ")  # Randomly sample from y=1\n",
    "sampled_y_0 = df_y_0.sample(\n",
    "    False, num_samples / df_y_0.count(), seed=42\n",
    ")  # Randomly sample from y=0\n",
    "\n",
    "# Step 3: Union the sampled DataFrames\n",
    "new_df = sampled_y_1.union(sampled_y_0)\n",
    "\n",
    "# Show the result\n",
    "new_df.show()"
   ]
  },
  {
   "cell_type": "code",
   "execution_count": 19,
   "metadata": {},
   "outputs": [
    {
     "name": "stdout",
     "output_type": "stream",
     "text": [
      "Dimensions of DataFrame: 93189 rows, 20 columns\n"
     ]
    }
   ],
   "source": [
    "num_columns = len(new_df.columns)\n",
    "\n",
    "num_rows = new_df.count()\n",
    "# Print the dimensions\n",
    "print(f\"Dimensions of DataFrame: {num_rows} rows, {num_columns} columns\")"
   ]
  },
  {
   "cell_type": "code",
   "execution_count": 20,
   "metadata": {},
   "outputs": [
    {
     "name": "stdout",
     "output_type": "stream",
     "text": [
      "Training set count: 74501\n",
      "Test set count: 18688\n"
     ]
    }
   ],
   "source": [
    "df_filled = df.fillna(0)\n",
    "train_df, test_df = new_df.randomSplit([0.8, 0.2], seed=1)\n",
    "# Show the counts of each split\n",
    "print(f\"Training set count: {train_df.count()}\")\n",
    "print(f\"Test set count: {test_df.count()}\")"
   ]
  },
  {
   "cell_type": "code",
   "execution_count": 21,
   "metadata": {},
   "outputs": [
    {
     "name": "stdout",
     "output_type": "stream",
     "text": [
      "Root Mean Squared Error (RMSE) on test data: 0.4471374930375396\n",
      "Best Regularization Parameter: 0.001\n",
      "Best Elastic Net Parameter: 0.0\n"
     ]
    }
   ],
   "source": [
    "from pyspark.ml.feature import VectorAssembler\n",
    "from pyspark.ml.regression import LinearRegression\n",
    "from pyspark.ml.evaluation import RegressionEvaluator\n",
    "from pyspark.ml.tuning import CrossValidator, ParamGridBuilder\n",
    "\n",
    "# Prepare feature columns by removing the target variable 'y'\n",
    "feature_columns = new_df.columns\n",
    "feature_columns.remove(\"y\")\n",
    "\n",
    "# Step 1: Assemble features into a single vector for training data\n",
    "assembler = VectorAssembler(inputCols=feature_columns, outputCol=\"features\")\n",
    "train_data = assembler.transform(train_df)\n",
    "\n",
    "lr = LinearRegression(featuresCol=\"features\", labelCol=\"y\")\n",
    "\n",
    "# Step 3: Set up Cross-Validation\n",
    "paramGrid = (\n",
    "    ParamGridBuilder()\n",
    "    .addGrid(lr.regParam, [0.1, 0.01, 0.001])\n",
    "    .addGrid(lr.elasticNetParam, [0.0, 0.001, 0.01, 0.1, 0.5])\n",
    "    .build()\n",
    ")\n",
    "\n",
    "crossval = CrossValidator(\n",
    "    estimator=lr,\n",
    "    estimatorParamMaps=paramGrid,\n",
    "    evaluator=RegressionEvaluator(labelCol=\"y\", metricName=\"rmse\"),\n",
    "    numFolds=5,\n",
    ")  # Use 5+ folds for cross-validation\n",
    "\n",
    "# Train the model using Cross-Validation on the training data\n",
    "cv_model = crossval.fit(train_data)\n",
    "\n",
    "# Step 4: Evaluate on Test Set\n",
    "test_data = assembler.transform(test_df)\n",
    "test_predictions = cv_model.transform(test_data)\n",
    "\n",
    "# Evaluate the model performance on test data\n",
    "evaluator = RegressionEvaluator(\n",
    "    labelCol=\"y\", predictionCol=\"prediction\", metricName=\"rmse\"\n",
    ")\n",
    "test_rmse = evaluator.evaluate(test_predictions)\n",
    "print(f\"Root Mean Squared Error (RMSE) on test data: {test_rmse}\")\n",
    "\n",
    "# Optional: Show best model parameters from cross-validation\n",
    "best_model = cv_model.bestModel\n",
    "print(f\"Best Regularization Parameter: {best_model._java_obj.getRegParam()}\")\n",
    "print(f\"Best Elastic Net Parameter: {best_model._java_obj.getElasticNetParam()}\")"
   ]
  },
  {
   "cell_type": "code",
   "execution_count": 22,
   "metadata": {},
   "outputs": [
    {
     "name": "stdout",
     "output_type": "stream",
     "text": [
      "Accuracy on test data: 0.696650256849315\n",
      "Precision on test data: 0.6966515722959987\n"
     ]
    }
   ],
   "source": [
    "threshold = 0.5\n",
    "\n",
    "# Convert predictions to binary classes based on threshold\n",
    "test_predictions = test_predictions.withColumn(\n",
    "    \"prediction_class\",\n",
    "    F.when(test_predictions[\"prediction\"] > threshold, 1.0).otherwise(0.0),\n",
    ")\n",
    "\n",
    "from pyspark.ml.evaluation import MulticlassClassificationEvaluator\n",
    "\n",
    "# Evaluate precision and accuracy\n",
    "classification_evaluator = MulticlassClassificationEvaluator(\n",
    "    labelCol=\"y\", predictionCol=\"prediction_class\"\n",
    ")\n",
    "\n",
    "accuracy = classification_evaluator.evaluate(\n",
    "    test_predictions, {classification_evaluator.metricName: \"accuracy\"}\n",
    ")\n",
    "precision = classification_evaluator.evaluate(\n",
    "    test_predictions, {classification_evaluator.metricName: \"weightedPrecision\"}\n",
    ")\n",
    "\n",
    "print(f\"Accuracy on test data: {accuracy}\")\n",
    "print(f\"Precision on test data: {precision}\")"
   ]
  },
  {
   "cell_type": "code",
   "execution_count": 29,
   "metadata": {},
   "outputs": [
    {
     "data": {
      "image/png": "[encoded data removed]",
      "text/plain": [
       "<Figure size 1000x600 with 1 Axes>"
      ]
     },
     "metadata": {},
     "output_type": "display_data"
    }
   ],
   "source": [
    "from pyspark.sql.functions import round, when\n",
    "import matplotlib.pyplot as plt\n",
    "\n",
    "test_predictions = test_predictions.withColumn(\n",
    "    \"pred_class\",\n",
    "    F.when(test_predictions[\"prediction\"] > threshold, 1.0).otherwise(0.0),\n",
    ")\n",
    "\n",
    "# Create a new column for classification results\n",
    "results_table = test_predictions.select(\"y\", \"pred_class\")\n",
    "\n",
    "# Categorize results into True Positive, True Negative, False Positive, False Negative\n",
    "results_summary = results_table.groupBy(\n",
    "    when(\n",
    "        (results_table[\"y\"] == 1) & (results_table[\"pred_class\"] == 1), \"True Positive\"\n",
    "    )\n",
    "    .when(\n",
    "        (results_table[\"y\"] == 0) & (results_table[\"pred_class\"] == 0), \"True Negative\"\n",
    "    )\n",
    "    .when(\n",
    "        (results_table[\"y\"] == 0) & (results_table[\"pred_class\"] == 1), \"False Positive\"\n",
    "    )\n",
    "    .when(\n",
    "        (results_table[\"y\"] == 1) & (results_table[\"pred_class\"] == 0), \"False Negative\"\n",
    "    )\n",
    "    .otherwise(\"Other\")\n",
    "    .alias(\"Result\")\n",
    ").count()\n",
    "\n",
    "\n",
    "# Convert to Pandas DataFrame for better display and plotting\n",
    "summary_pd = results_summary.toPandas()\n",
    "\n",
    "# Plotting the counts as a bar plot\n",
    "plt.figure(figsize=(10, 6))\n",
    "plt.bar(\n",
    "    summary_pd[\"Result\"],\n",
    "    summary_pd[\"count\"],\n",
    "    color=[\"green\", \"blue\", \"orange\", \"red\"],\n",
    "    alpha=0.6,\n",
    ")\n",
    "\n",
    "plt.title(\"Counts of True vs Predicted Labels\")\n",
    "plt.xlabel(\"Result Type\")\n",
    "plt.ylabel(\"Counts\")\n",
    "plt.grid(axis=\"y\")\n",
    "\n",
    "# Show the plot\n",
    "plt.tight_layout()\n",
    "plt.show()"
   ]
  },
  {
   "cell_type": "code",
   "execution_count": 30,
   "metadata": {},
   "outputs": [
    {
     "name": "stdout",
     "output_type": "stream",
     "text": [
      "           Result  count\n",
      "0  False Negative   2796\n",
      "1   True Positive   6593\n",
      "2  False Positive   2873\n",
      "3   True Negative   6426\n",
      "Best Regularization Parameter: 0.001\n",
      "Best Elastic Net Parameter: 0.0\n",
      "Coefficients: [0.08856095221752161,0.007559743536398449,0.09694772143817115,0.006235964702065926,-0.07894444230575781,0.006535969223911723,0.0023111754318209587,0.033943141238548497,-0.0003985207166023812,0.00013846028702862927,0.11135308654727981,-0.00931879475575499,-0.0032277322256620564,-0.011115690287531827,-0.003516167543995681,-0.03632249039365997,-0.00026464087401275677,0.0030300691994269934,-0.011222721473528121]\n",
      "Intercept: -0.16019738567876618\n"
     ]
    }
   ],
   "source": [
    "print(summary_pd)\n",
    "best_model = cv_model.bestModel\n",
    "\n",
    "# Print trained parameters\n",
    "print(f\"Best Regularization Parameter: {best_model._java_obj.getRegParam()}\")\n",
    "print(f\"Best Elastic Net Parameter: {best_model._java_obj.getElasticNetParam()}\")\n",
    "print(f\"Coefficients: {best_model.coefficients}\")\n",
    "print(f\"Intercept: {best_model.intercept}\")"
   ]
  }
 ],
 "metadata": {
  "kernelspec": {
   "display_name": "base",
   "language": "python",
   "name": "python3"
  },
  "language_info": {
   "codemirror_mode": {
    "name": "ipython",
    "version": 3
   },
   "file_extension": ".py",
   "mimetype": "text/x-python",
   "name": "python",
   "nbconvert_exporter": "python",
   "pygments_lexer": "ipython3",
   "version": "3.12.4"
  }
 },
 "nbformat": 4,
 "nbformat_minor": 2
}
