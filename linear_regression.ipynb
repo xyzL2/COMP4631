{
 "cells": [
  {
   "cell_type": "code",
   "execution_count": 1,
   "metadata": {},
   "outputs": [
    {
     "name": "stdout",
     "output_type": "stream",
     "text": [
      "JAVA_HOME: /opt/homebrew/Cellar/openjdk@17/17.0.13/libexec/openjdk.jdk/Contents/Home\n",
      "openjdk version \"17.0.13\" 2024-10-15\n",
      "OpenJDK Runtime Environment Homebrew (build 17.0.13+0)\n",
      "OpenJDK 64-Bit Server VM Homebrew (build 17.0.13+0, mixed mode, sharing)\n"
     ]
    }
   ],
   "source": [
    "import os\n",
    "import subprocess\n",
    "\"\"\"\n",
    "check that the java version is <=17, as spark otherwise raises issues with newer versions of java\n",
    "\"\"\"\n",
    "java_home = subprocess.check_output([\"/usr/libexec/java_home\", \"-v\", \"17\"]).strip().decode('utf-8')\n",
    "\n",
    "# Set JAVA_HOME and PATH\n",
    "os.environ[\"JAVA_HOME\"] = java_home\n",
    "os.environ[\"PATH\"] = os.path.join(java_home, \"bin\") + \":\" + os.environ[\"PATH\"]\n",
    "os.environ[\"PYSPARK_SUBMIT_ARGS\"] = \"--master local pyspark-shell\"\n",
    "\n",
    "# Verify JAVA_HOME and Java version\n",
    "print(\"JAVA_HOME:\", os.environ['JAVA_HOME'])\n",
    "!java -version"
   ]
  },
  {
   "cell_type": "code",
   "execution_count": null,
   "metadata": {},
   "outputs": [],
   "source": [
    "from pyspark.sql import SparkSession\n",
    "from pyspark.sql import functions as F\n",
    "\n",
    "spark = SparkSession.builder \\\n",
    "    .appName(\"CBRFSS\") \\\n",
    "    .config(\"spark.executor.memory\", \"4g\") \\\n",
    "    .config(\"spark.driver.memory\", \"4g\") \\\n",
    "    .config(\"spark.executor.cores\", \"4\") \\\n",
    "    .config(\"spark.executor.instances\", \"4\") \\\n",
    "    .getOrCreate()\n",
    "\n",
    "spark.sparkContext.setLogLevel(\"ERROR\")"
   ]
  },
  {
   "cell_type": "markdown",
   "metadata": {},
   "source": [
    "We split the data into into train and test set with a ratio of 80/20. \n",
    "The following method uses linear regression to create a linear regression model that predicts whether a person has diabetes or not based on the features. One-hot encoding was used for the features \"EMPLOY1\", \"ALCDAY4\", \"FALL12MN\" as these features are nominal. Afterwards, cross-validation was conducted to discover the best regularization and elastic net parameters. After training the model, we made predictions by setting a threshold of 0.5 for binary classification. \n",
    "Afterwards, we documented the accuracy and weighted precision as well as the number of false positives and false negatives as well as the true positives and true negatives."
   ]
  },
  {
   "cell_type": "code",
   "execution_count": 4,
   "metadata": {},
   "outputs": [],
   "source": [
    "from pyspark.ml.feature import VectorAssembler, OneHotEncoder\n",
    "from pyspark.ml.regression import LinearRegression\n",
    "from pyspark.ml.evaluation import RegressionEvaluator\n",
    "from pyspark.ml.tuning import CrossValidator, ParamGridBuilder\n",
    "\n",
    "def train(train_df, test_df, threshold=0.5):\n",
    "\n",
    "    categorical_features = [\"EMPLOY1\", \"ALCDAY4\", \"FALL12MN\"]\n",
    "    encoder = OneHotEncoder(\n",
    "        inputCols=categorical_features,\n",
    "        outputCols=[feature + \"_ohe\" for feature in categorical_features],\n",
    "    )\n",
    "\n",
    "    # Fit and transform the encoder on the training data\n",
    "    train_df = encoder.fit(train_df).transform(train_df)\n",
    "\n",
    "    # Transform the test data using the same encoder\n",
    "    test_df = encoder.fit(test_df).transform(test_df)\n",
    "\n",
    "    feature_columns = train_df.columns\n",
    "    feature_columns.remove(\"y\")\n",
    "\n",
    "    one_hot_columns = [feature + \"_ohe\" for feature in categorical_features]\n",
    "    feature_columns += one_hot_columns\n",
    "\n",
    "    assembler = VectorAssembler(inputCols=feature_columns, outputCol=\"features\")\n",
    "    train_data = assembler.transform(train_df)\n",
    "\n",
    "    lr = LinearRegression(featuresCol=\"features\", labelCol=\"y\")\n",
    "\n",
    "    paramGrid = (\n",
    "        ParamGridBuilder()\n",
    "        .addGrid(lr.regParam, [0.1, 0.01, 0.001])\n",
    "        .addGrid(lr.elasticNetParam, [0.0,0.001,0.01,0.1, 0.5])\n",
    "        .build()\n",
    "    )\n",
    "\n",
    "    crossval = CrossValidator(\n",
    "        estimator=lr,\n",
    "        estimatorParamMaps=paramGrid,\n",
    "        evaluator=RegressionEvaluator(labelCol=\"y\", metricName=\"rmse\"),\n",
    "        numFolds=5,\n",
    "    )  \n",
    "\n",
    "    cv_model = crossval.fit(train_data)\n",
    "\n",
    "    # Step 4: Evaluate on Test Set\n",
    "    test_data = assembler.transform(test_df)\n",
    "    test_predictions = cv_model.transform(test_data)\n",
    "\n",
    "    # Evaluate the model performance on test data\n",
    "    evaluator = RegressionEvaluator(\n",
    "        labelCol=\"y\", predictionCol=\"prediction\", metricName=\"rmse\"\n",
    "    )\n",
    "    test_rmse = evaluator.evaluate(test_predictions)\n",
    "    print(f\"Root Mean Squared Error (RMSE) on test data: {test_rmse}\")\n",
    "\n",
    "    # Optional: Show best model parameters from cross-validation\n",
    "    best_model = cv_model.bestModel\n",
    "    print(f\"Best Regularization Parameter: {best_model._java_obj.getRegParam()}\")\n",
    "    print(f\"Best Elastic Net Parameter: {best_model._java_obj.getElasticNetParam()}\")\n",
    "    print(f\"Coefficients: {best_model.coefficients}\")\n",
    "    print(f\"Intercept: {best_model.intercept}\")\n",
    "    test_predictions = test_predictions.withColumn(\n",
    "        \"pred_class\",\n",
    "        F.when(test_predictions[\"prediction\"] > threshold, 1.0).otherwise(0.0),\n",
    "    ) # convert predictions into binary classification\n",
    "    return test_predictions"
   ]
  },
  {
   "cell_type": "code",
   "execution_count": 5,
   "metadata": {},
   "outputs": [],
   "source": [
    "from pyspark.ml.evaluation import MulticlassClassificationEvaluator\n",
    "\n",
    "# Evaluate precision and accuracy\n",
    "def get_accuracy_precision(test_predictions):\n",
    "    \"\"\"\n",
    "    returns the accuracy and weighted precision of a dataset with label 'pred_class' to the true labels\n",
    "    \"\"\"\n",
    "    classification_evaluator = MulticlassClassificationEvaluator(\n",
    "        labelCol=\"y\", predictionCol=\"pred_class\"\n",
    "    )\n",
    "\n",
    "    accuracy = classification_evaluator.evaluate(\n",
    "        test_predictions, {classification_evaluator.metricName: \"accuracy\"}\n",
    "    )\n",
    "    precision = classification_evaluator.evaluate(\n",
    "        test_predictions, {classification_evaluator.metricName: \"weightedPrecision\"}\n",
    "    )\n",
    "    return accuracy, precision\n",
    "\n"
   ]
  },
  {
   "cell_type": "code",
   "execution_count": 6,
   "metadata": {},
   "outputs": [],
   "source": [
    "from pyspark.sql.functions import round, when\n",
    "import matplotlib.pyplot as plt\n",
    "\n",
    "def plot_results(test_predictions):\n",
    "    \"\"\"\n",
    "    plots the number of true positives and negatives and false positives and negatives and \n",
    "    outputs them as a table as well\n",
    "    \"\"\"\n",
    "    # Create a new column for classification results\n",
    "    results_table = test_predictions.select(\"y\", \"pred_class\")\n",
    "\n",
    "    # Categorize results into True Positive, True Negative, False Positive, False Negative\n",
    "    results_summary = results_table.groupBy(\n",
    "        when(\n",
    "            (results_table[\"y\"] == 1) & (results_table[\"pred_class\"] == 1), \"True Positive\"\n",
    "        )\n",
    "        .when(\n",
    "            (results_table[\"y\"] == 0) & (results_table[\"pred_class\"] == 0), \"True Negative\"\n",
    "        )\n",
    "        .when(\n",
    "            (results_table[\"y\"] == 0) & (results_table[\"pred_class\"] == 1), \"False Positive\"\n",
    "        )\n",
    "        .when(\n",
    "            (results_table[\"y\"] == 1) & (results_table[\"pred_class\"] == 0), \"False Negative\"\n",
    "        )\n",
    "        .otherwise(\"Other\")\n",
    "        .alias(\"Result\")\n",
    "    ).count()\n",
    "\n",
    "\n",
    "    summary_pd = results_summary.toPandas()\n",
    "\n",
    "    plt.figure(figsize=(10, 6))\n",
    "    plt.bar(\n",
    "        summary_pd[\"Result\"],\n",
    "        summary_pd[\"count\"],\n",
    "        color=[\"green\", \"blue\", \"orange\", \"red\"],\n",
    "        alpha=0.6,\n",
    "    )\n",
    "\n",
    "    plt.title(\"Counts of True vs Predicted Labels\")\n",
    "    plt.xlabel(\"Result Type\")\n",
    "    plt.ylabel(\"Counts\")\n",
    "    plt.grid(axis=\"y\")\n",
    "\n",
    "    # Show the plot\n",
    "    plt.tight_layout()\n",
    "    plt.show()\n",
    "    return summary_pd"
   ]
  },
  {
   "cell_type": "code",
   "execution_count": 7,
   "metadata": {},
   "outputs": [],
   "source": [
    "def count_entries_with_value(df, column_name, value):\n",
    "    \"\"\"\n",
    "    Count how many entries in the specified column of the DataFrame have the given value\n",
    "    \"\"\"\n",
    "    count = df.filter(df[column_name] == value).count()\n",
    "    return count\n"
   ]
  },
  {
   "cell_type": "code",
   "execution_count": 8,
   "metadata": {},
   "outputs": [],
   "source": [
    "file_path = \"output/processedv3.parquet\"\n",
    "\n",
    "df = spark.read.parquet(file_path)\n",
    "# df.printSchema()\n"
   ]
  },
  {
   "cell_type": "code",
   "execution_count": 9,
   "metadata": {},
   "outputs": [
    {
     "name": "stdout",
     "output_type": "stream",
     "text": [
      "Training set count: 76274\n",
      "Test set count: 19300\n"
     ]
    }
   ],
   "source": [
    "train_df, test_df = df.randomSplit([0.8, 0.2], seed=1)\n",
    "# Show the counts of each split\n",
    "print(f\"Training set count: {train_df.count()}\")\n",
    "print(f\"Test set count: {test_df.count()}\")"
   ]
  },
  {
   "cell_type": "code",
   "execution_count": 10,
   "metadata": {},
   "outputs": [
    {
     "name": "stderr",
     "output_type": "stream",
     "text": [
      "                                                                                \r"
     ]
    },
    {
     "name": "stdout",
     "output_type": "stream",
     "text": [
      "Root Mean Squared Error (RMSE) on test data: 0.32935259837295117\n",
      "Best Regularization Parameter: 0.01\n",
      "Best Elastic Net Parameter: 0.1\n",
      "Coefficients: [0.04756861680464013,0.009257734552027786,0.08854457518488627,0.003313004647924127,-0.07141867178846546,0.0,-0.017859296331582872,0.071342341375699,-9.361989330420581e-05,7.312358334297795e-05,0.04449039240796519,-0.019037768570595536,0.017781537219026873,-0.002524061737714153,-0.003300722832932325,-0.03540632596397572,-9.50375340783918e-05,0.004656885808352412,-0.02522629937257095,0.0,0.0,-0.007627272864534682,-5.555332142288558e-05,-0.003311108455778902,-0.006089911618613694,-0.003289075084251542,-0.004759856946993395,0.0,0.0,0.0,0.0,0.0,0.0,0.0,0.0,0.0,0.0,0.0,0.0,0.0,0.0,0.0,0.0,0.0,0.0,0.0,0.0,0.0,0.0,0.0,0.0,0.0,0.0,0.0,0.0,0.0,0.0,0.0,0.0,0.0,0.0,0.0,0.0,0.0,0.0,0.0,0.0,0.0,0.0,0.0,0.0,0.0,0.0,0.0,0.0,0.0,0.0,0.0,0.0,0.0,0.0,0.0,0.0,0.0,0.0,0.0,0.0,0.0,0.0,0.0,0.0,0.0,0.0,0.0,0.0,0.0,0.0,0.0,0.0,0.0,0.0,0.0,0.0,0.0,0.0,0.0,0.0,0.0,0.0,0.0,0.0,0.0,0.0,0.0,0.0,0.0,0.0,0.0,0.0,0.0,0.0,0.0,0.0,0.0,0.0,0.0,0.0,0.0,0.0016396573805593792,-0.0019393897843429874,-0.0014882346382860216,-0.0026592742639136926,-0.004922928742035091,-0.00950870619149849,-0.014245837577093171,0.0,0.0,0.0,0.0,0.0,0.0,0.0,0.0,0.0,0.0,0.0,0.0,0.0,0.0,0.0,0.0,0.0,0.0,0.0,0.0,0.0,0.0,0.0,0.0,0.0,0.0,0.0,0.0,0.0,0.0,0.0,0.0,0.0,0.0,0.0,0.0,0.0,0.0,0.0,0.0,0.0,0.0,0.0,0.0,0.0,0.0,0.0,0.0,0.0,0.0,0.0,0.0,0.0,0.0,0.0,0.0,0.0,0.0,0.0,0.0,0.0,0.0,0.0,0.0,0.0,0.0,0.0,0.0,0.0,0.0,0.0,0.0,0.0,0.0,0.0,0.0,0.0,0.0,0.0,0.0,0.0,0.0,0.0,0.0,0.0,0.0,0.0,0.0,0.0,0.0,0.0,0.0,0.0,0.019847841013026928,0.008989291833152616,0.002888450470250475,0.0,0.0,0.007589933942114961,-0.0012640240335494953,-0.0018400056124551957,0.001297768610584611,-0.004455525573616958,-0.0017529382796574301,-0.006665590369859794,0.0,0.0,-0.01676512016611528,-0.0010193936243363985,0.0,-0.02208146480115632,0.0,-0.014596732527300284,-0.025552801438852978,0.0,0.0,0.0,-0.011612847985541639,-0.02057742028321981,0.0,-0.009529493228160187,0.0,-0.019807187815985988,0.0,0.0,0.0,0.0,0.0,0.0,0.0,0.0,0.0,0.0,0.0,0.0,0.0,0.0,0.0,0.0,0.0,0.0,0.0,0.0,0.0,0.0,0.0,0.0,0.0,0.0,0.0,0.0,0.0,0.0,0.0,0.0,0.0,0.0,0.0,0.0,0.0,0.0,0.0,0.0,0.0,0.0,0.0,0.0,0.0,0.0,0.0,0.0,0.0,0.0,0.0,0.0,0.0,0.0,0.0,0.0,0.0,0.0,0.0,0.0,0.0,0.0,0.0,0.0,0.0,0.0,0.0,0.0,0.0,0.0,0.0,0.0,0.0,0.0,0.0,0.0,0.0,0.0,0.0,0.0,0.0,0.0,0.0,0.0,0.0,0.0,0.0,0.0,0.0,0.0,0.0,0.0,0.0,0.0,0.0,0.0,0.0,0.0,0.0,0.0,0.0,0.0,0.0,0.0,0.0,0.0,0.0,0.0,0.0,0.0,0.0,0.0,0.0,0.0,0.0,0.0,0.0,0.0,0.0,0.0,0.0,0.0,0.0,0.0,0.0,0.0,0.0,0.0,0.0,0.0,0.0,0.0,0.0,0.0,0.0,0.0,0.0,0.0,0.0,0.0,0.0,0.0,0.0,0.0,0.0,0.0,0.0,0.0,0.0,0.0,0.0,0.0,0.0,0.0,0.0,0.0,0.0,0.0,0.0,0.0,0.0,0.0,0.0,0.0,0.0,0.0,0.0,0.0,0.0,0.0,0.0,0.0,0.0,0.0,0.0,0.0,0.0,0.0,0.0,0.0,0.0,0.0,0.0,0.0,0.0,0.0,0.0,0.0,0.0,0.0,0.0,0.0,0.0,0.0,0.0,0.0,0.0,0.0,0.0,0.0,0.0,0.0,0.0,0.0,0.0,0.0,0.0,0.0,0.0,0.0,0.0,0.0,0.0,0.0,0.0,0.0,0.0,0.0,0.0,0.0,0.0,0.0,0.0,0.0,0.0,0.0,0.0,0.0,0.0,0.0,0.0,0.0,0.0,0.0,0.0,0.0,0.0,0.0,0.0,0.0,0.0,0.0,0.0,0.0,0.0,0.0,0.0,0.0,0.0,0.0,0.0,0.0,0.0,0.0,0.0,0.0,0.0,0.0,0.0,0.0,0.0,0.0,0.0,0.0,0.0,0.0,0.0,0.0,0.0,0.0,0.0,0.0,0.0,0.0,0.0,0.0,0.0,0.0,0.0,0.0,0.0,0.0,0.0,0.0,0.0,0.0,0.0,0.0,0.0,0.0,0.0,0.0,0.0,0.0,0.0,0.0,0.0,0.0,0.0,0.0,0.0,0.0,0.0,0.0,0.0,0.0,0.0,0.0,0.0,0.0,0.0,0.0,0.0,0.0,0.0,0.0,0.0,0.0,0.0,0.0,0.0,0.0,0.0,0.0,0.0,0.0,0.0,0.0,0.0,0.0,0.0,0.0,0.0,0.0,0.0,0.0,0.0,0.0,0.0,0.0,0.0,0.0,0.0,0.0,0.0,0.0,0.0,0.0,0.0,0.0,0.0,0.0,0.0,0.0,0.0,0.0,0.0,0.0,0.0,0.0,0.0,0.0,0.0,0.0,0.0,0.0,0.0,0.0,0.0,0.0,0.0,0.0,0.0,0.0,0.0,0.0,0.0,0.0,0.0,0.0,0.0,0.0,0.0,0.0,0.0,0.0,0.0,0.0,0.0,0.0,0.0,0.0,0.0,0.0,0.0,0.0,0.0,0.0,0.0,0.0,0.0,0.0,0.0,0.0,0.0,0.0,0.0,0.0,0.0,0.0,0.0,0.0,0.0,0.0,0.0,0.0,0.0,0.0,0.0,0.0,0.0,0.0,0.0,0.0,0.0,0.0,0.0,0.0,0.0,0.0,0.0,0.0,0.0,0.0,0.0,0.0,0.0,0.0,0.0,0.0,0.0,0.0,0.0,0.0,0.0,0.0,0.0,0.0,0.0,0.0,0.0,0.0,0.0,0.0,0.0,0.0,0.0,0.0,0.0,0.0,0.0,0.0,0.0,0.0,0.0,0.0,0.0,0.0,0.0,0.0,0.0,0.0,0.0,0.0,0.0,0.0,0.0,0.0,0.0,0.0,0.0,0.0,0.0,0.0,0.0,0.0,0.0,0.0,0.0,0.0,0.0,0.0,0.0,0.0,0.0,0.0,0.0,0.0,0.0,0.0,0.0,0.0,0.0,0.0,0.0,0.0,0.0,0.0,0.0,0.0,0.0,0.0,0.0,0.0,0.0,0.0,0.0,0.0,0.0,0.0,0.0,0.0,0.0,0.0,0.0,0.0,0.0,0.0,0.0,0.0,0.0,0.0,0.0,0.0,0.0,0.0,0.0,0.0,0.0,0.0,0.0,0.0,0.0,0.0,0.0,0.0,-0.017615257329043052,0.0,0.0,0.0,0.0,0.0,0.0,0.0,0.0,0.0,0.0,0.0,0.0,0.0,0.0,0.0,0.0,0.0,0.0,0.0,0.0,0.0,0.0,0.0,0.0,0.0,0.0,0.0,0.0,0.0,0.0,0.0,0.0,0.0,0.0,0.0,0.0,0.0,0.0,0.0,0.0,0.0,0.0,0.0,0.0,0.0,0.0,0.0,0.0,0.0,0.0,0.0,0.0,0.0,0.0,0.0,0.0,0.0,0.0,0.0,0.0,0.0,0.0,0.0,0.0,0.0,0.0,0.0,0.0,0.0,0.0,0.0,0.0,0.0,0.0,0.0,0.0,0.0,0.0,0.0,0.0,0.0,0.0,0.0,0.0,0.0,0.0,0.0,0.0,0.0,0.0,0.0,0.0,0.0,0.0,0.0,0.0,0.0,0.0,0.0,0.0,0.0,0.0,0.0,0.0,0.0,0.0,0.0,0.0,0.0,0.0,0.0,0.0,0.0,0.009534641364834272,0.01367323117318364,0.0,0.008270541350405435,0.00467398233469608,0.0,0.0,0.00700976365381649,0.0,0.016587503189798944,0.06642923009737346,0.0,0.004256766462661637,-0.07865537448654569,0.1581749811012231,-0.021143347999679984,-0.027631040586466937,0.0,0.0,0.0,-0.03466091176606751,0.0,-0.022074456327017884,0.1112122917656533,0.0,0.0,0.0,0.0,0.0,0.0,0.0,0.1818625924830188,0.0,0.05760992836918413,0.0,0.0,0.0,0.178323804711267,0.0,0.0,0.0,0.0,0.0,0.0,0.0,0.11270315769563301,0.0,-0.03320609159434165,0.0,0.0,0.0,0.0,-0.00628844591804441,0.11434504168620148,0.0,0.0,0.0,0.045046765456438084,0.0,0.0,0.0,0.0,0.0,0.0,0.0,0.0,0.0,0.0,0.0,-0.10384795767873364,0.0,0.0,0.0,0.0,-0.004492035411203806,0.0,0.0,0.0,0.0,0.0,0.0,0.0,0.0,0.0,0.0,0.0,0.0,-0.007627272864534954,-5.555332142292159e-05,-0.0033111084557792513,-0.0060899116186140705,-0.00328907508425186,-0.004759856946992682,0.0,0.0,0.0,0.0,0.0,0.0,0.0,0.0,0.0,0.0,0.0,0.0,0.0,0.0,0.0,0.0,0.0,0.0,0.0,0.0,0.0,0.0,0.0,0.0,0.0,0.0,0.0,0.0,0.0,0.0,0.0,0.0,0.0,0.0,0.0,0.0,0.0,0.0,0.0,0.0,0.0,0.0,0.0,0.0,0.0,0.0,0.0,0.0,0.0,0.0,0.0,0.0,0.0,0.0,0.0,0.0,0.0,0.0,0.0,0.0,0.0,0.0,0.0,0.0,0.0,0.0,0.0,0.0,0.0,0.0,0.0,0.0,0.0,0.0,0.0,0.0,0.0,0.0,0.0,0.0,0.0,0.0,0.0,0.0,0.0,0.0,0.0,0.0,0.0,0.0,0.0,0.0,0.0,0.0,0.0,0.0,0.0,0.0,0.0,0.0,0.0,0.0016396573805598222,-0.0019393897843428707,-0.0014882346382860635,-0.0026592742639138405,-0.004922928742035149,-0.009508706191498692,-0.014245837577093311,0.0,0.0,0.0,0.0,0.0,0.0,0.0,0.0,0.0,0.0,0.0,0.0,0.0,0.0,0.0,0.0,0.0,0.0,0.0,0.0,0.0,0.0,0.0,0.0,0.0,0.0,0.0,0.0,0.0,0.0,0.0,0.0,0.0,0.0,0.0,0.0,0.0,0.0,0.0,0.0,0.0,0.0,0.0,0.0,0.0,0.0,0.0,0.0,0.0,0.0,0.0,0.0,0.0,0.0,0.0,0.0,0.0,0.0,0.0,0.0,0.0,0.0,0.0,0.0,0.0,0.0,0.0,0.0,0.0,0.0,0.0,0.0,0.0,0.0,0.0,0.0,0.0,0.0,0.0,0.0,0.0,0.0,0.0,0.0,0.0,0.0,0.0,0.0,0.0,0.0,0.0,0.0,0.0,0.019847841013026772,0.008989291833152066,0.002888450470250508,0.0,0.0,0.007589933942114828,-0.001264024033549373,-0.0018400056124551422,0.0012977686105838354,-0.004455525573616811,-0.0017529382796574215,-0.00666559036985997,0.0,0.0,-0.016765120166115206,-0.001019393624336456,0.0,-0.022081464801156078,0.0,-0.014596732527300137,-0.025552801438853096,0.0,0.0,0.0,-0.01161284798554134,-0.020577420283219554,0.0,-0.009529493228160338,0.0,-0.019807187815985953,0.0,0.0,0.0,0.0,0.0,0.0,0.0,0.0,0.0,0.0,0.0,0.0,0.0,0.0,0.0,0.0,0.0,0.0,0.0,0.0,0.0,0.0,0.0,0.0,0.0,0.0,0.0,0.0,0.0,0.0,0.0,0.0,0.0,0.0,0.0,0.0,0.0,0.0,0.0,0.0,0.0,0.0,0.0,0.0,0.0,0.0,0.0,0.0,0.0,0.0,0.0,0.0,0.0,0.0,0.0,0.0,0.0,0.0,0.0,0.0,0.0,0.0,0.0,0.0,0.0,0.0,0.0,0.0,0.0,0.0,0.0,0.0,0.0,0.0,0.0,0.0,0.0,0.0,0.0,0.0,0.0,0.0,0.0,0.0,0.0,0.0,0.0,0.0,0.0,0.0,0.0,0.0,0.0,0.0,0.0,0.0,0.0,0.0,0.0,0.0,0.0,0.0,0.0,0.0,0.0,0.0,0.0,0.0,0.0,0.0,0.0,0.0,0.0,0.0,0.0,0.0,0.0,0.0,0.0,0.0,0.0,0.0,0.0,0.0,0.0,0.0,0.0,0.0,0.0,0.0,0.0,0.0,0.0,0.0,0.0,0.0,0.0,0.0,0.0,0.0,0.0,0.0,0.0,0.0,0.0,0.0,0.0,0.0,0.0,0.0,0.0,0.0,0.0,0.0,0.0,0.0,0.0,0.0,0.0,0.0,0.0,0.0,0.0,0.0,0.0,0.0,0.0,0.0,0.0,0.0,0.0,0.0,0.0,0.0,0.0,0.0,0.0,0.0,0.0,0.0,0.0,0.0,0.0,0.0,0.0,0.0,0.0,0.0,0.0,0.0,0.0,0.0,0.0,0.0,0.0,0.0,0.0,0.0,0.0,0.0,0.0,0.0,0.0,0.0,0.0,0.0,0.0,0.0,0.0,0.0,0.0,0.0,0.0,0.0,0.0,0.0,0.0,0.0,0.0,0.0,0.0,0.0,0.0,0.0,0.0,0.0,0.0,0.0,0.0,0.0,0.0,0.0,0.0,0.0,0.0,0.0,0.0,0.0,0.0,0.0,0.0,0.0,0.0,0.0,0.0,0.0,0.0,0.0,0.0,0.0,0.0,0.0,0.0,0.0,0.0,0.0,0.0,0.0,0.0,0.0,0.0,0.0,0.0,0.0,0.0,0.0,0.0,0.0,0.0,0.0,0.0,0.0,0.0,0.0,0.0,0.0,0.0,0.0,0.0,0.0,0.0,0.0,0.0,0.0,0.0,0.0,0.0,0.0,0.0,0.0,0.0,0.0,0.0,0.0,0.0,0.0,0.0,0.0,0.0,0.0,0.0,0.0,0.0,0.0,0.0,0.0,0.0,0.0,0.0,0.0,0.0,0.0,0.0,0.0,0.0,0.0,0.0,0.0,0.0,0.0,0.0,0.0,0.0,0.0,0.0,0.0,0.0,0.0,0.0,0.0,0.0,0.0,0.0,0.0,0.0,0.0,0.0,0.0,0.0,0.0,0.0,0.0,0.0,0.0,0.0,0.0,0.0,0.0,0.0,0.0,0.0,0.0,0.0,0.0,0.0,0.0,0.0,0.0,0.0,0.0,0.0,0.0,0.0,0.0,0.0,0.0,0.0,0.0,0.0,0.0,0.0,0.0,0.0,0.0,0.0,0.0,0.0,0.0,0.0,0.0,0.0,0.0,0.0,0.0,0.0,0.0,0.0,0.0,0.0,0.0,0.0,0.0,0.0,0.0,0.0,0.0,0.0,0.0,0.0,0.0,0.0,0.0,0.0,0.0,0.0,0.0,0.0,0.0,0.0,0.0,0.0,0.0,0.0,0.0,0.0,0.0,0.0,0.0,0.0,0.0,0.0,0.0,0.0,0.0,0.0,0.0,0.0,0.0,0.0,0.0,0.0,0.0,0.0,0.0,0.0,0.0,0.0,0.0,0.0,0.0,0.0,0.0,0.0,0.0,0.0,0.0,0.0,0.0,0.0,0.0,0.0,0.0,0.0,0.0,0.0,0.0,0.0,0.0,0.0,0.0,0.0,0.0,0.0,0.0,0.0,0.0,0.0,0.0,0.0,0.0,0.0,0.0,0.0,0.0,0.0,0.0,0.0,0.0,0.0,0.0,0.0,0.0,0.0,0.0,0.0,0.0,0.0,0.0,0.0,0.0,0.0,0.0,0.0,0.0,0.0,0.0,0.0,0.0,0.0,0.0,0.0,0.0,0.0,0.0,0.0,0.0,0.0,0.0,0.0,0.0,0.0,0.0,0.0,0.0,0.0,0.0,0.0,0.0,0.0,0.0,0.0,0.0,0.0,0.0,0.0,0.0,0.0,0.0,0.0,0.0,0.0,0.0,0.0,0.0,0.0,0.0,0.0,0.0,0.0,0.0,0.0,0.0,0.0,0.0,0.0,0.0,-0.017615257329043628,0.0,0.0,0.0,0.0,0.0,0.0,0.0,0.0,0.0,0.0,0.0,0.0,0.0,0.0,0.0,0.0,0.0,0.0,0.0,0.0,0.0,0.0,0.0,0.0,0.0,0.0,0.0,0.0,0.0,0.0,0.0,0.0,0.0,0.0,0.0,0.0,0.0,0.0,0.0,0.0,0.0,0.0,0.0,0.0,0.0,0.0,0.0,0.0,0.0,0.0,0.0,0.0,0.0,0.0,0.0,0.0,0.0,0.0,0.0,0.0,0.0,0.0,0.0,0.0,0.0,0.0,0.0,0.0,0.0,0.0,0.0,0.0,0.0,0.0,0.0,0.0,0.0,0.0,0.0,0.0,0.0,0.0,0.0,0.0,0.0,0.0,0.0,0.0,0.0,0.0,0.0,0.0,0.0,0.0,0.0,0.0,0.0,0.0,0.0,0.0,0.0,0.0,0.0,0.0,0.0,0.0,0.0,0.0,0.0,0.0,0.0,0.0,0.0,0.00953464136483347,0.013673231173184358,0.0,0.008270541350406257,0.004673982334694456,0.0,0.0,0.007009763653817024,0.0,0.01658750318979954,0.06642923009737384,0.0,0.004256766462660426,-0.07865537448654565,0.1581749811012236,-0.02114334799967985,-0.027631040586466916,0.0,0.0,0.0,-0.034660911766067615,0.0,-0.022074456327017055,0.11121229176565253,0.0,0.0,0.0,0.0,0.0,0.0,0.0,0.18186259248301878,0.0,0.057609928369183716,0.0,0.0,0.0,0.17832380471126702,0.0,0.0,0.0,0.0,0.0,0.0,0.0,0.11270315769563183,0.0,-0.033206091594343255,0.0,0.0,0.0,0.0,-0.006288445918044447,0.11434504168620167,0.0,0.0,0.0,0.045046765456437494,0.0,0.0,0.0,0.0,0.0,0.0,0.0,0.0,0.0,0.0,0.0,-0.10384795767873327,0.0,0.0,0.0,0.0,-0.00449203541120348,0.0,0.0,0.0,0.0,0.0,0.0,0.0,0.0,0.0,0.0]\n",
      "Intercept: -0.12709081152839208\n"
     ]
    }
   ],
   "source": [
    "test_predictions = train(train_df, test_df)"
   ]
  },
  {
   "cell_type": "code",
   "execution_count": 11,
   "metadata": {},
   "outputs": [
    {
     "name": "stdout",
     "output_type": "stream",
     "text": [
      "Accuracy on test data: 0.8503626943005181\n",
      "Precision on test data: 0.8233086224106991\n"
     ]
    }
   ],
   "source": [
    "accuracy, precision = get_accuracy_precision(test_predictions)\n",
    "\n",
    "print(f\"Accuracy on test data: {accuracy}\")\n",
    "print(f\"Precision on test data: {precision}\")"
   ]
  },
  {
   "cell_type": "code",
   "execution_count": 12,
   "metadata": {},
   "outputs": [
    {
     "data": {
      "image/png": "[encoded data removed]",
      "text/plain": [
       "<Figure size 1000x600 with 1 Axes>"
      ]
     },
     "metadata": {},
     "output_type": "display_data"
    },
    {
     "name": "stdout",
     "output_type": "stream",
     "text": [
      "           Result  count\n",
      "0  False Negative   2799\n",
      "1  False Positive     89\n",
      "2   True Positive    173\n",
      "3   True Negative  16239\n"
     ]
    }
   ],
   "source": [
    "summary_pd = plot_results(test_predictions)\n",
    "print(summary_pd)"
   ]
  },
  {
   "cell_type": "markdown",
   "metadata": {},
   "source": [
    "We notice that a lot of false negatives have been invoked. The reason for that may be because the dataset is skewed, as it has far more rows with y = 0 than y = 1. Thus, we ran the same experiment again with a 50/50 split. "
   ]
  },
  {
   "cell_type": "code",
   "execution_count": 13,
   "metadata": {},
   "outputs": [],
   "source": [
    "from pyspark.sql.functions import col\n",
    "\n",
    "df_y_1 = df.filter(col(\"y\") == 1)\n",
    "df_y_0 = df.filter(col(\"y\") == 0)"
   ]
  },
  {
   "cell_type": "code",
   "execution_count": 14,
   "metadata": {},
   "outputs": [
    {
     "name": "stdout",
     "output_type": "stream",
     "text": [
      "+-------+--------+--------+-------+------+--------+--------+--------+--------+-------+--------+--------+--------+-----+--------+--------+--------+--------+--------+---+\n",
      "|GENHLTH|_AGEG5YR|_RFHYPE6|EMPLOY1|_MICHD|_DRDXAR2|_HCVU653|_RFCHOL3|METVL12_|ALCDAY4|_BMI5CAT|DIFFWALK|_TOTINDA|EDUCA|_INCOMG1|CHCKDNY2|FALL12MN|SMOKE100|CVDINFR4|  y|\n",
      "+-------+--------+--------+-------+------+--------+--------+--------+--------+-------+--------+--------+--------+-----+--------+--------+--------+--------+--------+---+\n",
      "|    3.0|     7.0|     2.0|    1.0|   2.0|     2.0|     1.0|     2.0|   103.0|  888.0|     4.0|     1.0|     1.0|  4.0|     2.0|     2.0|    88.0|     1.0|     2.0|  1|\n",
      "|    4.0|     6.0|     1.0|    8.0|   2.0|     1.0|     1.0|     1.0|   104.0|  888.0|     4.0|     1.0|     1.0|  5.0|     1.0|     2.0|     1.0|     1.0|     2.0|  1|\n",
      "|    4.0|     7.0|     1.0|    5.0|   2.0|     1.0|     1.0|     2.0|     2.0|  201.0|     4.0|     1.0|     2.0|  4.0|     2.0|     2.0|    88.0|     2.0|     2.0|  1|\n",
      "|    2.0|     9.0|     2.0|    1.0|   2.0|     2.0|     1.0|     2.0|   107.0|  201.0|     3.0|     2.0|     1.0|  6.0|     7.0|     2.0|    88.0|     1.0|     2.0|  1|\n",
      "|    3.0|     6.0|     2.0|    1.0|   2.0|     1.0|     1.0|     1.0|   100.0|  888.0|     4.0|     2.0|     1.0|  4.0|     5.0|     2.0|    88.0|     2.0|     2.0|  1|\n",
      "|    3.0|     7.0|     2.0|    7.0|   2.0|     2.0|     1.0|     2.0|   103.0|  102.0|     4.0|     2.0|     1.0|  5.0|     5.0|     2.0|    88.0|     2.0|     2.0|  1|\n",
      "|    4.0|     9.0|     2.0|    8.0|   1.0|     1.0|     1.0|     2.0|     2.0|  888.0|     4.0|     1.0|     2.0|  4.0|     3.0|     2.0|     8.0|     1.0|     1.0|  1|\n",
      "|    3.0|     9.0|     2.0|    7.0|   2.0|     2.0|     1.0|     1.0|   103.0|  888.0|     4.0|     2.0|     1.0|  6.0|     5.0|     2.0|    88.0|     2.0|     2.0|  1|\n",
      "|    4.0|     8.0|     1.0|    1.0|   2.0|     1.0|     1.0|     2.0|   104.0|  888.0|     4.0|     2.0|     1.0|  5.0|     4.0|     2.0|    88.0|     2.0|     2.0|  1|\n",
      "|    2.0|     9.0|     1.0|    2.0|   2.0|     2.0|     1.0|     2.0|   106.0|  107.0|     3.0|     2.0|     1.0|  5.0|     1.0|     2.0|     2.0|     1.0|     2.0|  1|\n",
      "|    5.0|     8.0|     2.0|    8.0|   2.0|     1.0|     1.0|     2.0|     2.0|  888.0|     4.0|     1.0|     2.0|  4.0|     1.0|     1.0|     2.0|     1.0|     2.0|  1|\n",
      "|    3.0|     9.0|     1.0|    1.0|   2.0|     1.0|     1.0|     2.0|     2.0|  888.0|     4.0|     2.0|     2.0|  5.0|     4.0|     2.0|     1.0|     1.0|     2.0|  1|\n",
      "|    4.0|     6.0|     2.0|    4.0|   2.0|     2.0|     1.0|     2.0|   103.0|  888.0|     4.0|     2.0|     1.0|  6.0|     3.0|     2.0|    88.0|     2.0|     2.0|  1|\n",
      "|    3.0|     9.0|     2.0|    7.0|   2.0|     2.0|     1.0|     2.0|   103.0|  888.0|     3.0|     2.0|     1.0|  6.0|     5.0|     2.0|    88.0|     2.0|     2.0|  1|\n",
      "|    3.0|     8.0|     2.0|    8.0|   1.0|     1.0|     1.0|     2.0|     2.0|  888.0|     4.0|     1.0|     2.0|  4.0|     4.0|     2.0|     5.0|     2.0|     1.0|  1|\n",
      "|    3.0|     7.0|     1.0|    1.0|   2.0|     2.0|     1.0|     1.0|   103.0|  888.0|     3.0|     2.0|     1.0|  5.0|     3.0|     2.0|    88.0|     2.0|     2.0|  1|\n",
      "|    5.0|     9.0|     1.0|    7.0|   2.0|     2.0|     1.0|     2.0|     2.0|  888.0|     2.0|     1.0|     2.0|  3.0|     1.0|     2.0|    12.0|     1.0|     2.0|  1|\n",
      "|    4.0|     7.0|     2.0|    4.0|   2.0|     2.0|     1.0|     2.0|   103.0|  103.0|     3.0|     1.0|     1.0|  5.0|     4.0|     2.0|    88.0|     1.0|     2.0|  1|\n",
      "|    3.0|     7.0|     2.0|    1.0|   1.0|     2.0|     1.0|     1.0|     2.0|  888.0|     3.0|     2.0|     2.0|  5.0|     5.0|     2.0|    88.0|     1.0|     1.0|  1|\n",
      "|    2.0|     6.0|     2.0|    1.0|   2.0|     2.0|     1.0|     1.0|   106.0|  206.0|     3.0|     2.0|     1.0|  4.0|     5.0|     2.0|     4.0|     1.0|     2.0|  1|\n",
      "+-------+--------+--------+-------+------+--------+--------+--------+--------+-------+--------+--------+--------+-----+--------+--------+--------+--------+--------+---+\n",
      "only showing top 20 rows\n",
      "\n"
     ]
    }
   ],
   "source": [
    "num_samples = min(df_y_1.count(), df_y_0.count())  # Get the minimum count\n",
    "\n",
    "sampled_y_1 = df_y_1.sample(\n",
    "    False, num_samples / df_y_1.count(), seed=42\n",
    ")  # Randomly sample from y=1\n",
    "sampled_y_0 = df_y_0.sample(\n",
    "    False, num_samples / df_y_0.count(), seed=42\n",
    ")  # Randomly sample from y=0\n",
    "\n",
    "# Step 3: Union the sampled DataFrames\n",
    "new_df = sampled_y_1.union(sampled_y_0)\n",
    "\n",
    "# Show the result\n",
    "new_df.show()"
   ]
  },
  {
   "cell_type": "code",
   "execution_count": 15,
   "metadata": {},
   "outputs": [
    {
     "name": "stdout",
     "output_type": "stream",
     "text": [
      "Training set count: 23578\n",
      "Test set count: 5781\n"
     ]
    }
   ],
   "source": [
    "df_filled = df.fillna(0)\n",
    "train_df, test_df = new_df.randomSplit([0.8, 0.2], seed=1)\n",
    "# Show the counts of each split\n",
    "print(f\"Training set count: {train_df.count()}\")\n",
    "print(f\"Test set count: {test_df.count()}\")"
   ]
  },
  {
   "cell_type": "code",
   "execution_count": 16,
   "metadata": {},
   "outputs": [
    {
     "name": "stdout",
     "output_type": "stream",
     "text": [
      "Root Mean Squared Error (RMSE) on test data: 0.42490137937710654\n",
      "Best Regularization Parameter: 0.01\n",
      "Best Elastic Net Parameter: 0.1\n",
      "Coefficients: [0.09589099951882411,0.023123823013819867,0.1570967598632327,0.0,-0.06908907773641496,0.004580003962325201,-0.05513838330790205,0.14028833359230564,0.0,0.00010835118715181695,0.09297524793882364,-0.009793422055826626,0.04013156169426397,-0.008840525578646691,-0.005436187090068259,-0.030988623787825312,0.0,0.0,-0.008767091346115018,0.0,0.0,-0.01576121158542399,-0.006299859753926132,0.007278226077680764,-0.010308193933269559,-0.0111695677809977,0.0030164014463322443,0.0,0.0,0.0,0.0,0.0,0.0,0.0,0.0,0.0,0.0,0.0,0.0,0.0,0.0,0.0,0.0,0.0,0.0,0.0,0.0,0.0,0.0,0.0,0.0,0.0,0.0,0.0,0.0,0.0,0.0,0.0,0.0,0.0,0.0,0.0,0.0,0.0,0.0,0.0,0.0,0.0,0.0,0.0,0.0,0.0,0.0,0.0,0.0,0.0,0.0,0.0,0.0,0.0,0.0,0.0,0.0,0.0,0.0,0.0,0.0,0.0,0.0,0.0,0.0,0.0,0.0,0.0,0.0,0.0,0.0,0.0,0.0,0.0,0.0,0.0,0.0,0.0,0.0,0.0,0.0,0.0,0.0,0.0,0.0,0.0,0.0,0.0,0.0,0.0,0.0,0.0,0.0,0.0,0.0,0.0,0.0,0.0,0.0,0.0,0.0,0.0,0.0,-0.02056740369104375,-0.027554682898118323,-0.025268767931990805,-0.04591539538291467,-0.034695688169436925,-0.04563724166828722,0.0,0.0,0.0,0.0,0.0,0.0,0.0,0.0,0.0,0.0,0.0,0.0,0.0,0.0,0.0,0.0,0.0,0.0,0.0,0.0,0.0,0.0,0.0,0.0,0.0,0.0,0.0,0.0,0.0,0.0,0.0,0.0,0.0,0.0,0.0,0.0,0.0,0.0,0.0,0.0,0.0,0.0,0.0,0.0,0.0,0.0,0.0,0.0,0.0,0.0,0.0,0.0,0.0,0.0,0.0,0.0,0.0,0.0,0.0,0.0,0.0,0.0,0.0,0.0,0.0,0.0,0.0,0.0,0.0,0.0,0.0,0.0,0.0,0.0,0.0,0.0,0.0,0.0,0.0,0.0,0.0,0.0,0.0,0.0,0.0,0.0,0.0,0.0,0.0,0.0,0.0,0.0,0.0,0.03562318601659142,0.010154239362091366,0.008385060375717193,0.0,0.0011215127028736261,0.010466663611913347,-0.035527811684275476,-0.005781789749171276,0.0,-0.014885186467227975,-0.18165591059227354,-0.029755336715903878,-0.037564413795040906,-0.011206980422542505,-0.054592161414410915,-0.006250877703241931,0.0,-0.12842222153065272,0.0,-0.05248320175470333,-0.10731156957316036,0.02944027566591933,-0.021838620930496013,0.0,-0.06109940820257248,-0.1505924662538046,-0.007080053596689366,-0.06503375525991212,0.0,-0.060723848398119375,0.0,0.0,0.0,0.0,0.0,0.0,0.0,0.0,0.0,0.0,0.0,0.0,0.0,0.0,0.0,0.0,0.0,0.0,0.0,0.0,0.0,0.0,0.0,0.0,0.0,0.0,0.0,0.0,0.0,0.0,0.0,0.0,0.0,0.0,0.0,0.0,0.0,0.0,0.0,0.0,0.0,0.0,0.0,0.0,0.0,0.0,0.0,0.0,0.0,0.0,0.0,0.0,0.0,0.0,0.0,0.0,0.0,0.0,0.0,0.0,0.0,0.0,0.0,0.0,0.0,0.0,0.0,0.0,0.0,0.0,0.0,0.0,0.0,0.0,0.0,0.0,0.0,0.0,0.0,0.0,0.0,0.0,0.0,0.0,0.0,0.0,0.0,0.0,0.0,0.0,0.0,0.0,0.0,0.0,0.0,0.0,0.0,0.0,0.0,0.0,0.0,0.0,0.0,0.0,0.0,0.0,0.0,0.0,0.0,0.0,0.0,0.0,0.0,0.0,0.0,0.0,0.0,0.0,0.0,0.0,0.0,0.0,0.0,0.0,0.0,0.0,0.0,0.0,0.0,0.0,0.0,0.0,0.0,0.0,0.0,0.0,0.0,0.0,0.0,0.0,0.0,0.0,0.0,0.0,0.0,0.0,0.0,0.0,0.0,0.0,0.0,0.0,0.0,0.0,0.0,0.0,0.0,0.0,0.0,0.0,0.0,0.0,0.0,0.0,0.0,0.0,0.0,0.0,0.0,0.0,0.0,0.0,0.0,0.0,0.0,0.0,0.0,0.0,0.0,0.0,0.0,0.0,0.0,0.0,0.0,0.0,0.0,0.0,0.0,0.0,0.0,0.0,0.0,0.0,0.0,0.0,0.0,0.0,0.0,0.0,0.0,0.0,0.0,0.0,0.0,0.0,0.0,0.0,0.0,0.0,0.0,0.0,0.0,0.0,0.0,0.0,0.0,0.0,0.0,0.0,0.0,0.0,0.0,0.0,0.0,0.0,0.0,0.0,0.0,0.0,0.0,0.0,0.0,0.0,0.0,0.0,0.0,0.0,0.0,0.0,0.0,0.0,0.0,0.0,0.0,0.0,0.0,0.0,0.0,0.0,0.0,0.0,0.0,0.0,0.0,0.0,0.0,0.0,0.0,0.0,0.0,0.0,0.0,0.0,0.0,0.0,0.0,0.0,0.0,0.0,0.0,0.0,0.0,0.0,0.0,0.0,0.0,0.0,0.0,0.0,0.0,0.0,0.0,0.0,0.0,0.0,0.0,0.0,0.0,0.0,0.0,0.0,0.0,0.0,0.0,0.0,0.0,0.0,0.0,0.0,0.0,0.0,0.0,0.0,0.0,0.0,0.0,0.0,0.0,0.0,0.0,0.0,0.0,0.0,0.0,0.0,0.0,0.0,0.0,0.0,0.0,0.0,0.0,0.0,0.0,0.0,0.0,0.0,0.0,0.0,0.0,0.0,0.0,0.0,0.0,0.0,0.0,0.0,0.0,0.0,0.0,0.0,0.0,0.0,0.0,0.0,0.0,0.0,0.0,0.0,0.0,0.0,0.0,0.0,0.0,0.0,0.0,0.0,0.0,0.0,0.0,0.0,0.0,0.0,0.0,0.0,0.0,0.0,0.0,0.0,0.0,0.0,0.0,0.0,0.0,0.0,0.0,0.0,0.0,0.0,0.0,0.0,0.0,0.0,0.0,0.0,0.0,0.0,0.0,0.0,0.0,0.0,0.0,0.0,0.0,0.0,0.0,0.0,0.0,0.0,0.0,0.0,0.0,0.0,0.0,0.0,0.0,0.0,0.0,0.0,0.0,0.0,0.0,0.0,0.0,0.0,0.0,0.0,0.0,0.0,0.0,0.0,0.0,0.0,0.0,0.0,0.0,0.0,0.0,0.0,0.0,0.0,0.0,0.0,0.0,0.0,0.0,0.0,0.0,0.0,0.0,0.0,0.0,0.0,0.0,0.0,0.0,0.0,0.0,0.0,0.0,0.0,0.0,0.0,0.0,0.0,0.0,0.0,0.0,0.0,0.0,0.0,0.0,0.0,0.0,0.0,0.0,0.0,0.0,0.0,0.0,0.0,0.0,0.0,0.0,0.0,0.0,0.0,0.0,0.0,0.0,0.0,0.0,0.0,0.0,0.0,0.0,0.0,0.0,0.0,0.0,0.0,0.0,0.0,0.0,0.0,0.0,0.0,0.0,0.0,0.0,0.0,0.0,0.0,0.0,0.0,0.0,0.0,0.0,0.0,0.0,0.0,0.0,0.0,0.0,0.0,0.0,0.0,0.0,0.0,0.0,0.0,0.0,0.0,0.0,0.0,0.0,0.0,0.0,0.0,0.0,0.0,0.0,0.0,0.0,0.0,0.0,0.0,0.0,0.0,0.0,0.0,0.0,0.0,0.0,0.0,-0.030137503086620557,0.0,0.0,0.0,0.0,0.0,0.0,0.0,0.0,0.0,0.0,0.0,0.0,0.0,0.0,0.0,0.0,0.0,0.0,0.0,0.0,0.0,0.0,0.0,0.0,0.0,0.0,0.0,0.0,0.0,0.0,0.0,0.0,0.0,0.0,0.0,0.0,0.0,0.0,0.0,0.0,0.0,0.0,0.0,0.0,0.0,0.0,0.0,0.0,0.0,0.0,0.0,0.0,0.0,0.0,0.0,0.0,0.0,0.0,0.0,0.0,0.0,0.0,0.0,0.0,0.0,0.0,0.0,0.0,0.0,0.0,0.0,0.0,0.0,0.0,0.0,0.0,0.0,0.0,0.0,0.0,0.0,0.0,0.0,0.0,0.0,0.0,0.0,0.0,0.0,0.0,0.0,0.0,0.0,0.0,0.0,0.0,0.0,0.0,0.0,0.0,0.0,0.0,0.0,0.0,0.0,0.0,0.0,0.0,0.0,0.0,0.0,0.0,0.0,0.006284747686354917,0.005127219062247512,0.0,0.02371447148347444,0.0,-0.025056412766451302,0.07947868370845163,0.014624489777485532,-0.12700757909288612,0.029059604461639577,0.0,-0.04774247615377787,-0.00846059961541967,0.09358381452395473,0.055319952430423605,-0.06593711550276113,-0.26018379807408226,0.031242281819679092,0.0,0.0,-0.0589724792396408,0.0,-0.0036303695482720086,0.0,0.059103120040169654,0.0,0.0,0.0,0.0,0.0,0.007009507295301178,0.05862356489568452,0.0,-0.009337014678128084,0.0,0.0,0.0,0.0508923787576018,0.0,0.0,0.0,0.0,0.0,0.0,0.0,0.0,0.0,-0.012569954140651738,0.0,0.0,0.0,0.0,0.0,0.0,0.0,0.0,0.0,0.01335900638328021,0.0,0.0,0.0,0.0,0.0,0.0,0.0,0.0,0.0,0.0,0.0,0.0,0.0,0.0,0.0,0.0,-0.02419026847984998,0.0,0.0,0.0,0.0,0.0,0.0,0.0,0.0,0.0,0.0,0.0,0.0,-0.01576121158542444,-0.006299859753927067,0.007278226077680162,-0.010308193933275962,-0.01116956778099732,0.0030164014463321238,0.0,0.0,0.0,0.0,0.0,0.0,0.0,0.0,0.0,0.0,0.0,0.0,0.0,0.0,0.0,0.0,0.0,0.0,0.0,0.0,0.0,0.0,0.0,0.0,0.0,0.0,0.0,0.0,0.0,0.0,0.0,0.0,0.0,0.0,0.0,0.0,0.0,0.0,0.0,0.0,0.0,0.0,0.0,0.0,0.0,0.0,0.0,0.0,0.0,0.0,0.0,0.0,0.0,0.0,0.0,0.0,0.0,0.0,0.0,0.0,0.0,0.0,0.0,0.0,0.0,0.0,0.0,0.0,0.0,0.0,0.0,0.0,0.0,0.0,0.0,0.0,0.0,0.0,0.0,0.0,0.0,0.0,0.0,0.0,0.0,0.0,0.0,0.0,0.0,0.0,0.0,0.0,0.0,0.0,0.0,0.0,0.0,0.0,0.0,0.0,0.0,0.0,-0.02056740369104351,-0.02755468289811799,-0.025268767931991107,-0.045915395382914954,-0.03469568816943629,-0.04563724166828758,0.0,0.0,0.0,0.0,0.0,0.0,0.0,0.0,0.0,0.0,0.0,0.0,0.0,0.0,0.0,0.0,0.0,0.0,0.0,0.0,0.0,0.0,0.0,0.0,0.0,0.0,0.0,0.0,0.0,0.0,0.0,0.0,0.0,0.0,0.0,0.0,0.0,0.0,0.0,0.0,0.0,0.0,0.0,0.0,0.0,0.0,0.0,0.0,0.0,0.0,0.0,0.0,0.0,0.0,0.0,0.0,0.0,0.0,0.0,0.0,0.0,0.0,0.0,0.0,0.0,0.0,0.0,0.0,0.0,0.0,0.0,0.0,0.0,0.0,0.0,0.0,0.0,0.0,0.0,0.0,0.0,0.0,0.0,0.0,0.0,0.0,0.0,0.0,0.0,0.0,0.0,0.0,0.0,0.03562318601659181,0.010154239362089939,0.008385060375717679,0.0,0.001121512702872958,0.010466663611912501,-0.03552781168427586,-0.005781789749170676,0.0,-0.014885186467227399,-0.18165591059227423,-0.02975533671590408,-0.037564413795040885,-0.011206980422543568,-0.054592161414410804,-0.006250877703241153,0.0,-0.12842222153065314,0.0,-0.05248320175470256,-0.10731156957316032,0.029440275665919037,-0.02183862093049537,0.0,-0.06109940820257316,-0.15059246625380507,-0.007080053596689797,-0.06503375525991463,0.0,-0.06072384839811848,0.0,0.0,0.0,0.0,0.0,0.0,0.0,0.0,0.0,0.0,0.0,0.0,0.0,0.0,0.0,0.0,0.0,0.0,0.0,0.0,0.0,0.0,0.0,0.0,0.0,0.0,0.0,0.0,0.0,0.0,0.0,0.0,0.0,0.0,0.0,0.0,0.0,0.0,0.0,0.0,0.0,0.0,0.0,0.0,0.0,0.0,0.0,0.0,0.0,0.0,0.0,0.0,0.0,0.0,0.0,0.0,0.0,0.0,0.0,0.0,0.0,0.0,0.0,0.0,0.0,0.0,0.0,0.0,0.0,0.0,0.0,0.0,0.0,0.0,0.0,0.0,0.0,0.0,0.0,0.0,0.0,0.0,0.0,0.0,0.0,0.0,0.0,0.0,0.0,0.0,0.0,0.0,0.0,0.0,0.0,0.0,0.0,0.0,0.0,0.0,0.0,0.0,0.0,0.0,0.0,0.0,0.0,0.0,0.0,0.0,0.0,0.0,0.0,0.0,0.0,0.0,0.0,0.0,0.0,0.0,0.0,0.0,0.0,0.0,0.0,0.0,0.0,0.0,0.0,0.0,0.0,0.0,0.0,0.0,0.0,0.0,0.0,0.0,0.0,0.0,0.0,0.0,0.0,0.0,0.0,0.0,0.0,0.0,0.0,0.0,0.0,0.0,0.0,0.0,0.0,0.0,0.0,0.0,0.0,0.0,0.0,0.0,0.0,0.0,0.0,0.0,0.0,0.0,0.0,0.0,0.0,0.0,0.0,0.0,0.0,0.0,0.0,0.0,0.0,0.0,0.0,0.0,0.0,0.0,0.0,0.0,0.0,0.0,0.0,0.0,0.0,0.0,0.0,0.0,0.0,0.0,0.0,0.0,0.0,0.0,0.0,0.0,0.0,0.0,0.0,0.0,0.0,0.0,0.0,0.0,0.0,0.0,0.0,0.0,0.0,0.0,0.0,0.0,0.0,0.0,0.0,0.0,0.0,0.0,0.0,0.0,0.0,0.0,0.0,0.0,0.0,0.0,0.0,0.0,0.0,0.0,0.0,0.0,0.0,0.0,0.0,0.0,0.0,0.0,0.0,0.0,0.0,0.0,0.0,0.0,0.0,0.0,0.0,0.0,0.0,0.0,0.0,0.0,0.0,0.0,0.0,0.0,0.0,0.0,0.0,0.0,0.0,0.0,0.0,0.0,0.0,0.0,0.0,0.0,0.0,0.0,0.0,0.0,0.0,0.0,0.0,0.0,0.0,0.0,0.0,0.0,0.0,0.0,0.0,0.0,0.0,0.0,0.0,0.0,0.0,0.0,0.0,0.0,0.0,0.0,0.0,0.0,0.0,0.0,0.0,0.0,0.0,0.0,0.0,0.0,0.0,0.0,0.0,0.0,0.0,0.0,0.0,0.0,0.0,0.0,0.0,0.0,0.0,0.0,0.0,0.0,0.0,0.0,0.0,0.0,0.0,0.0,0.0,0.0,0.0,0.0,0.0,0.0,0.0,0.0,0.0,0.0,0.0,0.0,0.0,0.0,0.0,0.0,0.0,0.0,0.0,0.0,0.0,0.0,0.0,0.0,0.0,0.0,0.0,0.0,0.0,0.0,0.0,0.0,0.0,0.0,0.0,0.0,0.0,0.0,0.0,0.0,0.0,0.0,0.0,0.0,0.0,0.0,0.0,0.0,0.0,0.0,0.0,0.0,0.0,0.0,0.0,0.0,0.0,0.0,0.0,0.0,0.0,0.0,0.0,0.0,0.0,0.0,0.0,0.0,0.0,0.0,0.0,0.0,0.0,0.0,0.0,0.0,0.0,0.0,0.0,0.0,0.0,0.0,0.0,0.0,0.0,0.0,0.0,0.0,0.0,0.0,0.0,0.0,0.0,0.0,0.0,0.0,0.0,0.0,0.0,0.0,0.0,0.0,0.0,0.0,0.0,0.0,0.0,0.0,0.0,0.0,0.0,0.0,0.0,0.0,0.0,0.0,0.0,0.0,0.0,0.0,0.0,0.0,0.0,0.0,0.0,0.0,0.0,0.0,0.0,0.0,0.0,0.0,0.0,0.0,0.0,0.0,0.0,0.0,0.0,0.0,0.0,0.0,0.0,0.0,0.0,0.0,0.0,0.0,0.0,0.0,0.0,0.0,0.0,0.0,0.0,0.0,0.0,0.0,0.0,0.0,0.0,0.0,0.0,0.0,0.0,0.0,0.0,0.0,0.0,0.0,0.0,0.0,0.0,0.0,0.0,0.0,0.0,0.0,0.0,0.0,0.0,0.0,0.0,0.0,0.0,0.0,0.0,0.0,0.0,0.0,0.0,0.0,0.0,0.0,0.0,0.0,0.0,0.0,0.0,0.0,0.0,0.0,0.0,0.0,0.0,0.0,0.0,0.0,0.0,0.0,0.0,0.0,0.0,0.0,-0.030137503086620776,0.0,0.0,0.0,0.0,0.0,0.0,0.0,0.0,0.0,0.0,0.0,0.0,0.0,0.0,0.0,0.0,0.0,0.0,0.0,0.0,0.0,0.0,0.0,0.0,0.0,0.0,0.0,0.0,0.0,0.0,0.0,0.0,0.0,0.0,0.0,0.0,0.0,0.0,0.0,0.0,0.0,0.0,0.0,0.0,0.0,0.0,0.0,0.0,0.0,0.0,0.0,0.0,0.0,0.0,0.0,0.0,0.0,0.0,0.0,0.0,0.0,0.0,0.0,0.0,0.0,0.0,0.0,0.0,0.0,0.0,0.0,0.0,0.0,0.0,0.0,0.0,0.0,0.0,0.0,0.0,0.0,0.0,0.0,0.0,0.0,0.0,0.0,0.0,0.0,0.0,0.0,0.0,0.0,0.0,0.0,0.0,0.0,0.0,0.0,0.0,0.0,0.0,0.0,0.0,0.0,0.0,0.0,0.0,0.0,0.0,0.0,0.0,0.0,0.006284747686356898,0.005127219062246756,0.0,0.02371447148347413,0.0,-0.025056412766452398,0.07947868370845089,0.014624489777484963,-0.1270075790928854,0.029059604461636572,0.0,-0.047742476153777726,-0.008460599615419409,0.09358381452395481,0.05531995243042221,-0.06593711550276156,-0.2601837980740826,0.03124228181967871,0.0,0.0,-0.05897247923964085,0.0,-0.0036303695482723447,0.0,0.05910312004016992,0.0,0.0,0.0,0.0,0.0,0.007009507295301824,0.05862356489568297,0.0,-0.009337014678128084,0.0,0.0,0.0,0.050892378757602164,0.0,0.0,0.0,0.0,0.0,0.0,0.0,0.0,0.0,-0.012569954140651738,0.0,0.0,0.0,0.0,0.0,0.0,0.0,0.0,0.0,0.013359006383280659,0.0,0.0,0.0,0.0,0.0,0.0,0.0,0.0,0.0,0.0,0.0,0.0,0.0,0.0,0.0,0.0,-0.02419026847984863,0.0,0.0,0.0,0.0,0.0,0.0,0.0,0.0,0.0,0.0]\n",
      "Intercept: -0.4767368390001787\n"
     ]
    }
   ],
   "source": [
    "test_predictions = train(train_df, test_df)"
   ]
  },
  {
   "cell_type": "code",
   "execution_count": 17,
   "metadata": {},
   "outputs": [
    {
     "name": "stdout",
     "output_type": "stream",
     "text": [
      "Accuracy on test data: 0.728247708008995\n",
      "Precision on test data: 0.7284401333276622\n"
     ]
    }
   ],
   "source": [
    "accuracy, precision = get_accuracy_precision(test_predictions)\n",
    "\n",
    "print(f\"Accuracy on test data: {accuracy}\")\n",
    "print(f\"Precision on test data: {precision}\")"
   ]
  },
  {
   "cell_type": "code",
   "execution_count": 18,
   "metadata": {},
   "outputs": [
    {
     "data": {
      "image/png": "[encoded data removed]",
      "text/plain": [
       "<Figure size 1000x600 with 1 Axes>"
      ]
     },
     "metadata": {},
     "output_type": "display_data"
    },
    {
     "name": "stdout",
     "output_type": "stream",
     "text": [
      "           Result  count\n",
      "0  False Negative    736\n",
      "1   True Positive   2178\n",
      "2  False Positive    835\n",
      "3   True Negative   2032\n"
     ]
    }
   ],
   "source": [
    "summary_df = plot_results(test_predictions)\n",
    "print(summary_df)"
   ]
  }
 ],
 "metadata": {
  "kernelspec": {
   "display_name": "base",
   "language": "python",
   "name": "python3"
  },
  "language_info": {
   "codemirror_mode": {
    "name": "ipython",
    "version": 3
   },
   "file_extension": ".py",
   "mimetype": "text/x-python",
   "name": "python",
   "nbconvert_exporter": "python",
   "pygments_lexer": "ipython3",
   "version": "3.12.4"
  }
 },
 "nbformat": 4,
 "nbformat_minor": 2
}
