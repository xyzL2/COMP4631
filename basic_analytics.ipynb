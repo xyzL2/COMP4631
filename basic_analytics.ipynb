{
 "cells": [
  {
   "cell_type": "code",
   "execution_count": 1,
   "metadata": {},
   "outputs": [
    {
     "name": "stdout",
     "output_type": "stream",
     "text": [
      "JAVA_HOME: /opt/homebrew/Cellar/openjdk@17/17.0.13/libexec/openjdk.jdk/Contents/Home\n",
      "openjdk version \"17.0.13\" 2024-10-15\n",
      "OpenJDK Runtime Environment Homebrew (build 17.0.13+0)\n",
      "OpenJDK 64-Bit Server VM Homebrew (build 17.0.13+0, mixed mode, sharing)\n"
     ]
    }
   ],
   "source": [
    "import os\n",
    "import subprocess\n",
    "\n",
    "java_home = subprocess.check_output([\"/usr/libexec/java_home\", \"-v\", \"17\"]).strip().decode('utf-8')\n",
    "\n",
    "# Set JAVA_HOME and PATH\n",
    "os.environ[\"JAVA_HOME\"] = java_home\n",
    "os.environ[\"PATH\"] = os.path.join(java_home, \"bin\") + \":\" + os.environ[\"PATH\"]\n",
    "os.environ[\"PYSPARK_SUBMIT_ARGS\"] = \"--master local pyspark-shell\"\n",
    "\n",
    "# Verify JAVA_HOME and Java version\n",
    "print(\"JAVA_HOME:\", os.environ['JAVA_HOME'])\n",
    "!java -version"
   ]
  },
  {
   "cell_type": "code",
   "execution_count": 2,
   "metadata": {},
   "outputs": [
    {
     "name": "stderr",
     "output_type": "stream",
     "text": [
      "24/11/18 16:02:09 WARN Utils: Your hostname, MacBook-Air-von-Linda.local resolves to a loopback address: 127.0.0.1; using 10.89.101.139 instead (on interface en0)\n",
      "24/11/18 16:02:09 WARN Utils: Set SPARK_LOCAL_IP if you need to bind to another address\n",
      "Setting default log level to \"WARN\".\n",
      "To adjust logging level use sc.setLogLevel(newLevel). For SparkR, use setLogLevel(newLevel).\n",
      "24/11/18 16:02:10 WARN NativeCodeLoader: Unable to load native-hadoop library for your platform... using builtin-java classes where applicable\n",
      "24/11/18 16:02:10 WARN Utils: Service 'SparkUI' could not bind on port 4040. Attempting port 4041.\n",
      "                                                                                \r"
     ]
    }
   ],
   "source": [
    "from pyspark.sql import SparkSession\n",
    "\n",
    "spark = SparkSession.builder.appName('CsvColumnSelection').getOrCreate()\n",
    "\n",
    "df_spark = spark.read.csv('Traffic_Crashes.csv', header=True, inferSchema=True)\n",
    "\n",
    "\n"
   ]
  },
  {
   "cell_type": "code",
   "execution_count": null,
   "metadata": {},
   "outputs": [
    {
     "name": "stdout",
     "output_type": "stream",
     "text": [
      "the fatal rate is 0.009359466693265506\n"
     ]
    }
   ],
   "source": [
    "# basic analysis\n",
    "\n",
    "filtered_death = df_spark.filter(df_spark[\"number_killed\"]>0)\n",
    "\n",
    "print(f'the fatality rate is {filtered_death.count()/(df_spark.count())}')\n",
    "\n"
   ]
  },
  {
   "cell_type": "code",
   "execution_count": 9,
   "metadata": {},
   "outputs": [],
   "source": [
    "from pyspark.sql.functions import col, sum\n",
    "\n",
    "def get_highest_count(df, feature, ):\n",
    "    return df.groupBy(feature).agg(sum(\"number_injured\").alias(\"total_injuries\"))"
   ]
  },
  {
   "cell_type": "code",
   "execution_count": 12,
   "metadata": {},
   "outputs": [
    {
     "name": "stdout",
     "output_type": "stream",
     "text": [
      "the most injuries occured on street: MISSION ST with 3255 injuries.\n"
     ]
    }
   ],
   "source": [
    "from pyspark.sql.functions import col, sum\n",
    "\n",
    "road_with_most_injuries = get_highest_count(df_spark, \"primary_rd\")\n",
    "most_injuries_street = road_with_most_injuries.orderBy(\n",
    "    col(\"total_injuries\").desc()\n",
    ").first()\n",
    "\n",
    "print(\n",
    "    f'the most injuries occured on street: {most_injuries_street[\"primary_rd\"]} with {most_injuries_street[\"total_injuries\"]} injuries.'\n",
    ")"
   ]
  }
 ],
 "metadata": {
  "kernelspec": {
   "display_name": "Python 3",
   "language": "python",
   "name": "python3"
  },
  "language_info": {
   "codemirror_mode": {
    "name": "ipython",
    "version": 3
   },
   "file_extension": ".py",
   "mimetype": "text/x-python",
   "name": "python",
   "nbconvert_exporter": "python",
   "pygments_lexer": "ipython3",
   "version": "3.9.6"
  }
 },
 "nbformat": 4,
 "nbformat_minor": 2
}
