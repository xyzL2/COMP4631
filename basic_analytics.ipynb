{
 "cells": [
  {
   "cell_type": "code",
   "execution_count": 1,
   "metadata": {},
   "outputs": [
    {
     "name": "stdout",
     "output_type": "stream",
     "text": [
      "JAVA_HOME: /opt/homebrew/Cellar/openjdk@17/17.0.13/libexec/openjdk.jdk/Contents/Home\n",
      "openjdk version \"17.0.13\" 2024-10-15\n",
      "OpenJDK Runtime Environment Homebrew (build 17.0.13+0)\n",
      "OpenJDK 64-Bit Server VM Homebrew (build 17.0.13+0, mixed mode, sharing)\n"
     ]
    }
   ],
   "source": [
    "import os\n",
    "import subprocess\n",
    "\n",
    "java_home = subprocess.check_output([\"/usr/libexec/java_home\", \"-v\", \"17\"]).strip().decode('utf-8')\n",
    "\n",
    "# Set JAVA_HOME and PATH\n",
    "os.environ[\"JAVA_HOME\"] = java_home\n",
    "os.environ[\"PATH\"] = os.path.join(java_home, \"bin\") + \":\" + os.environ[\"PATH\"]\n",
    "os.environ[\"PYSPARK_SUBMIT_ARGS\"] = \"--master local pyspark-shell\"\n",
    "\n",
    "# Verify JAVA_HOME and Java version\n",
    "print(\"JAVA_HOME:\", os.environ['JAVA_HOME'])\n",
    "!java -version"
   ]
  },
  {
   "cell_type": "code",
   "execution_count": 28,
   "metadata": {},
   "outputs": [
    {
     "name": "stderr",
     "output_type": "stream",
     "text": [
      "                                                                                \r"
     ]
    }
   ],
   "source": [
    "from pyspark.sql import SparkSession\n",
    "\n",
    "spark = SparkSession.builder.appName('CsvColumnSelection').getOrCreate()\n",
    "spark.sparkContext.setLogLevel(\"ERROR\")\n",
    "\n",
    "df_spark = spark.read.csv('Traffic_Crashes.csv', header=True, inferSchema=True)"
   ]
  },
  {
   "cell_type": "code",
   "execution_count": null,
   "metadata": {},
   "outputs": [
    {
     "name": "stdout",
     "output_type": "stream",
     "text": [
      "the fatal rate is 0.009359466693265506\n"
     ]
    }
   ],
   "source": [
    "# basic analysis\n",
    "\n",
    "filtered_death = df_spark.filter(df_spark[\"number_killed\"]>0)\n",
    "\n",
    "print(f'the fatality rate is {filtered_death.count()/(df_spark.count())}')\n",
    "\n"
   ]
  },
  {
   "cell_type": "code",
   "execution_count": 19,
   "metadata": {},
   "outputs": [],
   "source": [
    "from pyspark.sql.functions import sum, col\n",
    "\n",
    "def get_highest_count(df, feature, filter, res):\n",
    "    most = df.groupBy(feature).agg(sum(filter).alias(res))\n",
    "    return most.orderBy(col(res).desc()).first()"
   ]
  },
  {
   "cell_type": "code",
   "execution_count": 30,
   "metadata": {},
   "outputs": [
    {
     "name": "stdout",
     "output_type": "stream",
     "text": [
      "the most injuries occured on street: MISSION ST with 3255 injuries.\n",
      "the most injuries occured with the following road condition: \"No Unusual Condition\" with 71541 injuries\n",
      "the most injuries had the following distance away from an intersection: Intersection <= 20ft with 50277 injuries.\n"
     ]
    }
   ],
   "source": [
    "from pyspark.sql.functions import col\n",
    "\n",
    "road_with_most_injuries = get_highest_count(\n",
    "    df_spark, \"primary_rd\", \"number_injured\", \"total_injuries\"\n",
    ")\n",
    "\n",
    "print(\n",
    "    f'the most injuries occured on street: {road_with_most_injuries[\"primary_rd\"]} with {road_with_most_injuries[\"total_injuries\"]} injuries.'\n",
    ")\n",
    "\n",
    "road_condition_most_injuries = get_highest_count(\n",
    "    df_spark, \"road_cond_1\", \"number_injured\", \"total_injuries\"\n",
    ")\n",
    "\n",
    "print(\n",
    "    f'the most injuries occured with the following road condition: \"{road_condition_most_injuries[\"road_cond_1\"]}\" with {road_condition_most_injuries[\"total_injuries\"]} injuries'\n",
    ")\n",
    "distance_intersect_with_most_injuries = get_highest_count(\n",
    "    df_spark, \"intersection\", \"number_injured\", \"total_injuries\"\n",
    ")\n",
    "\n",
    "print(\n",
    "    f'the most injuries had the following distance away from an intersection: {distance_intersect_with_most_injuries[\"intersection\"]} with {distance_intersect_with_most_injuries[\"total_injuries\"]} injuries.'\n",
    ")"
   ]
  },
  {
   "cell_type": "code",
   "execution_count": 32,
   "metadata": {},
   "outputs": [
    {
     "name": "stdout",
     "output_type": "stream",
     "text": [
      "the most deaths occured on street: MISSION ST with 27 deaths.\n",
      "the most deaths occured on street: No Unusual Condition with 530 deaths.\n",
      "the most injuries had the following distance away from an intersection: Intersection <= 20ft with 341 injuries.\n"
     ]
    }
   ],
   "source": [
    "road_with_most_deaths = get_highest_count(df_spark, \"primary_rd\", \"number_killed\", \"total_deaths\")\n",
    "print(\n",
    "    f'the most deaths occured on street: {road_with_most_deaths[\"primary_rd\"]} with {road_with_most_deaths[\"total_deaths\"]} deaths.'\n",
    ")\n",
    "road_cond_with_most_deaths = get_highest_count(\n",
    "    df_spark, \"road_cond_1\", \"number_killed\", \"total_deaths\"\n",
    ")\n",
    "print(\n",
    "    f'the most deaths occured on street: {road_cond_with_most_deaths[\"road_cond_1\"]} with {road_cond_with_most_deaths[\"total_deaths\"]} deaths.'\n",
    ")\n",
    "\n",
    "distance_intersect_with_most_deaths = get_highest_count(\n",
    "    df_spark, \"intersection\", \"number_killed\", \"total_deaths\"\n",
    ")\n",
    "print(\n",
    "    f'the most injuries had the following distance away from an intersection: {distance_intersect_with_most_deaths[\"intersection\"]} with {distance_intersect_with_most_deaths[\"total_deaths\"]} injuries.'\n",
    ")"
   ]
  }
 ],
 "metadata": {
  "kernelspec": {
   "display_name": "Python 3",
   "language": "python",
   "name": "python3"
  },
  "language_info": {
   "codemirror_mode": {
    "name": "ipython",
    "version": 3
   },
   "file_extension": ".py",
   "mimetype": "text/x-python",
   "name": "python",
   "nbconvert_exporter": "python",
   "pygments_lexer": "ipython3",
   "version": "3.9.6"
  }
 },
 "nbformat": 4,
 "nbformat_minor": 2
}
