{
 "cells": [
  {
   "cell_type": "code",
   "execution_count": 1,
   "metadata": {},
   "outputs": [
    {
     "name": "stdout",
     "output_type": "stream",
     "text": [
      "+------------+\n",
      "|road_surface|\n",
      "+------------+\n",
      "|         Dry|\n",
      "|         Dry|\n",
      "|         Dry|\n",
      "|         Dry|\n",
      "|         Dry|\n",
      "|         Dry|\n",
      "|    Slippery|\n",
      "|         Dry|\n",
      "|         Dry|\n",
      "|         Dry|\n",
      "|         Dry|\n",
      "|         Dry|\n",
      "|         Dry|\n",
      "|  Not Stated|\n",
      "|         Dry|\n",
      "|         Dry|\n",
      "|         Dry|\n",
      "|         Dry|\n",
      "|         Dry|\n",
      "|  Not Stated|\n",
      "+------------+\n",
      "only showing top 20 rows\n",
      "\n"
     ]
    }
   ],
   "source": [
    "from pyspark.sql import SparkSession\n",
    "\n",
    "spark = SparkSession.builder.appName('CsvColumnSelection').getOrCreate()\n",
    "\n",
    "df_spark = spark.read.csv('Traffic_Crashes.csv', header=True, inferSchema=True)\n",
    "\n",
    "column_data_spark = df_spark.select('road_surface')\n",
    "\n",
    "# column_data_spark.show()\n",
    "\n",
    "# comment"
   ]
  }
 ],
 "metadata": {
  "kernelspec": {
   "display_name": "Python 3",
   "language": "python",
   "name": "python3"
  },
  "language_info": {
   "codemirror_mode": {
    "name": "ipython",
    "version": 3
   },
   "file_extension": ".py",
   "mimetype": "text/x-python",
   "name": "python",
   "nbconvert_exporter": "python",
   "pygments_lexer": "ipython3",
   "version": "3.12.4"
  }
 },
 "nbformat": 4,
 "nbformat_minor": 2
}
