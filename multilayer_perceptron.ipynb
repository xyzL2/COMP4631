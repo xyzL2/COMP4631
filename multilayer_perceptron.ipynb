{
 "cells": [
  {
   "cell_type": "code",
   "execution_count": 13,
   "metadata": {},
   "outputs": [
    {
     "name": "stdout",
     "output_type": "stream",
     "text": [
      "JAVA_HOME: /Library/Java/JavaVirtualMachines/jdk-17.jdk/Contents/Home\n",
      "java version \"17.0.8\" 2023-07-18 LTS\n",
      "Java(TM) SE Runtime Environment (build 17.0.8+9-LTS-211)\n",
      "Java HotSpot(TM) 64-Bit Server VM (build 17.0.8+9-LTS-211, mixed mode, sharing)\n"
     ]
    }
   ],
   "source": [
    "import os\n",
    "import subprocess\n",
    "\n",
    "java_home = subprocess.check_output([\"/usr/libexec/java_home\", \"-v\", \"17\"]).strip().decode('utf-8')\n",
    "\n",
    "# Set JAVA_HOME and PATH\n",
    "os.environ[\"JAVA_HOME\"] = java_home\n",
    "os.environ[\"PATH\"] = os.path.join(java_home, \"bin\") + \":\" + os.environ[\"PATH\"]\n",
    "os.environ[\"PYSPARK_SUBMIT_ARGS\"] = \"--master local pyspark-shell\"\n",
    "\n",
    "# Verify JAVA_HOME and Java version\n",
    "print(\"JAVA_HOME:\", os.environ['JAVA_HOME'])\n",
    "!java -version"
   ]
  },
  {
   "cell_type": "code",
   "execution_count": 14,
   "metadata": {},
   "outputs": [],
   "source": [
    "from pyspark.sql import SparkSession\n",
    "\n",
    "spark = SparkSession.builder \\\n",
    "    .appName(\"MLP\") \\\n",
    "    .config(\"spark.executor.memory\", \"4g\") \\\n",
    "    .config(\"spark.driver.memory\", \"4g\") \\\n",
    "    .config(\"spark.executor.cores\", \"4\") \\\n",
    "    .config(\"spark.executor.instances\", \"4\") \\\n",
    "    .getOrCreate()"
   ]
  },
  {
   "cell_type": "code",
   "execution_count": 15,
   "metadata": {},
   "outputs": [],
   "source": [
    "file_path = \"output/processedv3.parquet\"\n",
    "df = spark.read.parquet(file_path)"
   ]
  },
  {
   "cell_type": "code",
   "execution_count": 16,
   "metadata": {},
   "outputs": [
    {
     "name": "stdout",
     "output_type": "stream",
     "text": [
      "+-------+--------+--------+-------+------+--------+--------+--------+--------+-------+--------+--------+--------+-----+--------+--------+--------+--------+--------+---+\n",
      "|GENHLTH|_AGEG5YR|_RFHYPE6|EMPLOY1|_MICHD|_DRDXAR2|_HCVU653|_RFCHOL3|METVL12_|ALCDAY4|_BMI5CAT|DIFFWALK|_TOTINDA|EDUCA|_INCOMG1|CHCKDNY2|FALL12MN|SMOKE100|CVDINFR4|  y|\n",
      "+-------+--------+--------+-------+------+--------+--------+--------+--------+-------+--------+--------+--------+-----+--------+--------+--------+--------+--------+---+\n",
      "|    2.0|     9.0|     1.0|    2.0|   2.0|     2.0|     1.0|     2.0|   106.0|  220.0|     2.0|     2.0|     1.0|  6.0|     5.0|     2.0|     2.0|     2.0|     2.0|  0|\n",
      "|    3.0|     8.0|     1.0|    1.0|   2.0|     2.0|     1.0|     1.0|   104.0|  210.0|     4.0|     2.0|     1.0|  6.0|     5.0|     2.0|    88.0|     2.0|     2.0|  0|\n",
      "|    3.0|     7.0|     2.0|    1.0|   2.0|     2.0|     1.0|     2.0|   103.0|  888.0|     4.0|     1.0|     1.0|  4.0|     2.0|     2.0|    88.0|     1.0|     2.0|  1|\n",
      "|    3.0|     9.0|     1.0|    1.0|   2.0|     1.0|     1.0|     2.0|     2.0|  203.0|     4.0|     2.0|     2.0|  6.0|     1.0|     2.0|    88.0|     1.0|     2.0|  0|\n",
      "|    3.0|     8.0|     1.0|    1.0|   2.0|     1.0|     1.0|     1.0|   103.0|  888.0|     3.0|     2.0|     1.0|  6.0|     2.0|     2.0|    88.0|     2.0|     2.0|  0|\n",
      "+-------+--------+--------+-------+------+--------+--------+--------+--------+-------+--------+--------+--------+-----+--------+--------+--------+--------+--------+---+\n",
      "only showing top 5 rows\n",
      "\n",
      "root\n",
      " |-- GENHLTH: double (nullable = true)\n",
      " |-- _AGEG5YR: double (nullable = true)\n",
      " |-- _RFHYPE6: double (nullable = true)\n",
      " |-- EMPLOY1: double (nullable = true)\n",
      " |-- _MICHD: double (nullable = true)\n",
      " |-- _DRDXAR2: double (nullable = true)\n",
      " |-- _HCVU653: double (nullable = true)\n",
      " |-- _RFCHOL3: double (nullable = true)\n",
      " |-- METVL12_: double (nullable = true)\n",
      " |-- ALCDAY4: double (nullable = true)\n",
      " |-- _BMI5CAT: double (nullable = true)\n",
      " |-- DIFFWALK: double (nullable = true)\n",
      " |-- _TOTINDA: double (nullable = true)\n",
      " |-- EDUCA: double (nullable = true)\n",
      " |-- _INCOMG1: double (nullable = true)\n",
      " |-- CHCKDNY2: double (nullable = true)\n",
      " |-- FALL12MN: double (nullable = true)\n",
      " |-- SMOKE100: double (nullable = true)\n",
      " |-- CVDINFR4: double (nullable = true)\n",
      " |-- y: integer (nullable = true)\n",
      "\n"
     ]
    }
   ],
   "source": [
    "df.show(5)\n",
    "df.printSchema()"
   ]
  },
  {
   "cell_type": "code",
   "execution_count": 17,
   "metadata": {},
   "outputs": [
    {
     "name": "stdout",
     "output_type": "stream",
     "text": [
      "Dimensions of DataFrame: 95574 rows, 20 columns\n"
     ]
    }
   ],
   "source": [
    "num_columns = len(df.columns)\n",
    "num_rows = df.count()\n",
    "# Print the dimensions\n",
    "print(f\"Dimensions of DataFrame: {num_rows} rows, {num_columns} columns\")"
   ]
  },
  {
   "cell_type": "code",
   "execution_count": 18,
   "metadata": {},
   "outputs": [],
   "source": [
    "from pyspark.ml.feature import VectorAssembler\n",
    "from pyspark.ml.classification import MultilayerPerceptronClassifier\n",
    "from pyspark.ml.evaluation import MulticlassClassificationEvaluator\n",
    "from pyspark.ml.tuning import ParamGridBuilder, CrossValidator\n",
    "\n",
    "# Replace feature_cols with your actual feature column names\n",
    "feature_cols = df.columns\n",
    "feature_cols.remove(\"y\")\n",
    "\n",
    "# Create vector assembler\n",
    "assembler = VectorAssembler(inputCols=feature_cols, outputCol=\"features\")\n",
    "assembled_df = assembler.transform(df)\n",
    "\n",
    "# Split the data into training and test sets (80:20)\n",
    "train_df, test_df = assembled_df.randomSplit([0.8, 0.2], seed=42)"
   ]
  },
  {
   "cell_type": "code",
   "execution_count": 19,
   "metadata": {},
   "outputs": [
    {
     "name": "stderr",
     "output_type": "stream",
     "text": [
      "                                                                                \r"
     ]
    },
    {
     "name": "stdout",
     "output_type": "stream",
     "text": [
      "Training set count: 76338\n",
      "Test set count: 19236\n"
     ]
    },
    {
     "name": "stderr",
     "output_type": "stream",
     "text": [
      "                                                                                \r"
     ]
    }
   ],
   "source": [
    "# Show the counts of each split\n",
    "print(f\"Training set count: {train_df.count()}\")\n",
    "print(f\"Test set count: {test_df.count()}\")"
   ]
  },
  {
   "cell_type": "code",
   "execution_count": 26,
   "metadata": {},
   "outputs": [],
   "source": [
    "# Define the neural network architecture\n",
    "# [input layer size, hidden layer size, output layer size]\n",
    "layers = [len(feature_cols), 10, 2] \n",
    "\n",
    "# Create the MultilayerPerceptronClassifier\n",
    "mlp = MultilayerPerceptronClassifier(\n",
    "    layers=layers,\n",
    "    labelCol=\"y\",\n",
    "    featuresCol=\"features\",\n",
    "    maxIter=30,\n",
    "    blockSize=64,\n",
    "    seed=1\n",
    ")\n",
    "\n",
    "# Create parameter grid for Cross Validation\n",
    "paramGrid = ParamGridBuilder() \\\n",
    "    .addGrid(mlp.maxIter, [15, 30]) \\\n",
    "    .addGrid(mlp.blockSize, [64, 128]) \\\n",
    "    .build()\n",
    "\n",
    "# Create evaluator\n",
    "evaluator = MulticlassClassificationEvaluator(\n",
    "    labelCol=\"y\",\n",
    "    predictionCol=\"prediction\",\n",
    "    metricName=\"accuracy\"\n",
    ")\n",
    "\n",
    "# Create CrossValidator\n",
    "crossval = CrossValidator(\n",
    "    estimator=mlp,\n",
    "    estimatorParamMaps=paramGrid,\n",
    "    evaluator=evaluator,\n",
    "    numFolds=3\n",
    ")"
   ]
  },
  {
   "cell_type": "code",
   "execution_count": 27,
   "metadata": {},
   "outputs": [
    {
     "name": "stderr",
     "output_type": "stream",
     "text": [
      "                                                                                \r"
     ]
    }
   ],
   "source": [
    "# Fit the model using CrossValidator\n",
    "cv_model = crossval.fit(train_df)\n",
    "\n",
    "# Make predictions on test data\n",
    "predictions = cv_model.transform(test_df)"
   ]
  },
  {
   "cell_type": "code",
   "execution_count": 28,
   "metadata": {},
   "outputs": [
    {
     "name": "stdout",
     "output_type": "stream",
     "text": [
      "Test Accuracy = 0.8463817841547099\n",
      "+---+--------------------+----------+--------------------+\n",
      "|  y|         probability|prediction|            features|\n",
      "+---+--------------------+----------+--------------------+\n",
      "|  0|[0.78099211563174...|       0.0|[1.0,6.0,1.0,1.0,...|\n",
      "|  0|[0.91698653911844...|       0.0|[1.0,6.0,1.0,1.0,...|\n",
      "|  0|[0.83542044164316...|       0.0|[1.0,6.0,1.0,1.0,...|\n",
      "|  0|[0.78099211563141...|       0.0|[1.0,6.0,1.0,1.0,...|\n",
      "|  0|[0.91698656302483...|       0.0|[1.0,6.0,1.0,1.0,...|\n",
      "+---+--------------------+----------+--------------------+\n",
      "only showing top 5 rows\n",
      "\n"
     ]
    }
   ],
   "source": [
    "# Evaluate the model\n",
    "accuracy = evaluator.evaluate(predictions)\n",
    "print(f\"Test Accuracy = {accuracy}\")\n",
    "\n",
    "# Show sample predictions\n",
    "predictions.select(\"y\", \"probability\", \"prediction\", \"features\").show(5)\n"
   ]
  },
  {
   "cell_type": "code",
   "execution_count": 29,
   "metadata": {},
   "outputs": [
    {
     "name": "stdout",
     "output_type": "stream",
     "text": [
      "True Negative count: 16281\n",
      "False Positive count: 0\n",
      "False Negative count: 2955\n",
      "True Positive count: 0\n"
     ]
    }
   ],
   "source": [
    "# Calculate the confusion matrix\n",
    "true_negative = predictions.filter(\"y=0\").filter(\"prediction=0\").count()\n",
    "print(f\"True Negative count: {true_negative}\")\n",
    "false_positive = predictions.filter(\"y=0\").filter(\"prediction=1\").count()\n",
    "print(f\"False Positive count: {false_positive}\")\n",
    "false_negative = predictions.filter(\"y=1\").filter(\"prediction=0\").count()\n",
    "print(f\"False Negative count: {false_negative}\")\n",
    "true_positive = predictions.filter(\"y=1\").filter(\"prediction=1\").count()\n",
    "print(f\"True Positive count: {true_positive}\")"
   ]
  },
  {
   "cell_type": "code",
   "execution_count": 30,
   "metadata": {},
   "outputs": [
    {
     "data": {
      "image/png": "[encoded data removed]",
      "text/plain": [
       "<Figure size 640x480 with 2 Axes>"
      ]
     },
     "metadata": {},
     "output_type": "display_data"
    }
   ],
   "source": [
    "#Plot the confusion matrix\n",
    "from pyspark.sql.types import IntegerType\n",
    "import matplotlib.pyplot as plt\n",
    "import numpy as np\n",
    "from sklearn import metrics\n",
    "\n",
    "actual = np.array(test_df.select(\"y\").collect())\n",
    "predicted = predictions.withColumn(\"prediction\", predictions[\"prediction\"].cast(IntegerType()))\n",
    "predicted = np.array(predicted.select(\"prediction\").collect())\n",
    "\n",
    "confusion_matrix = metrics.confusion_matrix(actual, predicted)\n",
    "\n",
    "cm_display = metrics.ConfusionMatrixDisplay(confusion_matrix = confusion_matrix, display_labels = [0, 1])\n",
    "\n",
    "cm_display.plot()\n",
    "plt.show()"
   ]
  }
 ],
 "metadata": {
  "kernelspec": {
   "display_name": "Python 3.9.6 64-bit",
   "language": "python",
   "name": "python3"
  },
  "language_info": {
   "codemirror_mode": {
    "name": "ipython",
    "version": 3
   },
   "file_extension": ".py",
   "mimetype": "text/x-python",
   "name": "python",
   "nbconvert_exporter": "python",
   "pygments_lexer": "ipython3",
   "version": "3.9.6"
  },
  "orig_nbformat": 4,
  "vscode": {
   "interpreter": {
    "hash": "31f2aee4e71d21fbe5cf8b01ff0e069b9275f58929596ceb00d14d90e3e16cd6"
   }
  }
 },
 "nbformat": 4,
 "nbformat_minor": 2
}
